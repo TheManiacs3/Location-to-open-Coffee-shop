{
 "cells": [
  {
   "cell_type": "code",
   "execution_count": 1,
   "metadata": {
    "colab": {
     "base_uri": "https://localhost:8080/"
    },
    "id": "VwiUaeFPs7wr",
    "outputId": "d8630732-f25a-463d-9b34-a6953942fa38"
   },
   "outputs": [],
   "source": [
    "import matplotlib.pyplot as plt\n",
    "from pandas.io.json import json_normalize # tranform JSON file into a pandas dataframe\n",
    "import requests  # library to handle requests\n",
    "import json  # library to handle JSON files\n",
    "import matplotlib.colors as colors\n",
    "import matplotlib.cm as cm\n",
    "from sklearn.cluster import KMeans\n",
    "import folium  # map rendering library\n",
    "from geopy.geocoders import Nominatim # convert an address into latitude and longitude values\n",
    "import numpy as np\n",
    "import pandas as pd\n",
    "import numpy\n",
    "from bs4 import BeautifulSoup\n",
    "from sklearn.cluster import DBSCAN \n",
    "from sklearn.preprocessing import StandardScaler \n",
    "from sklearn.neighbors import NearestNeighbors"
   ]
  },
  {
   "cell_type": "markdown",
   "metadata": {
    "id": "sz3W3v2no_7J"
   },
   "source": [
    "#Get the list of Toronto Neighbourhood\n",
    "The list is obtained from wikiepdia and extracted using BeautifulSoup"
   ]
  },
  {
   "cell_type": "markdown",
   "metadata": {
    "id": "mYEgRb-5tulL"
   },
   "source": [
    "links: \n",
    "- https://en.wikipedia.org/wiki/List_of_postal_codes_of_Canada:_M\n",
    "- https://cocl.us/Geospatial_data"
   ]
  },
  {
   "cell_type": "markdown",
   "metadata": {
    "id": "ah_Tlut8tXep"
   },
   "source": [
    "Webscraping Toronto Neighbourhood Data from Wikipedia"
   ]
  },
  {
   "cell_type": "code",
   "execution_count": 2,
   "metadata": {
    "id": "KgdtDZIstReF"
   },
   "outputs": [],
   "source": [
    "url='https://en.wikipedia.org/wiki/List_of_postal_codes_of_Canada:_M'\n",
    "data  = requests.get(url).text"
   ]
  },
  {
   "cell_type": "code",
   "execution_count": 3,
   "metadata": {
    "id": "UfVpBXCNtR4o"
   },
   "outputs": [],
   "source": [
    "soup = BeautifulSoup(data,\"html5lib\")"
   ]
  },
  {
   "cell_type": "code",
   "execution_count": 4,
   "metadata": {
    "colab": {
     "base_uri": "https://localhost:8080/",
     "height": 424
    },
    "id": "J7PKd_f3tSE4",
    "outputId": "9f0b1294-1ce1-4624-84c1-fa4286706248"
   },
   "outputs": [
    {
     "data": {
      "text/html": [
       "<div>\n",
       "<style scoped>\n",
       "    .dataframe tbody tr th:only-of-type {\n",
       "        vertical-align: middle;\n",
       "    }\n",
       "\n",
       "    .dataframe tbody tr th {\n",
       "        vertical-align: top;\n",
       "    }\n",
       "\n",
       "    .dataframe thead th {\n",
       "        text-align: right;\n",
       "    }\n",
       "</style>\n",
       "<table border=\"1\" class=\"dataframe\">\n",
       "  <thead>\n",
       "    <tr style=\"text-align: right;\">\n",
       "      <th></th>\n",
       "      <th>Postal Code</th>\n",
       "      <th>Borough</th>\n",
       "      <th>Neighborhood</th>\n",
       "    </tr>\n",
       "  </thead>\n",
       "  <tbody>\n",
       "    <tr>\n",
       "      <th>0</th>\n",
       "      <td>M3A</td>\n",
       "      <td>North York</td>\n",
       "      <td>Parkwoods</td>\n",
       "    </tr>\n",
       "    <tr>\n",
       "      <th>1</th>\n",
       "      <td>M4A</td>\n",
       "      <td>North York</td>\n",
       "      <td>Victoria Village</td>\n",
       "    </tr>\n",
       "    <tr>\n",
       "      <th>2</th>\n",
       "      <td>M5A</td>\n",
       "      <td>Downtown Toronto</td>\n",
       "      <td>Regent Park, Harbourfront</td>\n",
       "    </tr>\n",
       "    <tr>\n",
       "      <th>3</th>\n",
       "      <td>M6A</td>\n",
       "      <td>North York</td>\n",
       "      <td>Lawrence Manor, Lawrence Heights</td>\n",
       "    </tr>\n",
       "    <tr>\n",
       "      <th>4</th>\n",
       "      <td>M7A</td>\n",
       "      <td>Queen's Park</td>\n",
       "      <td>Ontario Provincial Government</td>\n",
       "    </tr>\n",
       "    <tr>\n",
       "      <th>...</th>\n",
       "      <td>...</td>\n",
       "      <td>...</td>\n",
       "      <td>...</td>\n",
       "    </tr>\n",
       "    <tr>\n",
       "      <th>98</th>\n",
       "      <td>M8X</td>\n",
       "      <td>Etobicoke</td>\n",
       "      <td>The Kingsway, Montgomery Road, Old Mill North</td>\n",
       "    </tr>\n",
       "    <tr>\n",
       "      <th>99</th>\n",
       "      <td>M4Y</td>\n",
       "      <td>Downtown Toronto</td>\n",
       "      <td>Church and Wellesley</td>\n",
       "    </tr>\n",
       "    <tr>\n",
       "      <th>100</th>\n",
       "      <td>M7Y</td>\n",
       "      <td>East Toronto Business</td>\n",
       "      <td>Enclave of M4L</td>\n",
       "    </tr>\n",
       "    <tr>\n",
       "      <th>101</th>\n",
       "      <td>M8Y</td>\n",
       "      <td>Etobicoke</td>\n",
       "      <td>Old Mill South, King's Mill Park, Sunnylea, Hu...</td>\n",
       "    </tr>\n",
       "    <tr>\n",
       "      <th>102</th>\n",
       "      <td>M8Z</td>\n",
       "      <td>Etobicoke</td>\n",
       "      <td>Mimico NW, The Queensway West, South of Bloor,...</td>\n",
       "    </tr>\n",
       "  </tbody>\n",
       "</table>\n",
       "<p>103 rows × 3 columns</p>\n",
       "</div>"
      ],
      "text/plain": [
       "    Postal Code                Borough  \\\n",
       "0           M3A             North York   \n",
       "1           M4A             North York   \n",
       "2           M5A       Downtown Toronto   \n",
       "3           M6A             North York   \n",
       "4           M7A           Queen's Park   \n",
       "..          ...                    ...   \n",
       "98          M8X              Etobicoke   \n",
       "99          M4Y       Downtown Toronto   \n",
       "100         M7Y  East Toronto Business   \n",
       "101         M8Y              Etobicoke   \n",
       "102         M8Z              Etobicoke   \n",
       "\n",
       "                                          Neighborhood  \n",
       "0                                            Parkwoods  \n",
       "1                                     Victoria Village  \n",
       "2                            Regent Park, Harbourfront  \n",
       "3                     Lawrence Manor, Lawrence Heights  \n",
       "4                        Ontario Provincial Government  \n",
       "..                                                 ...  \n",
       "98       The Kingsway, Montgomery Road, Old Mill North  \n",
       "99                                Church and Wellesley  \n",
       "100                                     Enclave of M4L  \n",
       "101  Old Mill South, King's Mill Park, Sunnylea, Hu...  \n",
       "102  Mimico NW, The Queensway West, South of Bloor,...  \n",
       "\n",
       "[103 rows x 3 columns]"
      ]
     },
     "execution_count": 4,
     "metadata": {},
     "output_type": "execute_result"
    }
   ],
   "source": [
    "table_contents=[]\n",
    "table=soup.find('table')\n",
    "for row in table.findAll('td'):\n",
    "    cell = {}\n",
    "    if row.span.text=='Not assigned':\n",
    "        pass\n",
    "    else:\n",
    "        cell['PostalCode'] = row.p.text[:3]\n",
    "        cell['Borough'] = (row.span.text).split('(')[0]\n",
    "        cell['Neighborhood'] = (((((row.span.text).split('(')[1]).strip(')')).replace(' /',',')).replace(')',' ')).strip(' ')\n",
    "        table_contents.append(cell)\n",
    "\n",
    "# print(table_contents)\n",
    "df=pd.DataFrame(table_contents)\n",
    "df['Borough']=df['Borough'].replace({'Downtown TorontoStn A PO Boxes25 The Esplanade':'Downtown Toronto Stn A',\n",
    "                                             'East TorontoBusiness reply mail Processing Centre969 Eastern':'East Toronto Business',\n",
    "                                             'EtobicokeNorthwest':'Etobicoke Northwest','East YorkEast Toronto':'East York/East Toronto',\n",
    "                                             'MississaugaCanada Post Gateway Processing Centre':'Mississauga'})\n",
    "\n",
    "df.rename(columns={'PostalCode': 'Postal Code'}, inplace=True)\n",
    "df"
   ]
  },
  {
   "cell_type": "markdown",
   "metadata": {
    "id": "oOJIFSZstkUy"
   },
   "source": [
    "Toronto Coordinates Data"
   ]
  },
  {
   "cell_type": "code",
   "execution_count": 5,
   "metadata": {
    "colab": {
     "base_uri": "https://localhost:8080/",
     "height": 206
    },
    "id": "ftceYYLetSQ2",
    "outputId": "5e926ea6-2eee-474d-ee7d-939b41edcd15"
   },
   "outputs": [
    {
     "data": {
      "text/html": [
       "<div>\n",
       "<style scoped>\n",
       "    .dataframe tbody tr th:only-of-type {\n",
       "        vertical-align: middle;\n",
       "    }\n",
       "\n",
       "    .dataframe tbody tr th {\n",
       "        vertical-align: top;\n",
       "    }\n",
       "\n",
       "    .dataframe thead th {\n",
       "        text-align: right;\n",
       "    }\n",
       "</style>\n",
       "<table border=\"1\" class=\"dataframe\">\n",
       "  <thead>\n",
       "    <tr style=\"text-align: right;\">\n",
       "      <th></th>\n",
       "      <th>Postal Code</th>\n",
       "      <th>Latitude</th>\n",
       "      <th>Longitude</th>\n",
       "    </tr>\n",
       "  </thead>\n",
       "  <tbody>\n",
       "    <tr>\n",
       "      <th>0</th>\n",
       "      <td>M1B</td>\n",
       "      <td>43.806686</td>\n",
       "      <td>-79.194353</td>\n",
       "    </tr>\n",
       "    <tr>\n",
       "      <th>1</th>\n",
       "      <td>M1C</td>\n",
       "      <td>43.784535</td>\n",
       "      <td>-79.160497</td>\n",
       "    </tr>\n",
       "    <tr>\n",
       "      <th>2</th>\n",
       "      <td>M1E</td>\n",
       "      <td>43.763573</td>\n",
       "      <td>-79.188711</td>\n",
       "    </tr>\n",
       "    <tr>\n",
       "      <th>3</th>\n",
       "      <td>M1G</td>\n",
       "      <td>43.770992</td>\n",
       "      <td>-79.216917</td>\n",
       "    </tr>\n",
       "    <tr>\n",
       "      <th>4</th>\n",
       "      <td>M1H</td>\n",
       "      <td>43.773136</td>\n",
       "      <td>-79.239476</td>\n",
       "    </tr>\n",
       "  </tbody>\n",
       "</table>\n",
       "</div>"
      ],
      "text/plain": [
       "  Postal Code   Latitude  Longitude\n",
       "0         M1B  43.806686 -79.194353\n",
       "1         M1C  43.784535 -79.160497\n",
       "2         M1E  43.763573 -79.188711\n",
       "3         M1G  43.770992 -79.216917\n",
       "4         M1H  43.773136 -79.239476"
      ]
     },
     "execution_count": 5,
     "metadata": {},
     "output_type": "execute_result"
    }
   ],
   "source": [
    "# Function to get coords of a Toronto\n",
    "lat_lng_coords = pd.read_csv('https://cocl.us/Geospatial_data')\n",
    "lat_lng_coords.head()"
   ]
  },
  {
   "cell_type": "code",
   "execution_count": 6,
   "metadata": {
    "colab": {
     "base_uri": "https://localhost:8080/",
     "height": 468
    },
    "id": "mkTkay8jtSUL",
    "outputId": "4d979d1a-5672-44ed-8d2b-3205e5b4891f"
   },
   "outputs": [
    {
     "data": {
      "text/html": [
       "<div>\n",
       "<style scoped>\n",
       "    .dataframe tbody tr th:only-of-type {\n",
       "        vertical-align: middle;\n",
       "    }\n",
       "\n",
       "    .dataframe tbody tr th {\n",
       "        vertical-align: top;\n",
       "    }\n",
       "\n",
       "    .dataframe thead th {\n",
       "        text-align: right;\n",
       "    }\n",
       "</style>\n",
       "<table border=\"1\" class=\"dataframe\">\n",
       "  <thead>\n",
       "    <tr style=\"text-align: right;\">\n",
       "      <th></th>\n",
       "      <th>Postal Code</th>\n",
       "      <th>Borough</th>\n",
       "      <th>Neighborhood</th>\n",
       "      <th>Latitude</th>\n",
       "      <th>Longitude</th>\n",
       "    </tr>\n",
       "  </thead>\n",
       "  <tbody>\n",
       "    <tr>\n",
       "      <th>0</th>\n",
       "      <td>M3A</td>\n",
       "      <td>North York</td>\n",
       "      <td>Parkwoods</td>\n",
       "      <td>43.753259</td>\n",
       "      <td>-79.329656</td>\n",
       "    </tr>\n",
       "    <tr>\n",
       "      <th>1</th>\n",
       "      <td>M4A</td>\n",
       "      <td>North York</td>\n",
       "      <td>Victoria Village</td>\n",
       "      <td>43.725882</td>\n",
       "      <td>-79.315572</td>\n",
       "    </tr>\n",
       "    <tr>\n",
       "      <th>2</th>\n",
       "      <td>M5A</td>\n",
       "      <td>Downtown Toronto</td>\n",
       "      <td>Regent Park, Harbourfront</td>\n",
       "      <td>43.654260</td>\n",
       "      <td>-79.360636</td>\n",
       "    </tr>\n",
       "    <tr>\n",
       "      <th>3</th>\n",
       "      <td>M6A</td>\n",
       "      <td>North York</td>\n",
       "      <td>Lawrence Manor, Lawrence Heights</td>\n",
       "      <td>43.718518</td>\n",
       "      <td>-79.464763</td>\n",
       "    </tr>\n",
       "    <tr>\n",
       "      <th>4</th>\n",
       "      <td>M7A</td>\n",
       "      <td>Queen's Park</td>\n",
       "      <td>Ontario Provincial Government</td>\n",
       "      <td>43.662301</td>\n",
       "      <td>-79.389494</td>\n",
       "    </tr>\n",
       "    <tr>\n",
       "      <th>...</th>\n",
       "      <td>...</td>\n",
       "      <td>...</td>\n",
       "      <td>...</td>\n",
       "      <td>...</td>\n",
       "      <td>...</td>\n",
       "    </tr>\n",
       "    <tr>\n",
       "      <th>98</th>\n",
       "      <td>M8X</td>\n",
       "      <td>Etobicoke</td>\n",
       "      <td>The Kingsway, Montgomery Road, Old Mill North</td>\n",
       "      <td>43.653654</td>\n",
       "      <td>-79.506944</td>\n",
       "    </tr>\n",
       "    <tr>\n",
       "      <th>99</th>\n",
       "      <td>M4Y</td>\n",
       "      <td>Downtown Toronto</td>\n",
       "      <td>Church and Wellesley</td>\n",
       "      <td>43.665860</td>\n",
       "      <td>-79.383160</td>\n",
       "    </tr>\n",
       "    <tr>\n",
       "      <th>100</th>\n",
       "      <td>M7Y</td>\n",
       "      <td>East Toronto Business</td>\n",
       "      <td>Enclave of M4L</td>\n",
       "      <td>43.662744</td>\n",
       "      <td>-79.321558</td>\n",
       "    </tr>\n",
       "    <tr>\n",
       "      <th>101</th>\n",
       "      <td>M8Y</td>\n",
       "      <td>Etobicoke</td>\n",
       "      <td>Old Mill South, King's Mill Park, Sunnylea, Hu...</td>\n",
       "      <td>43.636258</td>\n",
       "      <td>-79.498509</td>\n",
       "    </tr>\n",
       "    <tr>\n",
       "      <th>102</th>\n",
       "      <td>M8Z</td>\n",
       "      <td>Etobicoke</td>\n",
       "      <td>Mimico NW, The Queensway West, South of Bloor,...</td>\n",
       "      <td>43.628841</td>\n",
       "      <td>-79.520999</td>\n",
       "    </tr>\n",
       "  </tbody>\n",
       "</table>\n",
       "<p>103 rows × 5 columns</p>\n",
       "</div>"
      ],
      "text/plain": [
       "    Postal Code                Borough  \\\n",
       "0           M3A             North York   \n",
       "1           M4A             North York   \n",
       "2           M5A       Downtown Toronto   \n",
       "3           M6A             North York   \n",
       "4           M7A           Queen's Park   \n",
       "..          ...                    ...   \n",
       "98          M8X              Etobicoke   \n",
       "99          M4Y       Downtown Toronto   \n",
       "100         M7Y  East Toronto Business   \n",
       "101         M8Y              Etobicoke   \n",
       "102         M8Z              Etobicoke   \n",
       "\n",
       "                                          Neighborhood   Latitude  Longitude  \n",
       "0                                            Parkwoods  43.753259 -79.329656  \n",
       "1                                     Victoria Village  43.725882 -79.315572  \n",
       "2                            Regent Park, Harbourfront  43.654260 -79.360636  \n",
       "3                     Lawrence Manor, Lawrence Heights  43.718518 -79.464763  \n",
       "4                        Ontario Provincial Government  43.662301 -79.389494  \n",
       "..                                                 ...        ...        ...  \n",
       "98       The Kingsway, Montgomery Road, Old Mill North  43.653654 -79.506944  \n",
       "99                                Church and Wellesley  43.665860 -79.383160  \n",
       "100                                     Enclave of M4L  43.662744 -79.321558  \n",
       "101  Old Mill South, King's Mill Park, Sunnylea, Hu...  43.636258 -79.498509  \n",
       "102  Mimico NW, The Queensway West, South of Bloor,...  43.628841 -79.520999  \n",
       "\n",
       "[103 rows x 5 columns]"
      ]
     },
     "execution_count": 6,
     "metadata": {},
     "output_type": "execute_result"
    }
   ],
   "source": [
    "# Adding coords to main dataframe\n",
    "\n",
    "df_toronto = pd.merge(df,lat_lng_coords,on='Postal Code')\n",
    "df_toronto"
   ]
  },
  {
   "cell_type": "code",
   "execution_count": 7,
   "metadata": {
    "colab": {
     "base_uri": "https://localhost:8080/"
    },
    "id": "LgZ4h93qjfag",
    "outputId": "1a58c0c1-824e-46b8-838d-cdc398364600"
   },
   "outputs": [
    {
     "name": "stdout",
     "output_type": "stream",
     "text": [
      "Postal Code      object\n",
      "Borough          object\n",
      "Neighborhood     object\n",
      "Latitude        float64\n",
      "Longitude       float64\n",
      "dtype: object\n"
     ]
    }
   ],
   "source": [
    "print(df_toronto.dtypes)"
   ]
  },
  {
   "cell_type": "markdown",
   "metadata": {
    "id": "oiHl_zsMt3Bu"
   },
   "source": [
    "# Get venues from Foursquare API"
   ]
  },
  {
   "cell_type": "code",
   "execution_count": 8,
   "metadata": {
    "id": "y_M0JCIvVeb4"
   },
   "outputs": [],
   "source": [
    "# Foursquare connection\n",
    "\n",
    "CLIENT_ID = \"DOUQMGKGXNQPBPWW4POSVY5Y2RHXPOQ0EXOI2D2ICDDZGOHT\" # your Foursquare ID\n",
    "CLIENT_SECRET = \"QNGGGHGZFMQNCZBKU02FIEYQSIYYA3LE15ORPKKM3S1AWMX4\" # your Foursquare Secret"
   ]
  },
  {
   "cell_type": "code",
   "execution_count": 9,
   "metadata": {
    "colab": {
     "base_uri": "https://localhost:8080/"
    },
    "id": "XyChdg9ZZNcG",
    "outputId": "f96d5d22-faac-422b-e1b0-209e8a293978"
   },
   "outputs": [
    {
     "name": "stdout",
     "output_type": "stream",
     "text": [
      "{\"results\":[{\"fsq_id\":\"5a81ae339deb7d369fa7f146\",\"categories\":[{\"id\":13035,\"name\":\"Coffee Shop\",\"icon\":{\"prefix\":\"https://ss3.4sqi.net/img/categories_v2/food/coffeeshop_\",\"suffix\":\".png\"}}],\"chains\":[],\"distance\":598,\"geocodes\":{\"main\":{\"latitude\":43.658868,\"longitude\":-79.383807},\"roof\":{\"latitude\":43.658868,\"longitude\":-79.383807}},\"link\":\"/v3/places/5a81ae339deb7d369fa7f146\",\"location\":{\"address\":\"44 Gerrard St W\",\"country\":\"CA\",\"cross_street\":\"Yonge St\",\"formatted_address\":\"44 Gerrard St W (Yonge St), Toronto ON M5G 2K2\",\"locality\":\"Toronto\",\"neighborhood\":[\"Downtown Toronto\"],\"postcode\":\"M5G 2K2\",\"region\":\"ON\"},\"name\":\"Hailed Coffee\",\"related_places\":{},\"timezone\":\"America/Toronto\"},{\"fsq_id\":\"59ecf741da2e006b9e11a3d3\",\"categories\":[{\"id\":13033,\"name\":\"Bubble Tea Shop\",\"icon\":{\"prefix\":\"https://ss3.4sqi.net/img/categories_v2/food/bubble_\",\"suffix\":\".png\"}},{\"id\":13065,\"name\":\"Restaurant\",\"icon\":{\"prefix\":\"https://ss3.4sqi.net/img/categories_v2/food/default_\",\"suffix\":\".png\"}}],\"chains\":[],\"distance\":727,\"geocodes\":{\"main\":{\"latitude\":43.665827,\"longitude\":-79.385383},\"roof\":{\"latitude\":43.665827,\"longitude\":-79.385383}},\"link\":\"/v3/places/59ecf741da2e006b9e11a3d3\",\"location\":{\"address\":\"5 St Joseph St\",\"country\":\"CA\",\"cross_street\":\"\",\"formatted_address\":\"5 St Joseph St, Toronto ON M4Y 0B6\",\"locality\":\"Toronto\",\"neighborhood\":[\"Downtown Toronto\"],\"postcode\":\"M4Y 0B6\",\"region\":\"ON\"},\"name\":\"The Alley\",\"related_places\":{},\"timezone\":\"America/Toronto\"},{\"fsq_id\":\"59f784dd28122f14f9d5d63d\",\"categories\":[{\"id\":13034,\"name\":\"Café\",\"icon\":{\"prefix\":\"https://ss3.4sqi.net/img/categories_v2/food/cafe_\",\"suffix\":\".png\"}},{\"id\":13035,\"name\":\"Coffee Shop\",\"icon\":{\"prefix\":\"https://ss3.4sqi.net/img/categories_v2/food/coffeeshop_\",\"suffix\":\".png\"}},{\"id\":13065,\"name\":\"Restaurant\",\"icon\":{\"prefix\":\"https://ss3.4sqi.net/img/categories_v2/food/default_\",\"suffix\":\".png\"}}],\"chains\":[],\"distance\":1144,\"geocodes\":{\"main\":{\"latitude\":43.650271,\"longitude\":-79.388563},\"roof\":{\"latitude\":43.650271,\"longitude\":-79.388563}},\"link\":\"/v3/places/59f784dd28122f14f9d5d63d\",\"location\":{\"address\":\"245 Queen St W\",\"country\":\"CA\",\"cross_street\":\"at St Patrick St\",\"formatted_address\":\"245 Queen St W (at St Patrick St), Toronto ON M5V 1Z4\",\"locality\":\"Toronto\",\"neighborhood\":[\"Downtown Toronto\"],\"postcode\":\"M5V 1Z4\",\"region\":\"ON\"},\"name\":\"HotBlack Coffee\",\"related_places\":{},\"timezone\":\"America/Toronto\"},{\"fsq_id\":\"4fff1f96e4b042ae8acddca5\",\"categories\":[{\"id\":13034,\"name\":\"Café\",\"icon\":{\"prefix\":\"https://ss3.4sqi.net/img/categories_v2/food/cafe_\",\"suffix\":\".png\"}},{\"id\":13035,\"name\":\"Coffee Shop\",\"icon\":{\"prefix\":\"https://ss3.4sqi.net/img/categories_v2/food/coffeeshop_\",\"suffix\":\".png\"}},{\"id\":13065,\"name\":\"Restaurant\",\"icon\":{\"prefix\":\"https://ss3.4sqi.net/img/categories_v2/food/default_\",\"suffix\":\".png\"}}],\"chains\":[],\"distance\":1709,\"geocodes\":{\"main\":{\"latitude\":43.652416,\"longitude\":-79.372916},\"roof\":{\"latitude\":43.652416,\"longitude\":-79.372916}},\"link\":\"/v3/places/4fff1f96e4b042ae8acddca5\",\"location\":{\"address\":\"120 Lombard St\",\"country\":\"CA\",\"cross_street\":\"at Jarvis St\",\"formatted_address\":\"120 Lombard St (at Jarvis St), Toronto ON M5C 3H5\",\"locality\":\"Toronto\",\"neighborhood\":[\"Old Town\"],\"postcode\":\"M5C 3H5\",\"region\":\"ON\"},\"name\":\"Fahrenheit Coffee\",\"related_places\":{},\"timezone\":\"America/Toronto\"},{\"fsq_id\":\"514627d1e4b0dba1b85e9ba8\",\"categories\":[{\"id\":13034,\"name\":\"Café\",\"icon\":{\"prefix\":\"https://ss3.4sqi.net/img/categories_v2/food/cafe_\",\"suffix\":\".png\"}},{\"id\":13035,\"name\":\"Coffee Shop\",\"icon\":{\"prefix\":\"https://ss3.4sqi.net/img/categories_v2/food/coffeeshop_\",\"suffix\":\".png\"}},{\"id\":13065,\"name\":\"Restaurant\",\"icon\":{\"prefix\":\"https://ss3.4sqi.net/img/categories_v2/food/default_\",\"suffix\":\".png\"}}],\"chains\":[],\"distance\":1475,\"geocodes\":{\"main\":{\"latitude\":43.651132,\"longitude\":-79.379023},\"roof\":{\"latitude\":43.651132,\"longitude\":-79.379023}},\"link\":\"/v3/places/514627d1e4b0dba1b85e9ba8\",\"location\":{\"address\":\"140 Yonge St\",\"country\":\"CA\",\"cross_street\":\"at Temperance St\",\"formatted_address\":\"140 Yonge St (at Temperance St), Toronto ON M5C 1X6\",\"locality\":\"Toronto\",\"neighborhood\":[\"Financial District\"],\"postcode\":\"M5C 1X6\",\"region\":\"ON\"},\"name\":\"Dineen Coffee Co\",\"related_places\":{},\"timezone\":\"America/Toronto\"},{\"fsq_id\":\"5b6c842bc36588002c80a934\",\"categories\":[{\"id\":13034,\"name\":\"Café\",\"icon\":{\"prefix\":\"https://ss3.4sqi.net/img/categories_v2/food/cafe_\",\"suffix\":\".png\"}},{\"id\":13065,\"name\":\"Restaurant\",\"icon\":{\"prefix\":\"https://ss3.4sqi.net/img/categories_v2/food/default_\",\"suffix\":\".png\"}}],\"chains\":[],\"distance\":1380,\"geocodes\":{\"main\":{\"latitude\":43.648724,\"longitude\":-79.385137},\"roof\":{\"latitude\":43.648724,\"longitude\":-79.385137}},\"link\":\"/v3/places/5b6c842bc36588002c80a934\",\"location\":{\"address\":\"165 University Ave\",\"country\":\"CA\",\"cross_street\":\"Adelaide St W\",\"formatted_address\":\"165 University Ave (Adelaide St W), Toronto ON M5H 3B8\",\"locality\":\"Toronto\",\"neighborhood\":[\"Downtown Toronto\"],\"postcode\":\"M5H 3B8\",\"region\":\"ON\"},\"name\":\"Cafe Landwer\",\"related_places\":{},\"timezone\":\"America/Toronto\"},{\"fsq_id\":\"55fb4f19498e141bd2492d4e\",\"categories\":[{\"id\":13034,\"name\":\"Café\",\"icon\":{\"prefix\":\"https://ss3.4sqi.net/img/categories_v2/food/cafe_\",\"suffix\":\".png\"}},{\"id\":13065,\"name\":\"Restaurant\",\"icon\":{\"prefix\":\"https://ss3.4sqi.net/img/categories_v2/food/default_\",\"suffix\":\".png\"}}],\"chains\":[],\"distance\":1560,\"geocodes\":{\"main\":{\"latitude\":43.656009,\"longitude\":-79.409254},\"roof\":{\"latitude\":43.656009,\"longitude\":-79.409254}},\"link\":\"/v3/places/55fb4f19498e141bd2492d4e\",\"location\":{\"address\":\"489 College St\",\"country\":\"CA\",\"cross_street\":\"at Markham St\",\"formatted_address\":\"489 College St (at Markham St), Toronto ON M6G 1A5\",\"locality\":\"Toronto\",\"neighborhood\":[\"Downtown Toronto\"],\"postcode\":\"M6G 1A5\",\"region\":\"ON\"},\"name\":\"Snakes & Lattes College\",\"related_places\":{\"children\":[{\"fsq_id\":\"60aae9bbc810d5712dacb38f\",\"name\":\"Blissful Bird\"}]},\"timezone\":\"America/Toronto\"},{\"fsq_id\":\"55be4bd4498e08d9ccc061e4\",\"categories\":[{\"id\":13034,\"name\":\"Café\",\"icon\":{\"prefix\":\"https://ss3.4sqi.net/img/categories_v2/food/cafe_\",\"suffix\":\".png\"}},{\"id\":13035,\"name\":\"Coffee Shop\",\"icon\":{\"prefix\":\"https://ss3.4sqi.net/img/categories_v2/food/coffeeshop_\",\"suffix\":\".png\"}},{\"id\":13065,\"name\":\"Restaurant\",\"icon\":{\"prefix\":\"https://ss3.4sqi.net/img/categories_v2/food/default_\",\"suffix\":\".png\"}}],\"chains\":[],\"distance\":2044,\"geocodes\":{\"main\":{\"latitude\":43.650673,\"longitude\":-79.369086},\"roof\":{\"latitude\":43.650673,\"longitude\":-79.369086}},\"link\":\"/v3/places/55be4bd4498e08d9ccc061e4\",\"location\":{\"address\":\"161 Frederick St\",\"address_extended\":\"Unit 100\",\"country\":\"CA\",\"cross_street\":\"at King St E\",\"formatted_address\":\"161 Frederick St (at King St E), Toronto ON M5A 4P3\",\"locality\":\"Toronto\",\"neighborhood\":[\"Downtown Toronto\"],\"postcode\":\"M5A 4P3\",\"region\":\"ON\"},\"name\":\"Neo Coffee Bar\",\"related_places\":{},\"timezone\":\"America/Toronto\"},{\"fsq_id\":\"569e7814498e1a7f3e01bfe4\",\"categories\":[{\"id\":13034,\"name\":\"Café\",\"icon\":{\"prefix\":\"https://ss3.4sqi.net/img/categories_v2/food/cafe_\",\"suffix\":\".png\"}},{\"id\":13035,\"name\":\"Coffee Shop\",\"icon\":{\"prefix\":\"https://ss3.4sqi.net/img/categories_v2/food/coffeeshop_\",\"suffix\":\".png\"}},{\"id\":13065,\"name\":\"Restaurant\",\"icon\":{\"prefix\":\"https://ss3.4sqi.net/img/categories_v2/food/default_\",\"suffix\":\".png\"}}],\"chains\":[],\"distance\":1336,\"geocodes\":{\"main\":{\"latitude\":43.669645,\"longitude\":-79.379958},\"roof\":{\"latitude\":43.669645,\"longitude\":-79.379958}},\"link\":\"/v3/places/569e7814498e1a7f3e01bfe4\",\"location\":{\"address\":\"568 Jarvis St\",\"country\":\"CA\",\"cross_street\":\"At Charles St E\",\"formatted_address\":\"568 Jarvis St (At Charles St E), Toronto ON M4Y 0C1\",\"locality\":\"Toronto\",\"neighborhood\":[\"Downtown\"],\"postcode\":\"M4Y 0C1\",\"region\":\"ON\"},\"name\":\"Rooster Coffee House\",\"related_places\":{},\"timezone\":\"America/Toronto\"},{\"fsq_id\":\"53b8466a498e83df908c3f21\",\"categories\":[{\"id\":13034,\"name\":\"Café\",\"icon\":{\"prefix\":\"https://ss3.4sqi.net/img/categories_v2/food/cafe_\",\"suffix\":\".png\"}},{\"id\":13035,\"name\":\"Coffee Shop\",\"icon\":{\"prefix\":\"https://ss3.4sqi.net/img/categories_v2/food/coffeeshop_\",\"suffix\":\".png\"}}],\"chains\":[],\"distance\":2452,\"geocodes\":{\"main\":{\"latitude\":43.653597,\"longitude\":-79.362024},\"roof\":{\"latitude\":43.653597,\"longitude\":-79.362024}},\"link\":\"/v3/places/53b8466a498e83df908c3f21\",\"location\":{\"address\":\"368 King St E\",\"country\":\"CA\",\"cross_street\":\"at Trinity St\",\"formatted_address\":\"368 King St E (at Trinity St), Toronto ON M5A 1K9\",\"locality\":\"Toronto\",\"postcode\":\"M5A 1K9\",\"region\":\"ON\"},\"name\":\"Tandem Coffee\",\"related_places\":{},\"timezone\":\"America/Toronto\"},{\"fsq_id\":\"57cd9d20498e6ab8342980e2\",\"categories\":[{\"id\":13035,\"name\":\"Coffee Shop\",\"icon\":{\"prefix\":\"https://ss3.4sqi.net/img/categories_v2/food/coffeeshop_\",\"suffix\":\".png\"}},{\"id\":13065,\"name\":\"Restaurant\",\"icon\":{\"prefix\":\"https://ss3.4sqi.net/img/categories_v2/food/default_\",\"suffix\":\".png\"}}],\"chains\":[],\"distance\":2633,\"geocodes\":{\"main\":{\"latitude\":43.649831,\"longitude\":-79.361332},\"roof\":{\"latitude\":43.649831,\"longitude\":-79.361332}},\"link\":\"/v3/places/57cd9d20498e6ab8342980e2\",\"location\":{\"address\":\"17 Gristmill Lane\",\"country\":\"CA\",\"cross_street\":\"at Parliament St\",\"formatted_address\":\"17 Gristmill Lane (at Parliament St), Toronto ON M5A 3C4\",\"locality\":\"Toronto\",\"neighborhood\":[\"Downtown Toronto\"],\"postcode\":\"M5A 3C4\",\"region\":\"ON\"},\"name\":\"Arvo Coffee\",\"related_places\":{\"parent\":{\"fsq_id\":\"4ad4c05ef964a520bff620e3\",\"name\":\"The Distillery Historic District\"}},\"timezone\":\"America/Toronto\"},{\"fsq_id\":\"540c8301498e51456f71ae7e\",\"categories\":[{\"id\":13034,\"name\":\"Café\",\"icon\":{\"prefix\":\"https://ss3.4sqi.net/img/categories_v2/food/cafe_\",\"suffix\":\".png\"}}],\"chains\":[],\"distance\":2997,\"geocodes\":{\"main\":{\"latitude\":43.66893,\"longitude\":-79.426097},\"roof\":{\"latitude\":43.66893,\"longitude\":-79.426097}},\"link\":\"/v3/places/540c8301498e51456f71ae7e\",\"location\":{\"address\":\"1028 Shaw St\",\"country\":\"CA\",\"cross_street\":\"Yarmouth\",\"formatted_address\":\"1028 Shaw St (Yarmouth), Toronto ON M6G 3N1\",\"locality\":\"Toronto\",\"neighborhood\":[\"Downtown Toronto\"],\"postcode\":\"M6G 3N1\",\"region\":\"ON\"},\"name\":\"Contra Cafe\",\"related_places\":{},\"timezone\":\"America/Toronto\"},{\"fsq_id\":\"5022a0cde4b0c3bc4aff8d5c\",\"categories\":[{\"id\":13034,\"name\":\"Café\",\"icon\":{\"prefix\":\"https://ss3.4sqi.net/img/categories_v2/food/cafe_\",\"suffix\":\".png\"}},{\"id\":13065,\"name\":\"Restaurant\",\"icon\":{\"prefix\":\"https://ss3.4sqi.net/img/categories_v2/food/default_\",\"suffix\":\".png\"}}],\"chains\":[],\"distance\":2031,\"geocodes\":{\"main\":{\"latitude\":43.651961,\"longitude\":-79.368356},\"roof\":{\"latitude\":43.651961,\"longitude\":-79.368356}},\"link\":\"/v3/places/5022a0cde4b0c3bc4aff8d5c\",\"location\":{\"address\":\"61 Sherbourne St\",\"country\":\"CA\",\"formatted_address\":\"61 Sherbourne St, Toronto ON M5A 2P8\",\"locality\":\"Toronto\",\"neighborhood\":[\"Downtown Toronto\"],\"postcode\":\"M5A 2P8\",\"region\":\"ON\"},\"name\":\"The Black Canary Espresso Bar\",\"related_places\":{},\"timezone\":\"America/Toronto\"},{\"fsq_id\":\"5e0b969e063b9c000838dbc9\",\"categories\":[{\"id\":13034,\"name\":\"Café\",\"icon\":{\"prefix\":\"https://ss3.4sqi.net/img/categories_v2/food/cafe_\",\"suffix\":\".png\"}},{\"id\":13065,\"name\":\"Restaurant\",\"icon\":{\"prefix\":\"https://ss3.4sqi.net/img/categories_v2/food/default_\",\"suffix\":\".png\"}}],\"chains\":[],\"distance\":2521,\"geocodes\":{\"main\":{\"latitude\":43.660733,\"longitude\":-79.359603}},\"link\":\"/v3/places/5e0b969e063b9c000838dbc9\",\"location\":{\"address\":\"665 Dundas St E\",\"country\":\"CA\",\"cross_street\":\"Tubman\",\"formatted_address\":\"665 Dundas St E (Tubman), Toronto ON M5A 0P4\",\"locality\":\"Toronto\",\"neighborhood\":[\"Downtown Toronto\"],\"postcode\":\"M5A 0P4\",\"region\":\"ON\"},\"name\":\"Le Beau\",\"related_places\":{},\"timezone\":\"America/Toronto\"},{\"fsq_id\":\"55637f1c498ecfe4c5dd2322\",\"categories\":[{\"id\":13034,\"name\":\"Café\",\"icon\":{\"prefix\":\"https://ss3.4sqi.net/img/categories_v2/food/cafe_\",\"suffix\":\".png\"}},{\"id\":13065,\"name\":\"Restaurant\",\"icon\":{\"prefix\":\"https://ss3.4sqi.net/img/categories_v2/food/default_\",\"suffix\":\".png\"}}],\"chains\":[],\"distance\":3527,\"geocodes\":{\"main\":{\"latitude\":43.659735,\"longitude\":-79.347007},\"roof\":{\"latitude\":43.659735,\"longitude\":-79.347007}},\"link\":\"/v3/places/55637f1c498ecfe4c5dd2322\",\"location\":{\"address\":\"4 Boulton Ave\",\"country\":\"CA\",\"cross_street\":\"at Queen St E\",\"formatted_address\":\"4 Boulton Ave (at Queen St E), Toronto ON M4M 2J3\",\"locality\":\"Toronto\",\"neighborhood\":[\"Central Toronto\"],\"postcode\":\"M4M 2J3\",\"region\":\"ON\"},\"name\":\"Boxcar Social\",\"related_places\":{},\"timezone\":\"America/Toronto\"},{\"fsq_id\":\"4adb58f7f964a520412621e3\",\"categories\":[{\"id\":13035,\"name\":\"Coffee Shop\",\"icon\":{\"prefix\":\"https://ss3.4sqi.net/img/categories_v2/food/coffeeshop_\",\"suffix\":\".png\"}},{\"id\":13065,\"name\":\"Restaurant\",\"icon\":{\"prefix\":\"https://ss3.4sqi.net/img/categories_v2/food/default_\",\"suffix\":\".png\"}}],\"chains\":[],\"distance\":2807,\"geocodes\":{\"main\":{\"latitude\":43.649769,\"longitude\":-79.359079},\"roof\":{\"latitude\":43.649769,\"longitude\":-79.359079}},\"link\":\"/v3/places/4adb58f7f964a520412621e3\",\"location\":{\"address\":\"55 Mill St\",\"address_extended\":\"Building 60\",\"country\":\"CA\",\"cross_street\":\"at Distillery Ln.\",\"formatted_address\":\"55 Mill St (at Distillery Ln.), Toronto ON M5A 3C4\",\"locality\":\"Toronto\",\"neighborhood\":[\"Downtown\"],\"postcode\":\"M5A 3C4\",\"region\":\"ON\"},\"name\":\"Balzac's Coffee Roastery\",\"related_places\":{\"parent\":{\"fsq_id\":\"4ad4c05ef964a520bff620e3\",\"name\":\"The Distillery Historic District\"}},\"timezone\":\"America/Toronto\"},{\"fsq_id\":\"4adb2666f964a5208d2421e3\",\"categories\":[{\"id\":13034,\"name\":\"Café\",\"icon\":{\"prefix\":\"https://ss3.4sqi.net/img/categories_v2/food/cafe_\",\"suffix\":\".png\"}},{\"id\":13035,\"name\":\"Coffee Shop\",\"icon\":{\"prefix\":\"https://ss3.4sqi.net/img/categories_v2/food/coffeeshop_\",\"suffix\":\".png\"}},{\"id\":13065,\"name\":\"Restaurant\",\"icon\":{\"prefix\":\"https://ss3.4sqi.net/img/categories_v2/food/default_\",\"suffix\":\".png\"}}],\"chains\":[],\"distance\":2414,\"geocodes\":{\"main\":{\"latitude\":43.645332,\"longitude\":-79.412503},\"roof\":{\"latitude\":43.645332,\"longitude\":-79.412503}},\"link\":\"/v3/places/4adb2666f964a5208d2421e3\",\"location\":{\"address\":\"907 Queen St W\",\"country\":\"CA\",\"cross_street\":\"btwn Strachan & Walnut\",\"formatted_address\":\"907 Queen St W (btwn Strachan & Walnut), Toronto ON M6J 1G5\",\"locality\":\"Toronto\",\"neighborhood\":[\"Little Italy\"],\"postcode\":\"M6J 1G5\",\"region\":\"ON\"},\"name\":\"White Squirrel Coffee Shop\",\"related_places\":{},\"timezone\":\"America/Toronto\"},{\"fsq_id\":\"5b0593b06fd626002c7cc600\",\"categories\":[{\"id\":13034,\"name\":\"Café\",\"icon\":{\"prefix\":\"https://ss3.4sqi.net/img/categories_v2/food/cafe_\",\"suffix\":\".png\"}},{\"id\":13065,\"name\":\"Restaurant\",\"icon\":{\"prefix\":\"https://ss3.4sqi.net/img/categories_v2/food/default_\",\"suffix\":\".png\"}}],\"chains\":[],\"distance\":1688,\"geocodes\":{\"main\":{\"latitude\":43.646446,\"longitude\":-79.397957},\"roof\":{\"latitude\":43.646446,\"longitude\":-79.397957}},\"link\":\"/v3/places/5b0593b06fd626002c7cc600\",\"location\":{\"address\":\"39 Brant St\",\"country\":\"CA\",\"cross_street\":\"\",\"formatted_address\":\"39 Brant St, Toronto ON M5V 0M8\",\"locality\":\"Toronto\",\"neighborhood\":[\"Downtown Toronto\"],\"postcode\":\"M5V 0M8\",\"region\":\"ON\"},\"name\":\"Impact Kitchen\",\"related_places\":{},\"timezone\":\"America/Toronto\"},{\"fsq_id\":\"572e0547498ed619e59df508\",\"categories\":[{\"id\":13035,\"name\":\"Coffee Shop\",\"icon\":{\"prefix\":\"https://ss3.4sqi.net/img/categories_v2/food/coffeeshop_\",\"suffix\":\".png\"}}],\"chains\":[],\"distance\":4791,\"geocodes\":{\"main\":{\"latitude\":43.66549,\"longitude\":-79.450145},\"roof\":{\"latitude\":43.66549,\"longitude\":-79.450145}},\"link\":\"/v3/places/572e0547498ed619e59df508\",\"location\":{\"address\":\"300 Campbell St\",\"country\":\"CA\",\"cross_street\":\"Dupont St\",\"formatted_address\":\"300 Campbell St (Dupont St), Toronto ON\",\"locality\":\"Toronto\",\"postcode\":\"\",\"region\":\"ON\"},\"name\":\"Hale Coffee\",\"related_places\":{},\"timezone\":\"America/Toronto\"},{\"fsq_id\":\"59a988a27dc9e105c88b184b\",\"categories\":[{\"id\":13034,\"name\":\"Café\",\"icon\":{\"prefix\":\"https://ss3.4sqi.net/img/categories_v2/food/cafe_\",\"suffix\":\".png\"}}],\"chains\":[],\"distance\":2102,\"geocodes\":{\"main\":{\"latitude\":43.642268,\"longitude\":-79.383596},\"roof\":{\"latitude\":43.642268,\"longitude\":-79.383596}},\"link\":\"/v3/places/59a988a27dc9e105c88b184b\",\"location\":{\"address\":\"137 Bremner Blvd\",\"country\":\"CA\",\"cross_street\":\"Lower Simcoe St\",\"formatted_address\":\"137 Bremner Blvd (Lower Simcoe St), Toronto ON M5J 3A7\",\"locality\":\"Toronto\",\"neighborhood\":[\"Downtown Toronto\"],\"postcode\":\"M5J 3A7\",\"region\":\"ON\"},\"name\":\"Aroma Espresso Bar\",\"related_places\":{},\"timezone\":\"America/Toronto\"},{\"fsq_id\":\"4ad78ecaf964a520220c21e3\",\"categories\":[{\"id\":13035,\"name\":\"Coffee Shop\",\"icon\":{\"prefix\":\"https://ss3.4sqi.net/img/categories_v2/food/coffeeshop_\",\"suffix\":\".png\"}},{\"id\":13065,\"name\":\"Restaurant\",\"icon\":{\"prefix\":\"https://ss3.4sqi.net/img/categories_v2/food/default_\",\"suffix\":\".png\"}}],\"chains\":[],\"distance\":4194,\"geocodes\":{\"main\":{\"latitude\":43.661315,\"longitude\":-79.338327},\"roof\":{\"latitude\":43.661315,\"longitude\":-79.338327}},\"link\":\"/v3/places/4ad78ecaf964a520220c21e3\",\"location\":{\"address\":\"983 Queen St E\",\"country\":\"CA\",\"cross_street\":\"at Pape Ave\",\"formatted_address\":\"983 Queen St E (at Pape Ave), Toronto ON M4M 1K2\",\"locality\":\"Toronto\",\"postcode\":\"M4M 1K2\",\"region\":\"ON\"},\"name\":\"Te Aro\",\"related_places\":{},\"timezone\":\"America/Toronto\"},{\"fsq_id\":\"54490365498e78a9fe510022\",\"categories\":[{\"id\":13035,\"name\":\"Coffee Shop\",\"icon\":{\"prefix\":\"https://ss3.4sqi.net/img/categories_v2/food/coffeeshop_\",\"suffix\":\".png\"}}],\"chains\":[{\"id\":\"ab4c54c0-d68a-012e-5619-003048cad9da\",\"name\":\"Starbucks\"}],\"distance\":2538,\"geocodes\":{\"main\":{\"latitude\":43.637877,\"longitude\":-79.392291},\"roof\":{\"latitude\":43.637877,\"longitude\":-79.392291}},\"link\":\"/v3/places/54490365498e78a9fe510022\",\"location\":{\"address\":\"10 Lower Spadina Ave\",\"address_extended\":\"Suite 101\",\"country\":\"CA\",\"cross_street\":\"Queens Quay W\",\"formatted_address\":\"10 Lower Spadina Ave (Queens Quay W), Toronto ON M5V 2Z2\",\"locality\":\"Toronto\",\"neighborhood\":[\"Downtown Toronto\"],\"postcode\":\"M5V 2Z2\",\"region\":\"ON\"},\"name\":\"Starbucks\",\"related_places\":{},\"timezone\":\"America/Toronto\"},{\"fsq_id\":\"55ad1c45498ee54a96be5ba6\",\"categories\":[{\"id\":13002,\"name\":\"Bakery\",\"icon\":{\"prefix\":\"https://ss3.4sqi.net/img/categories_v2/food/bakery_\",\"suffix\":\".png\"}},{\"id\":13034,\"name\":\"Café\",\"icon\":{\"prefix\":\"https://ss3.4sqi.net/img/categories_v2/food/cafe_\",\"suffix\":\".png\"}},{\"id\":13065,\"name\":\"Restaurant\",\"icon\":{\"prefix\":\"https://ss3.4sqi.net/img/categories_v2/food/default_\",\"suffix\":\".png\"}}],\"chains\":[],\"distance\":5181,\"geocodes\":{\"main\":{\"latitude\":43.664819,\"longitude\":-79.454714},\"roof\":{\"latitude\":43.664819,\"longitude\":-79.454714}},\"link\":\"/v3/places/55ad1c45498ee54a96be5ba6\",\"location\":{\"address\":\"1617 Dupont St\",\"country\":\"CA\",\"cross_street\":\"\",\"formatted_address\":\"1617 Dupont St, Toronto ON M6P 3S8\",\"locality\":\"Toronto\",\"neighborhood\":[\"West Toronto\"],\"postcode\":\"M6P 3S8\",\"region\":\"ON\"},\"name\":\"Mattachioni\",\"related_places\":{},\"timezone\":\"America/Toronto\"},{\"fsq_id\":\"4e84e4017beb5b5d350e3e40\",\"categories\":[{\"id\":13035,\"name\":\"Coffee Shop\",\"icon\":{\"prefix\":\"https://ss3.4sqi.net/img/categories_v2/food/coffeeshop_\",\"suffix\":\".png\"}}],\"chains\":[{\"id\":\"ab4c54c0-d68a-012e-5619-003048cad9da\",\"name\":\"Starbucks\"}],\"distance\":1042,\"geocodes\":{\"main\":{\"latitude\":43.668547,\"longitude\":-79.397414},\"roof\":{\"latitude\":43.668547,\"longitude\":-79.397414}},\"link\":\"/v3/places/4e84e4017beb5b5d350e3e40\",\"location\":{\"address\":\"1 Beford Ave\",\"address_extended\":\"One Bedford Condominium\",\"country\":\"CA\",\"cross_street\":\"at Bloor St. W\",\"formatted_address\":\"1 Beford Ave (at Bloor St. W), Toronto ON M5R 2J7\",\"locality\":\"Toronto\",\"neighborhood\":[\"The Annex\"],\"postcode\":\"M5R 2J7\",\"region\":\"ON\"},\"name\":\"Starbucks\",\"related_places\":{},\"timezone\":\"America/Toronto\"},{\"fsq_id\":\"502441e5e4b069d5af657ee2\",\"categories\":[{\"id\":13034,\"name\":\"Café\",\"icon\":{\"prefix\":\"https://ss3.4sqi.net/img/categories_v2/food/cafe_\",\"suffix\":\".png\"}},{\"id\":13035,\"name\":\"Coffee Shop\",\"icon\":{\"prefix\":\"https://ss3.4sqi.net/img/categories_v2/food/coffeeshop_\",\"suffix\":\".png\"}},{\"id\":13065,\"name\":\"Restaurant\",\"icon\":{\"prefix\":\"https://ss3.4sqi.net/img/categories_v2/food/default_\",\"suffix\":\".png\"}}],\"chains\":[],\"distance\":1278,\"geocodes\":{\"main\":{\"latitude\":43.671761,\"longitude\":-79.38717},\"roof\":{\"latitude\":43.671761,\"longitude\":-79.38717}},\"link\":\"/v3/places/502441e5e4b069d5af657ee2\",\"location\":{\"address\":\"789 Yonge St\",\"country\":\"CA\",\"cross_street\":\"at Asquith Ave.\",\"formatted_address\":\"789 Yonge St (at Asquith Ave.), Toronto ON M4W 2G8\",\"locality\":\"Toronto\",\"neighborhood\":[\"Midtown Toronto\"],\"postcode\":\"M4W 2G8\",\"region\":\"ON\"},\"name\":\"Balzac's Coffee\",\"related_places\":{\"parent\":{\"fsq_id\":\"5bc90182a35f460030022392\",\"name\":\"Toronto Reference Library\"}},\"timezone\":\"America/Toronto\"},{\"fsq_id\":\"4aec6b7df964a520e0c621e3\",\"categories\":[{\"id\":13035,\"name\":\"Coffee Shop\",\"icon\":{\"prefix\":\"https://ss3.4sqi.net/img/categories_v2/food/coffeeshop_\",\"suffix\":\".png\"}}],\"chains\":[{\"id\":\"ab4c54c0-d68a-012e-5619-003048cad9da\",\"name\":\"Starbucks\"}],\"distance\":5648,\"geocodes\":{\"main\":{\"latitude\":43.710995,\"longitude\":-79.399041},\"roof\":{\"latitude\":43.710995,\"longitude\":-79.399041}},\"link\":\"/v3/places/4aec6b7df964a520e0c621e3\",\"location\":{\"address\":\"2451 Yonge St\",\"country\":\"CA\",\"cross_street\":\"at Erskine Ave.\",\"formatted_address\":\"2451 Yonge St (at Erskine Ave.), Toronto ON M4P 2E7\",\"locality\":\"Toronto\",\"neighborhood\":[\"North Toronto\"],\"postcode\":\"M4P 2E7\",\"region\":\"ON\"},\"name\":\"Starbucks\",\"related_places\":{},\"timezone\":\"America/Toronto\"},{\"fsq_id\":\"4bb3618514cfd13aa2ee15ab\",\"categories\":[{\"id\":13034,\"name\":\"Café\",\"icon\":{\"prefix\":\"https://ss3.4sqi.net/img/categories_v2/food/cafe_\",\"suffix\":\".png\"}},{\"id\":13035,\"name\":\"Coffee Shop\",\"icon\":{\"prefix\":\"https://ss3.4sqi.net/img/categories_v2/food/coffeeshop_\",\"suffix\":\".png\"}},{\"id\":13065,\"name\":\"Restaurant\",\"icon\":{\"prefix\":\"https://ss3.4sqi.net/img/categories_v2/food/default_\",\"suffix\":\".png\"}}],\"chains\":[],\"distance\":6454,\"geocodes\":{\"main\":{\"latitude\":43.662602,\"longitude\":-79.471193},\"roof\":{\"latitude\":43.662602,\"longitude\":-79.471193}},\"link\":\"/v3/places/4bb3618514cfd13aa2ee15ab\",\"location\":{\"address\":\"238 Annette St\",\"country\":\"CA\",\"cross_street\":\"at Quebec Ave.\",\"formatted_address\":\"238 Annette St (at Quebec Ave.), Toronto ON M6P 1R1\",\"locality\":\"Toronto\",\"neighborhood\":[\"West Toronto\"],\"postcode\":\"M6P 1R1\",\"region\":\"ON\"},\"name\":\"The Good Neighbour\",\"related_places\":{},\"timezone\":\"America/Toronto\"},{\"fsq_id\":\"53af56a1498ee47d2a3a06d7\",\"categories\":[{\"id\":13065,\"name\":\"Restaurant\",\"icon\":{\"prefix\":\"https://ss3.4sqi.net/img/categories_v2/food/default_\",\"suffix\":\".png\"}},{\"id\":13032,\"name\":\"Cafes, Coffee, and Tea Houses\",\"icon\":{\"prefix\":\"https://ss3.4sqi.net/img/categories_v2/food/default_\",\"suffix\":\".png\"}}],\"chains\":[{\"id\":\"d5719cc0-d890-0132-61d3-7a163eb2a6fc\",\"name\":\"Tim Hortons\"}],\"distance\":2451,\"geocodes\":{\"main\":{\"latitude\":43.638725,\"longitude\":-79.386023},\"roof\":{\"latitude\":43.638725,\"longitude\":-79.386023}},\"link\":\"/v3/places/53af56a1498ee47d2a3a06d7\",\"location\":{\"address\":\"249 Queens Dr\",\"country\":\"CA\",\"cross_street\":\"Rees Street\",\"formatted_address\":\"249 Queens Dr (Rees Street), Toronto ON M9N 2H8\",\"locality\":\"Toronto\",\"postcode\":\"M9N 2H8\",\"region\":\"ON\"},\"name\":\"Tim Hortons\",\"related_places\":{},\"timezone\":\"America/Toronto\"},{\"fsq_id\":\"4ae52541f964a5206aa021e3\",\"categories\":[{\"id\":13035,\"name\":\"Coffee Shop\",\"icon\":{\"prefix\":\"https://ss3.4sqi.net/img/categories_v2/food/coffeeshop_\",\"suffix\":\".png\"}}],\"chains\":[{\"id\":\"ab4c54c0-d68a-012e-5619-003048cad9da\",\"name\":\"Starbucks\"}],\"distance\":1941,\"geocodes\":{\"main\":{\"latitude\":43.677993,\"longitude\":-79.390267},\"roof\":{\"latitude\":43.677993,\"longitude\":-79.390267}},\"link\":\"/v3/places/4ae52541f964a5206aa021e3\",\"location\":{\"address\":\"1088 Yonge St\",\"country\":\"CA\",\"cross_street\":\"at Roxborough St\",\"formatted_address\":\"1088 Yonge St (at Roxborough St), Toronto ON M4W 2L4\",\"locality\":\"Toronto\",\"neighborhood\":[\"Rosedale\"],\"postcode\":\"M4W 2L4\",\"region\":\"ON\"},\"name\":\"Starbucks\",\"related_places\":{},\"timezone\":\"America/Toronto\"},{\"fsq_id\":\"4fb13c20e4b011e6f93513c0\",\"categories\":[{\"id\":13034,\"name\":\"Café\",\"icon\":{\"prefix\":\"https://ss3.4sqi.net/img/categories_v2/food/cafe_\",\"suffix\":\".png\"}},{\"id\":13035,\"name\":\"Coffee Shop\",\"icon\":{\"prefix\":\"https://ss3.4sqi.net/img/categories_v2/food/coffeeshop_\",\"suffix\":\".png\"}},{\"id\":13065,\"name\":\"Restaurant\",\"icon\":{\"prefix\":\"https://ss3.4sqi.net/img/categories_v2/food/default_\",\"suffix\":\".png\"}}],\"chains\":[],\"distance\":975,\"geocodes\":{\"main\":{\"latitude\":43.657532,\"longitude\":-79.379012},\"roof\":{\"latitude\":43.657532,\"longitude\":-79.379012}},\"link\":\"/v3/places/4fb13c20e4b011e6f93513c0\",\"location\":{\"address\":\"122 Bond St\",\"country\":\"CA\",\"cross_street\":\"at Gould St.\",\"formatted_address\":\"122 Bond St (at Gould St.), Toronto ON M5B 1X8\",\"locality\":\"Toronto\",\"neighborhood\":[\"Downtown\"],\"postcode\":\"M5B 1X8\",\"region\":\"ON\"},\"name\":\"Balzacs Coffee\",\"related_places\":{},\"timezone\":\"America/Toronto\"},{\"fsq_id\":\"56cf4d80498ebf41870d5317\",\"categories\":[{\"id\":13035,\"name\":\"Coffee Shop\",\"icon\":{\"prefix\":\"https://ss3.4sqi.net/img/categories_v2/food/coffeeshop_\",\"suffix\":\".png\"}}],\"chains\":[{\"id\":\"ab4c54c0-d68a-012e-5619-003048cad9da\",\"name\":\"Starbucks\"}],\"distance\":1919,\"geocodes\":{\"main\":{\"latitude\":43.645526,\"longitude\":-79.380468},\"roof\":{\"latitude\":43.645526,\"longitude\":-79.380468}},\"link\":\"/v3/places/56cf4d80498ebf41870d5317\",\"location\":{\"address\":\"65 Front St W\",\"address_extended\":\"Front Street West\",\"country\":\"CA\",\"cross_street\":\"York St\",\"formatted_address\":\"65 Front St W (York St), Toronto ON M5J 1E5\",\"locality\":\"Toronto\",\"neighborhood\":[\"Central Toronto\"],\"postcode\":\"M5J 1E5\",\"region\":\"ON\"},\"name\":\"Starbucks\",\"related_places\":{\"parent\":{\"fsq_id\":\"4ad94f83f964a520b91921e3\",\"name\":\"Union Station\"}},\"timezone\":\"America/Toronto\"},{\"fsq_id\":\"5438765e498eaaadad2ba203\",\"categories\":[{\"id\":13032,\"name\":\"Cafes, Coffee, and Tea Houses\",\"icon\":{\"prefix\":\"https://ss3.4sqi.net/img/categories_v2/food/default_\",\"suffix\":\".png\"}},{\"id\":13045,\"name\":\"Gelato Shop\",\"icon\":{\"prefix\":\"https://ss3.4sqi.net/img/categories_v2/food/icecream_\",\"suffix\":\".png\"}},{\"id\":13065,\"name\":\"Restaurant\",\"icon\":{\"prefix\":\"https://ss3.4sqi.net/img/categories_v2/food/default_\",\"suffix\":\".png\"}}],\"chains\":[],\"distance\":7965,\"geocodes\":{\"main\":{\"latitude\":43.626982,\"longitude\":-79.478494},\"roof\":{\"latitude\":43.626982,\"longitude\":-79.478494}},\"link\":\"/v3/places/5438765e498eaaadad2ba203\",\"location\":{\"address\":\"14B Brookers Lane\",\"country\":\"CA\",\"cross_street\":\"Lakeshore W\",\"formatted_address\":\"14B Brookers Lane (Lakeshore W), Toronto ON M8V 0A4\",\"locality\":\"Toronto\",\"neighborhood\":[\"Humber Bay Shores\"],\"postcode\":\"M8V 0A4\",\"region\":\"ON\"},\"name\":\"Lola's Gelato\",\"related_places\":{},\"timezone\":\"America/Toronto\"},{\"fsq_id\":\"4fc67d32e4b0b0e32cca5b24\",\"categories\":[{\"id\":13034,\"name\":\"Café\",\"icon\":{\"prefix\":\"https://ss3.4sqi.net/img/categories_v2/food/cafe_\",\"suffix\":\".png\"}},{\"id\":13065,\"name\":\"Restaurant\",\"icon\":{\"prefix\":\"https://ss3.4sqi.net/img/categories_v2/food/default_\",\"suffix\":\".png\"}}],\"chains\":[],\"distance\":4218,\"geocodes\":{\"main\":{\"latitude\":43.673006,\"longitude\":-79.440268},\"roof\":{\"latitude\":43.673006,\"longitude\":-79.440268}},\"link\":\"/v3/places/4fc67d32e4b0b0e32cca5b24\",\"location\":{\"address\":\"1359 Davenport Rd\",\"country\":\"CA\",\"cross_street\":\"\",\"formatted_address\":\"1359 Davenport Rd, Toronto ON M6H 2H5\",\"locality\":\"Toronto\",\"neighborhood\":[\"West Toronto\"],\"postcode\":\"M6H 2H5\",\"region\":\"ON\"},\"name\":\"The Sovereign\",\"related_places\":{},\"timezone\":\"America/Toronto\"},{\"fsq_id\":\"4adc55c6f964a520bd2b21e3\",\"categories\":[{\"id\":13035,\"name\":\"Coffee Shop\",\"icon\":{\"prefix\":\"https://ss3.4sqi.net/img/categories_v2/food/coffeeshop_\",\"suffix\":\".png\"}}],\"chains\":[{\"id\":\"ab4c54c0-d68a-012e-5619-003048cad9da\",\"name\":\"Starbucks\"}],\"distance\":1597,\"geocodes\":{\"main\":{\"latitude\":43.649233,\"longitude\":-79.378113},\"roof\":{\"latitude\":43.649233,\"longitude\":-79.378113}},\"link\":\"/v3/places/4adc55c6f964a520bd2b21e3\",\"location\":{\"address\":\"2223 4th St SW\",\"country\":\"CA\",\"cross_street\":\"at Yonge St\",\"formatted_address\":\"2223 4th St SW (at Yonge St), Toronto ON M5H 1B6\",\"locality\":\"Toronto\",\"neighborhood\":[\"Financial District\"],\"postcode\":\"M5H 1B6\",\"region\":\"ON\"},\"name\":\"Starbucks\",\"related_places\":{},\"timezone\":\"America/Toronto\"},{\"fsq_id\":\"5550e0c9498ea5830a839f06\",\"categories\":[{\"id\":13034,\"name\":\"Café\",\"icon\":{\"prefix\":\"https://ss3.4sqi.net/img/categories_v2/food/cafe_\",\"suffix\":\".png\"}},{\"id\":13035,\"name\":\"Coffee Shop\",\"icon\":{\"prefix\":\"https://ss3.4sqi.net/img/categories_v2/food/coffeeshop_\",\"suffix\":\".png\"}},{\"id\":13065,\"name\":\"Restaurant\",\"icon\":{\"prefix\":\"https://ss3.4sqi.net/img/categories_v2/food/default_\",\"suffix\":\".png\"}}],\"chains\":[],\"distance\":4942,\"geocodes\":{\"main\":{\"latitude\":43.650638,\"longitude\":-79.450565},\"roof\":{\"latitude\":43.650638,\"longitude\":-79.450565}},\"link\":\"/v3/places/5550e0c9498ea5830a839f06\",\"location\":{\"address\":\"385 Roncesvalles Ave\",\"country\":\"CA\",\"cross_street\":\"at Neepawa Ave\",\"formatted_address\":\"385 Roncesvalles Ave (at Neepawa Ave), Toronto ON M6R 2N1\",\"locality\":\"Toronto\",\"neighborhood\":[\"West Toronto\"],\"postcode\":\"M6R 2N1\",\"region\":\"ON\"},\"name\":\"Reunion Island Coffee Bar\",\"related_places\":{\"children\":[{\"fsq_id\":\"59e0dec0f8cbd47e20a0a1ca\",\"name\":\"Gold Standard\"}]},\"timezone\":\"America/Toronto\"},{\"fsq_id\":\"5a8864b4cbcdee114e72b954\",\"categories\":[{\"id\":13034,\"name\":\"Café\",\"icon\":{\"prefix\":\"https://ss3.4sqi.net/img/categories_v2/food/cafe_\",\"suffix\":\".png\"}},{\"id\":13035,\"name\":\"Coffee Shop\",\"icon\":{\"prefix\":\"https://ss3.4sqi.net/img/categories_v2/food/coffeeshop_\",\"suffix\":\".png\"}},{\"id\":13065,\"name\":\"Restaurant\",\"icon\":{\"prefix\":\"https://ss3.4sqi.net/img/categories_v2/food/default_\",\"suffix\":\".png\"}}],\"chains\":[],\"distance\":4449,\"geocodes\":{\"main\":{\"latitude\":43.669116,\"longitude\":-79.336802},\"roof\":{\"latitude\":43.669116,\"longitude\":-79.336802}},\"link\":\"/v3/places/5a8864b4cbcdee114e72b954\",\"location\":{\"address\":\"1042 Gerrard St E\",\"country\":\"CA\",\"cross_street\":\"\",\"formatted_address\":\"1042 Gerrard St E, Toronto ON M4M 1Z5\",\"locality\":\"Toronto\",\"neighborhood\":[\"Leslieville\"],\"postcode\":\"M4M 1Z5\",\"region\":\"ON\"},\"name\":\"Dineen Outpost\",\"related_places\":{},\"timezone\":\"America/Toronto\"},{\"fsq_id\":\"55a192fb498eba3d2ffb5cc1\",\"categories\":[{\"id\":13034,\"name\":\"Café\",\"icon\":{\"prefix\":\"https://ss3.4sqi.net/img/categories_v2/food/cafe_\",\"suffix\":\".png\"}},{\"id\":13035,\"name\":\"Coffee Shop\",\"icon\":{\"prefix\":\"https://ss3.4sqi.net/img/categories_v2/food/coffeeshop_\",\"suffix\":\".png\"}}],\"chains\":[],\"distance\":3833,\"geocodes\":{\"main\":{\"latitude\":43.680772,\"longitude\":-79.429257},\"roof\":{\"latitude\":43.680772,\"longitude\":-79.429257}},\"link\":\"/v3/places/55a192fb498eba3d2ffb5cc1\",\"location\":{\"address\":\"781 St Clair Ave W\",\"address_extended\":\"# 2\",\"country\":\"CA\",\"cross_street\":\"\",\"formatted_address\":\"781 St Clair Ave W, Toronto ON M6C 1B7\",\"locality\":\"Toronto\",\"neighborhood\":[\"Midtown Toronto\"],\"postcode\":\"M6C 1B7\",\"region\":\"ON\"},\"name\":\"Krave Coffee\",\"related_places\":{},\"timezone\":\"America/Toronto\"},{\"fsq_id\":\"4ad34084f964a52083e320e3\",\"categories\":[{\"id\":13034,\"name\":\"Café\",\"icon\":{\"prefix\":\"https://ss3.4sqi.net/img/categories_v2/food/cafe_\",\"suffix\":\".png\"}},{\"id\":13035,\"name\":\"Coffee Shop\",\"icon\":{\"prefix\":\"https://ss3.4sqi.net/img/categories_v2/food/coffeeshop_\",\"suffix\":\".png\"}},{\"id\":13065,\"name\":\"Restaurant\",\"icon\":{\"prefix\":\"https://ss3.4sqi.net/img/categories_v2/food/default_\",\"suffix\":\".png\"}}],\"chains\":[],\"distance\":3356,\"geocodes\":{\"main\":{\"latitude\":43.63882,\"longitude\":-79.419455},\"roof\":{\"latitude\":43.63882,\"longitude\":-79.419455}},\"link\":\"/v3/places/4ad34084f964a52083e320e3\",\"location\":{\"address\":\"43 Hanna Ave\",\"address_extended\":\"# 123\",\"country\":\"CA\",\"cross_street\":\"at Liberty St.\",\"formatted_address\":\"43 Hanna Ave (at Liberty St.), Toronto ON M6K 1X1\",\"locality\":\"Toronto\",\"neighborhood\":[\"Liberty\"],\"postcode\":\"M6K 1X1\",\"region\":\"ON\"},\"name\":\"Balzac's Coffee Roasters\",\"related_places\":{},\"timezone\":\"America/Toronto\"},{\"fsq_id\":\"551486ff498ee91ac6d40f43\",\"categories\":[{\"id\":13035,\"name\":\"Coffee Shop\",\"icon\":{\"prefix\":\"https://ss3.4sqi.net/img/categories_v2/food/coffeeshop_\",\"suffix\":\".png\"}}],\"chains\":[{\"id\":\"ab4c54c0-d68a-012e-5619-003048cad9da\",\"name\":\"Starbucks\"}],\"distance\":8714,\"geocodes\":{\"main\":{\"latitude\":43.627925,\"longitude\":-79.489347},\"roof\":{\"latitude\":43.627925,\"longitude\":-79.489347}},\"link\":\"/v3/places/551486ff498ee91ac6d40f43\",\"location\":{\"address\":\"150 Pk Lawn Rd\",\"address_extended\":\"Unit A\",\"country\":\"CA\",\"cross_street\":\"The Queensway\",\"formatted_address\":\"150 Pk Lawn Rd (The Queensway), Toronto ON M8Y 3H8\",\"locality\":\"Toronto\",\"neighborhood\":[\"Etobicoke\"],\"postcode\":\"M8Y 3H8\",\"region\":\"ON\"},\"name\":\"Starbucks\",\"related_places\":{},\"timezone\":\"America/Toronto\"},{\"fsq_id\":\"5ba1435b7564f7002cf5a80c\",\"categories\":[{\"id\":13035,\"name\":\"Coffee Shop\",\"icon\":{\"prefix\":\"https://ss3.4sqi.net/img/categories_v2/food/coffeeshop_\",\"suffix\":\".png\"}}],\"chains\":[],\"distance\":2790,\"geocodes\":{\"main\":{\"latitude\":43.646623,\"longitude\":-79.419441}},\"link\":\"/v3/places/5ba1435b7564f7002cf5a80c\",\"location\":{\"address\":\"117 Ossington Ave\",\"country\":\"CA\",\"cross_street\":\"at Argyle St\",\"formatted_address\":\"117 Ossington Ave (at Argyle St), Toronto ON M6J 2Z2\",\"locality\":\"Toronto\",\"neighborhood\":[\"West Toronto\"],\"postcode\":\"M6J 2Z2\",\"region\":\"ON\"},\"name\":\"Pilot Coffee Roasters\",\"related_places\":{},\"timezone\":\"America/Toronto\"},{\"fsq_id\":\"4f64f614e4b0eae10ad6bf2d\",\"categories\":[{\"id\":13034,\"name\":\"Café\",\"icon\":{\"prefix\":\"https://ss3.4sqi.net/img/categories_v2/food/cafe_\",\"suffix\":\".png\"}},{\"id\":13035,\"name\":\"Coffee Shop\",\"icon\":{\"prefix\":\"https://ss3.4sqi.net/img/categories_v2/food/coffeeshop_\",\"suffix\":\".png\"}},{\"id\":13065,\"name\":\"Restaurant\",\"icon\":{\"prefix\":\"https://ss3.4sqi.net/img/categories_v2/food/default_\",\"suffix\":\".png\"}}],\"chains\":[],\"distance\":7070,\"geocodes\":{\"main\":{\"latitude\":43.651103,\"longitude\":-79.477943},\"roof\":{\"latitude\":43.651103,\"longitude\":-79.477943}},\"link\":\"/v3/places/4f64f614e4b0eae10ad6bf2d\",\"location\":{\"address\":\"258 Beresford Ave\",\"country\":\"CA\",\"cross_street\":\"at Bloor St W\",\"formatted_address\":\"258 Beresford Ave (at Bloor St W), Toronto ON M6S 3B3\",\"locality\":\"Toronto\",\"neighborhood\":[\"Central Toronto\"],\"postcode\":\"M6S 3B3\",\"region\":\"ON\"},\"name\":\"Zaza Espresso Bar\",\"related_places\":{},\"timezone\":\"America/Toronto\"},{\"fsq_id\":\"4acfa36ef964a5201fd520e3\",\"categories\":[{\"id\":13065,\"name\":\"Restaurant\",\"icon\":{\"prefix\":\"https://ss3.4sqi.net/img/categories_v2/food/default_\",\"suffix\":\".png\"}},{\"id\":13032,\"name\":\"Cafes, Coffee, and Tea Houses\",\"icon\":{\"prefix\":\"https://ss3.4sqi.net/img/categories_v2/food/default_\",\"suffix\":\".png\"}}],\"chains\":[{\"id\":\"d5719cc0-d890-0132-61d3-7a163eb2a6fc\",\"name\":\"Tim Hortons\"}],\"distance\":1014,\"geocodes\":{\"main\":{\"latitude\":43.668142,\"longitude\":-79.397583},\"roof\":{\"latitude\":43.668142,\"longitude\":-79.397583}},\"link\":\"/v3/places/4acfa36ef964a5201fd520e3\",\"location\":{\"address\":\"246 Bloor St W\",\"country\":\"CA\",\"cross_street\":\"at Bedford Rd.\",\"formatted_address\":\"246 Bloor St W (at Bedford Rd.), Toronto ON M5S 1V4\",\"locality\":\"Toronto\",\"neighborhood\":[\"Downtown Toronto\"],\"postcode\":\"M5S 1V4\",\"region\":\"ON\"},\"name\":\"Tim Hortons\",\"related_places\":{},\"timezone\":\"America/Toronto\"},{\"fsq_id\":\"4ad4c063f964a5205bf820e3\",\"categories\":[{\"id\":13035,\"name\":\"Coffee Shop\",\"icon\":{\"prefix\":\"https://ss3.4sqi.net/img/categories_v2/food/coffeeshop_\",\"suffix\":\".png\"}}],\"chains\":[],\"distance\":1231,\"geocodes\":{\"main\":{\"latitude\":43.652065,\"longitude\":-79.379311},\"roof\":{\"latitude\":43.652065,\"longitude\":-79.379311}},\"link\":\"/v3/places/4ad4c063f964a5205bf820e3\",\"location\":{\"address\":\"176 Yonge St\",\"country\":\"CA\",\"cross_street\":\"\",\"formatted_address\":\"176 Yonge St, Toronto ON M5C 2L7\",\"locality\":\"Toronto\",\"neighborhood\":[\"Financial District\"],\"postcode\":\"M5C 2L7\",\"region\":\"ON\"},\"name\":\"Nespresso\",\"related_places\":{\"parent\":{\"fsq_id\":\"4adf85e1f964a5206e7b21e3\",\"name\":\"BCBGMAXAZRIA at Hudson's Bay\"}},\"timezone\":\"America/Toronto\"},{\"fsq_id\":\"4b043657f964a5202c5222e3\",\"categories\":[{\"id\":13035,\"name\":\"Coffee Shop\",\"icon\":{\"prefix\":\"https://ss3.4sqi.net/img/categories_v2/food/coffeeshop_\",\"suffix\":\".png\"}}],\"chains\":[{\"id\":\"ab4c54c0-d68a-012e-5619-003048cad9da\",\"name\":\"Starbucks\"}],\"distance\":3633,\"geocodes\":{\"main\":{\"latitude\":43.689084,\"longitude\":-79.413044},\"roof\":{\"latitude\":43.689084,\"longitude\":-79.413044}},\"link\":\"/v3/places/4b043657f964a5202c5222e3\",\"location\":{\"address\":\"446 Spadina Rd\",\"country\":\"CA\",\"cross_street\":\"N of Lonsdale Rd\",\"formatted_address\":\"446 Spadina Rd (N of Lonsdale Rd), Toronto ON M5P 3M2\",\"locality\":\"Toronto\",\"neighborhood\":[\"Forest Hill\"],\"postcode\":\"M5P 3M2\",\"region\":\"ON\"},\"name\":\"Starbucks\",\"related_places\":{},\"timezone\":\"America/Toronto\"},{\"fsq_id\":\"54f9c6de498eb5e6895c94b2\",\"categories\":[{\"id\":13065,\"name\":\"Restaurant\",\"icon\":{\"prefix\":\"https://ss3.4sqi.net/img/categories_v2/food/default_\",\"suffix\":\".png\"}},{\"id\":13032,\"name\":\"Cafes, Coffee, and Tea Houses\",\"icon\":{\"prefix\":\"https://ss3.4sqi.net/img/categories_v2/food/default_\",\"suffix\":\".png\"}}],\"chains\":[{\"id\":\"d5719cc0-d890-0132-61d3-7a163eb2a6fc\",\"name\":\"Tim Hortons\"}],\"distance\":1951,\"geocodes\":{\"main\":{\"latitude\":43.647961,\"longitude\":-79.373984},\"roof\":{\"latitude\":43.647961,\"longitude\":-79.373984}},\"link\":\"/v3/places/54f9c6de498eb5e6895c94b2\",\"location\":{\"address\":\"55 Front St E\",\"country\":\"CA\",\"cross_street\":\"Church And The Esplanade\",\"formatted_address\":\"55 Front St E (Church And The Esplanade), Toronto ON M5E 0A7\",\"locality\":\"Toronto\",\"neighborhood\":[\"Leslieville\"],\"postcode\":\"M5E 0A7\",\"region\":\"ON\"},\"name\":\"Tim Hortons\",\"related_places\":{},\"timezone\":\"America/Toronto\"},{\"fsq_id\":\"4e5f0010814d9e0233e0b715\",\"categories\":[{\"id\":13065,\"name\":\"Restaurant\",\"icon\":{\"prefix\":\"https://ss3.4sqi.net/img/categories_v2/food/default_\",\"suffix\":\".png\"}},{\"id\":13032,\"name\":\"Cafes, Coffee, and Tea Houses\",\"icon\":{\"prefix\":\"https://ss3.4sqi.net/img/categories_v2/food/default_\",\"suffix\":\".png\"}}],\"chains\":[{\"id\":\"d5719cc0-d890-0132-61d3-7a163eb2a6fc\",\"name\":\"Tim Hortons\"}],\"distance\":8721,\"geocodes\":{\"main\":{\"latitude\":43.628192,\"longitude\":-79.48953},\"roof\":{\"latitude\":43.628192,\"longitude\":-79.48953}},\"link\":\"/v3/places/4e5f0010814d9e0233e0b715\",\"location\":{\"address\":\"152 Pk Lawn Rd\",\"country\":\"CA\",\"cross_street\":\"The Queensway\",\"formatted_address\":\"152 Pk Lawn Rd (The Queensway), Etobicoke ON M8Y 3H8\",\"locality\":\"Etobicoke\",\"neighborhood\":[\"Mimico\"],\"postcode\":\"M8Y 3H8\",\"region\":\"ON\"},\"name\":\"Tim Hortons\",\"related_places\":{},\"timezone\":\"America/Toronto\"},{\"fsq_id\":\"5f47eddf704690529cef554e\",\"categories\":[{\"id\":13034,\"name\":\"Café\",\"icon\":{\"prefix\":\"https://ss3.4sqi.net/img/categories_v2/food/cafe_\",\"suffix\":\".png\"}},{\"id\":13065,\"name\":\"Restaurant\",\"icon\":{\"prefix\":\"https://ss3.4sqi.net/img/categories_v2/food/default_\",\"suffix\":\".png\"}}],\"chains\":[],\"distance\":5458,\"geocodes\":{\"main\":{\"latitude\":43.709348,\"longitude\":-79.399293},\"roof\":{\"latitude\":43.709348,\"longitude\":-79.399293}},\"link\":\"/v3/places/5f47eddf704690529cef554e\",\"location\":{\"address\":\"2388 Yonge St\",\"country\":\"CA\",\"cross_street\":\"\",\"formatted_address\":\"2388 Yonge St, Toronto ON M4P 3J5\",\"locality\":\"Toronto\",\"postcode\":\"M4P 3J5\",\"region\":\"ON\"},\"name\":\"Stock T.C\",\"related_places\":{\"children\":[{\"fsq_id\":\"61283ef7eded2673ebb0da1e\",\"name\":\"Stock Bar\"}]},\"timezone\":\"America/Toronto\"},{\"fsq_id\":\"4ad79243f964a5204c0c21e3\",\"categories\":[{\"id\":13034,\"name\":\"Café\",\"icon\":{\"prefix\":\"https://ss3.4sqi.net/img/categories_v2/food/cafe_\",\"suffix\":\".png\"}},{\"id\":13035,\"name\":\"Coffee Shop\",\"icon\":{\"prefix\":\"https://ss3.4sqi.net/img/categories_v2/food/coffeeshop_\",\"suffix\":\".png\"}},{\"id\":13065,\"name\":\"Restaurant\",\"icon\":{\"prefix\":\"https://ss3.4sqi.net/img/categories_v2/food/default_\",\"suffix\":\".png\"}}],\"chains\":[],\"distance\":1876,\"geocodes\":{\"main\":{\"latitude\":43.665336,\"longitude\":-79.368143},\"roof\":{\"latitude\":43.665336,\"longitude\":-79.368143}},\"link\":\"/v3/places/4ad79243f964a5204c0c21e3\",\"location\":{\"address\":\"519 Parliament St\",\"country\":\"CA\",\"cross_street\":\"btwn Carlton & Winchester\",\"formatted_address\":\"519 Parliament St (btwn Carlton & Winchester), Toronto ON M4X 1P3\",\"locality\":\"Toronto\",\"neighborhood\":[\"Downtown\"],\"postcode\":\"M4X 1P3\",\"region\":\"ON\"},\"name\":\"Jet Fuel Coffee Shop Inc\",\"related_places\":{},\"timezone\":\"America/Toronto\"},{\"fsq_id\":\"50ac3738e4b0c298529b73d4\",\"categories\":[{\"id\":13035,\"name\":\"Coffee Shop\",\"icon\":{\"prefix\":\"https://ss3.4sqi.net/img/categories_v2/food/coffeeshop_\",\"suffix\":\".png\"}}],\"chains\":[{\"id\":\"ab4c54c0-d68a-012e-5619-003048cad9da\",\"name\":\"Starbucks\"}],\"distance\":8610,\"geocodes\":{\"main\":{\"latitude\":43.725227,\"longitude\":-79.448889},\"roof\":{\"latitude\":43.725227,\"longitude\":-79.448889}},\"link\":\"/v3/places/50ac3738e4b0c298529b73d4\",\"location\":{\"address\":\"1 Yorkdale Rd\",\"address_extended\":\"Yorkdale Shopping Centre 326\",\"country\":\"CA\",\"cross_street\":\"in Yorkdale Shopping Centre\",\"formatted_address\":\"1 Yorkdale Rd (in Yorkdale Shopping Centre), Toronto ON M6A 3A1\",\"locality\":\"Toronto\",\"neighborhood\":[\"Downsview\"],\"postcode\":\"M6A 3A1\",\"region\":\"ON\"},\"name\":\"Starbucks\",\"related_places\":{\"parent\":{\"fsq_id\":\"4ad4c062f964a52002f820e3\",\"name\":\"Yorkdale\"}},\"timezone\":\"America/Toronto\"},{\"fsq_id\":\"4ada6dfcf964a520842221e3\",\"categories\":[{\"id\":13035,\"name\":\"Coffee Shop\",\"icon\":{\"prefix\":\"https://ss3.4sqi.net/img/categories_v2/food/coffeeshop_\",\"suffix\":\".png\"}}],\"chains\":[{\"id\":\"ab4c54c0-d68a-012e-5619-003048cad9da\",\"name\":\"Starbucks\"}],\"distance\":2394,\"geocodes\":{\"main\":{\"latitude\":43.639975,\"longitude\":-79.381174},\"roof\":{\"latitude\":43.639975,\"longitude\":-79.381174}},\"link\":\"/v3/places/4ada6dfcf964a520842221e3\",\"location\":{\"address\":\"208 Queens Quay W\",\"address_extended\":\"# 121\",\"country\":\"CA\",\"cross_street\":\"at York St\",\"formatted_address\":\"208 Queens Quay W (at York St), Toronto ON M5J 2Y1\",\"locality\":\"Toronto\",\"neighborhood\":[\"Downtown\"],\"postcode\":\"M5J 2Y1\",\"region\":\"ON\"},\"name\":\"Starbucks\",\"related_places\":{},\"timezone\":\"America/Toronto\"}],\"context\":{\"geo_bounds\":{\"circle\":{\"center\":{\"latitude\":43.660555,\"longitude\":-79.39074},\"radius\":10000}}}}\n"
     ]
    }
   ],
   "source": [
    "category = \"13032\"\n",
    "API_KEY = \"fsq3d0rNVC3YVv91EYsmovrmY4BS7oaNdg+xhiva1rjlBoY=\"\n",
    "radius = 10000\n",
    "limit = 50 # max 50\n",
    "VERSION = 20220301 # fecha en YYYYMMDD\n",
    "\n",
    "lat = \"43.660555\"\n",
    "lon = \"-79.390740\"\n",
    "\n",
    "url = f\"https://api.foursquare.com/v3/places/search?ll={lat},{lon}&radius={radius}&categories={category}&limit={limit}\"\n",
    "\n",
    "#url = \"https://api.foursquare.com/v3/places/search?ll=1.323681%2C103.947566&radius=500&categories=13035&limit=10\"\n",
    "\n",
    "headers = {\n",
    "    \"Accept\": \"application/json\",\n",
    "    \"Authorization\": API_KEY\n",
    "}\n",
    "\n",
    "response = requests.request(\"GET\", url, headers=headers)\n",
    "\n",
    "print(response.text)"
   ]
  },
  {
   "cell_type": "code",
   "execution_count": 10,
   "metadata": {
    "id": "Gt3z4nugc_Sy"
   },
   "outputs": [],
   "source": [
    "# changing the format of the result of the request to Json format\n",
    "r = response.json()"
   ]
  },
  {
   "cell_type": "code",
   "execution_count": 11,
   "metadata": {
    "colab": {
     "base_uri": "https://localhost:8080/"
    },
    "id": "XBDvPxv7IuFW",
    "outputId": "5a3b1748-1fc8-47ae-e13e-c277ff404f99"
   },
   "outputs": [
    {
     "name": "stdout",
     "output_type": "stream",
     "text": [
      "<class 'dict'>\n"
     ]
    }
   ],
   "source": [
    "print(type(r))"
   ]
  },
  {
   "cell_type": "markdown",
   "metadata": {
    "id": "JXKNPx1Ugm0J"
   },
   "source": [
    "Creation of a list of cafeteria names (name = Venue)"
   ]
  },
  {
   "cell_type": "code",
   "execution_count": 12,
   "metadata": {
    "id": "sr_DtJJkJNUV"
   },
   "outputs": [],
   "source": [
    "# save the names of the cafeteria names in a list\n",
    "i = 0\n",
    "\n",
    "venue_names = []\n",
    "for venue in r[\"results\"]:\n",
    "\n",
    "# extract fields from the JSON\n",
    "  venue_name = r[\"results\"][i][\"name\"]\n",
    "\n",
    "  venue_names.append(venue_name)\n",
    "\n",
    "  # new iteration (counter)\n",
    "  i +=1\n"
   ]
  },
  {
   "cell_type": "code",
   "execution_count": 13,
   "metadata": {
    "colab": {
     "base_uri": "https://localhost:8080/"
    },
    "id": "gfZ9cqeZJNnI",
    "outputId": "7c19c56f-f485-4a78-c4e3-c8a8ebe4afa7"
   },
   "outputs": [
    {
     "name": "stdout",
     "output_type": "stream",
     "text": [
      "<class 'list'>\n",
      "['Hailed Coffee', 'The Alley', 'HotBlack Coffee', 'Fahrenheit Coffee', 'Dineen Coffee Co', 'Cafe Landwer', 'Snakes & Lattes College', 'Neo Coffee Bar', 'Rooster Coffee House', 'Tandem Coffee', 'Arvo Coffee', 'Contra Cafe', 'The Black Canary Espresso Bar', 'Le Beau', 'Boxcar Social', \"Balzac's Coffee Roastery\", 'White Squirrel Coffee Shop', 'Impact Kitchen', 'Hale Coffee', 'Aroma Espresso Bar', 'Te Aro', 'Starbucks', 'Mattachioni', 'Starbucks', \"Balzac's Coffee\", 'Starbucks', 'The Good Neighbour', 'Tim Hortons', 'Starbucks', 'Balzacs Coffee', 'Starbucks', \"Lola's Gelato\", 'The Sovereign', 'Starbucks', 'Reunion Island Coffee Bar', 'Dineen Outpost', 'Krave Coffee', \"Balzac's Coffee Roasters\", 'Starbucks', 'Pilot Coffee Roasters', 'Zaza Espresso Bar', 'Tim Hortons', 'Nespresso', 'Starbucks', 'Tim Hortons', 'Tim Hortons', 'Stock T.C', 'Jet Fuel Coffee Shop Inc', 'Starbucks', 'Starbucks']\n"
     ]
    }
   ],
   "source": [
    "print(type(venue_names))\n",
    "print(venue_names)"
   ]
  },
  {
   "cell_type": "markdown",
   "metadata": {
    "id": "0-48-5ZvhVBx"
   },
   "source": [
    "Creating list coordinates of the cafeteria\n",
    "venue_latitude & venue_longitude "
   ]
  },
  {
   "cell_type": "code",
   "execution_count": 14,
   "metadata": {
    "colab": {
     "base_uri": "https://localhost:8080/"
    },
    "id": "knW1emXRhR7s",
    "outputId": "b1133a68-1f58-41f5-c8ae-bbbf3cf700d5"
   },
   "outputs": [
    {
     "name": "stdout",
     "output_type": "stream",
     "text": [
      "43.658868\n",
      "-79.383807\n"
     ]
    }
   ],
   "source": [
    "venue_latitude = r[\"results\"][0][\"geocodes\"][\"main\"][\"latitude\"]\n",
    "venue_longitude = r[\"results\"][0][\"geocodes\"][\"main\"][\"longitude\"]\n",
    "print(venue_latitude)\n",
    "print(venue_longitude)"
   ]
  },
  {
   "cell_type": "code",
   "execution_count": 15,
   "metadata": {
    "id": "Mgn_Bh8WhR-V"
   },
   "outputs": [],
   "source": [
    "# iterar coordenadas  en el archivo jason\n",
    "# latitude\n",
    "i = 0\n",
    "\n",
    "venue_latitudes = []\n",
    "for latitude in r[\"results\"]:\n",
    "\n",
    "# extract fields from the JSON\n",
    "  venue_latitude = r[\"results\"][i][\"geocodes\"][\"main\"][\"latitude\"]\n",
    "  venue_latitudes.append(venue_latitude)\n",
    "\n",
    "  # new iteration (counter)\n",
    "  i +=1"
   ]
  },
  {
   "cell_type": "code",
   "execution_count": 16,
   "metadata": {
    "colab": {
     "base_uri": "https://localhost:8080/"
    },
    "id": "drR54D-OhSA_",
    "outputId": "5157c9aa-f340-488c-c6d1-b367a976ab37"
   },
   "outputs": [
    {
     "name": "stdout",
     "output_type": "stream",
     "text": [
      "<class 'list'>\n",
      "[43.658868, 43.665827, 43.650271, 43.652416, 43.651132, 43.648724, 43.656009, 43.650673, 43.669645, 43.653597, 43.649831, 43.66893, 43.651961, 43.660733, 43.659735, 43.649769, 43.645332, 43.646446, 43.66549, 43.642268, 43.661315, 43.637877, 43.664819, 43.668547, 43.671761, 43.710995, 43.662602, 43.638725, 43.677993, 43.657532, 43.645526, 43.626982, 43.673006, 43.649233, 43.650638, 43.669116, 43.680772, 43.63882, 43.627925, 43.646623, 43.651103, 43.668142, 43.652065, 43.689084, 43.647961, 43.628192, 43.709348, 43.665336, 43.725227, 43.639975]\n"
     ]
    }
   ],
   "source": [
    "print(type(venue_latitudes))\n",
    "print(venue_latitudes)"
   ]
  },
  {
   "cell_type": "code",
   "execution_count": 17,
   "metadata": {
    "id": "rxaWoXeahSDf"
   },
   "outputs": [],
   "source": [
    "# iterar coordenadas  en el archivo jason\n",
    "# longitude\n",
    "i = 0\n",
    "\n",
    "venue_longitudes = []\n",
    "for longitude in r[\"results\"]:\n",
    "\n",
    "# extract fields from the JSON\n",
    "  venue_longitude = r[\"results\"][i][\"geocodes\"][\"main\"][\"longitude\"]\n",
    "  venue_longitudes.append(venue_longitude)\n",
    "\n",
    "  # new iteration (counter)\n",
    "  i +=1"
   ]
  },
  {
   "cell_type": "code",
   "execution_count": 18,
   "metadata": {
    "colab": {
     "base_uri": "https://localhost:8080/"
    },
    "id": "5U1GUoQGhSGG",
    "outputId": "ed198dd5-8487-4b84-9b21-152e0cc830c7"
   },
   "outputs": [
    {
     "name": "stdout",
     "output_type": "stream",
     "text": [
      "<class 'list'>\n",
      "[-79.383807, -79.385383, -79.388563, -79.372916, -79.379023, -79.385137, -79.409254, -79.369086, -79.379958, -79.362024, -79.361332, -79.426097, -79.368356, -79.359603, -79.347007, -79.359079, -79.412503, -79.397957, -79.450145, -79.383596, -79.338327, -79.392291, -79.454714, -79.397414, -79.38717, -79.399041, -79.471193, -79.386023, -79.390267, -79.379012, -79.380468, -79.478494, -79.440268, -79.378113, -79.450565, -79.336802, -79.429257, -79.419455, -79.489347, -79.419441, -79.477943, -79.397583, -79.379311, -79.413044, -79.373984, -79.48953, -79.399293, -79.368143, -79.448889, -79.381174]\n"
     ]
    }
   ],
   "source": [
    "print(type(venue_longitudes))\n",
    "print(venue_longitudes)"
   ]
  },
  {
   "cell_type": "markdown",
   "metadata": {
    "id": "jKbPRUDOpKK3"
   },
   "source": [
    "#Creating list categories of the cafeteria"
   ]
  },
  {
   "cell_type": "code",
   "execution_count": 19,
   "metadata": {
    "colab": {
     "base_uri": "https://localhost:8080/"
    },
    "id": "B3_i_e_un-Qf",
    "outputId": "15111a14-3f96-4829-e2b8-f645f6769973"
   },
   "outputs": [
    {
     "name": "stdout",
     "output_type": "stream",
     "text": [
      "Coffee Shop\n"
     ]
    }
   ],
   "source": [
    "venue_category = r[\"results\"][0][\"categories\"][0][\"name\"]\n",
    "print(venue_category)"
   ]
  },
  {
   "cell_type": "code",
   "execution_count": 20,
   "metadata": {
    "id": "bZ-ngaqwn-S4"
   },
   "outputs": [],
   "source": [
    "# iterar category  en el archivo jason\n",
    "i = 0\n",
    "\n",
    "venue_categories = []\n",
    "for category in r[\"results\"]:\n",
    "\n",
    "# extract fields from the JSON\n",
    "  venue_category = r[\"results\"][0][\"categories\"][0][\"name\"]\n",
    "  venue_categories.append(venue_category)\n",
    "\n",
    "  # new iteration (counter)\n",
    "  i +=1"
   ]
  },
  {
   "cell_type": "code",
   "execution_count": 21,
   "metadata": {
    "colab": {
     "base_uri": "https://localhost:8080/"
    },
    "id": "Ti4mxI2Xn-VO",
    "outputId": "8bfaf4f2-0157-4d52-950b-3ceddbd16f57"
   },
   "outputs": [
    {
     "name": "stdout",
     "output_type": "stream",
     "text": [
      "<class 'list'>\n",
      "['Coffee Shop', 'Coffee Shop', 'Coffee Shop', 'Coffee Shop', 'Coffee Shop', 'Coffee Shop', 'Coffee Shop', 'Coffee Shop', 'Coffee Shop', 'Coffee Shop', 'Coffee Shop', 'Coffee Shop', 'Coffee Shop', 'Coffee Shop', 'Coffee Shop', 'Coffee Shop', 'Coffee Shop', 'Coffee Shop', 'Coffee Shop', 'Coffee Shop', 'Coffee Shop', 'Coffee Shop', 'Coffee Shop', 'Coffee Shop', 'Coffee Shop', 'Coffee Shop', 'Coffee Shop', 'Coffee Shop', 'Coffee Shop', 'Coffee Shop', 'Coffee Shop', 'Coffee Shop', 'Coffee Shop', 'Coffee Shop', 'Coffee Shop', 'Coffee Shop', 'Coffee Shop', 'Coffee Shop', 'Coffee Shop', 'Coffee Shop', 'Coffee Shop', 'Coffee Shop', 'Coffee Shop', 'Coffee Shop', 'Coffee Shop', 'Coffee Shop', 'Coffee Shop', 'Coffee Shop', 'Coffee Shop', 'Coffee Shop']\n"
     ]
    }
   ],
   "source": [
    "print(type(venue_categories))\n",
    "print(venue_categories)"
   ]
  },
  {
   "cell_type": "code",
   "execution_count": 22,
   "metadata": {
    "colab": {
     "base_uri": "https://localhost:8080/"
    },
    "id": "9uOqf1VyqhE9",
    "outputId": "dee6ed0f-e494-42b4-d464-c05db0debf28"
   },
   "outputs": [
    {
     "name": "stdout",
     "output_type": "stream",
     "text": [
      "M5G\n"
     ]
    }
   ],
   "source": [
    "postcode = r[\"results\"][0][\"location\"][\"postcode\"]\n",
    "venue_postcode = postcode[0:3]\n",
    "print(venue_postcode)"
   ]
  },
  {
   "cell_type": "code",
   "execution_count": 23,
   "metadata": {
    "id": "sXpfI_3MqIpj"
   },
   "outputs": [],
   "source": [
    "# iterar postalcode  en el archivo jason\n",
    "i = 0\n",
    "\n",
    "venue_postcodes= []\n",
    "for pc in r[\"results\"]:\n",
    "\n",
    "# extract fields from the JSON\n",
    "  postcode = r[\"results\"][0][\"location\"][\"postcode\"]\n",
    "  venue_postcode = postcode[0:3]\n",
    "  venue_postcodes.append(venue_postcode)\n",
    "\n",
    "  # new iteration (counter)\n",
    "  i +=1"
   ]
  },
  {
   "cell_type": "code",
   "execution_count": 24,
   "metadata": {
    "colab": {
     "base_uri": "https://localhost:8080/"
    },
    "id": "EdssjNRkqIsT",
    "outputId": "5104482f-19ca-4d7b-d821-68c8ee33ab12"
   },
   "outputs": [
    {
     "name": "stdout",
     "output_type": "stream",
     "text": [
      "['M5G', 'M5G', 'M5G', 'M5G', 'M5G', 'M5G', 'M5G', 'M5G', 'M5G', 'M5G', 'M5G', 'M5G', 'M5G', 'M5G', 'M5G', 'M5G', 'M5G', 'M5G', 'M5G', 'M5G', 'M5G', 'M5G', 'M5G', 'M5G', 'M5G', 'M5G', 'M5G', 'M5G', 'M5G', 'M5G', 'M5G', 'M5G', 'M5G', 'M5G', 'M5G', 'M5G', 'M5G', 'M5G', 'M5G', 'M5G', 'M5G', 'M5G', 'M5G', 'M5G', 'M5G', 'M5G', 'M5G', 'M5G', 'M5G', 'M5G']\n"
     ]
    }
   ],
   "source": [
    "print(venue_postcodes)"
   ]
  },
  {
   "cell_type": "markdown",
   "metadata": {
    "id": "uphQoUeEp8Lj"
   },
   "source": [
    "Merge list to create the Venue data frame "
   ]
  },
  {
   "cell_type": "code",
   "execution_count": 25,
   "metadata": {
    "id": "9l5ghJmchSQV"
   },
   "outputs": [],
   "source": [
    "df_venues = pd.DataFrame(list(zip(venue_names,venue_postcodes,venue_latitudes,venue_longitudes,venue_categories)), columns = ['Venue','Postal Code','Venue Latitude','Venue Longitude','Venue category'])"
   ]
  },
  {
   "cell_type": "code",
   "execution_count": 26,
   "metadata": {
    "colab": {
     "base_uri": "https://localhost:8080/",
     "height": 206
    },
    "id": "j3XLxRXWhSSh",
    "outputId": "bce0c1ca-a2b4-450a-f85a-b154cddc31dd"
   },
   "outputs": [
    {
     "data": {
      "text/html": [
       "<div>\n",
       "<style scoped>\n",
       "    .dataframe tbody tr th:only-of-type {\n",
       "        vertical-align: middle;\n",
       "    }\n",
       "\n",
       "    .dataframe tbody tr th {\n",
       "        vertical-align: top;\n",
       "    }\n",
       "\n",
       "    .dataframe thead th {\n",
       "        text-align: right;\n",
       "    }\n",
       "</style>\n",
       "<table border=\"1\" class=\"dataframe\">\n",
       "  <thead>\n",
       "    <tr style=\"text-align: right;\">\n",
       "      <th></th>\n",
       "      <th>Venue</th>\n",
       "      <th>Postal Code</th>\n",
       "      <th>Venue Latitude</th>\n",
       "      <th>Venue Longitude</th>\n",
       "      <th>Venue category</th>\n",
       "    </tr>\n",
       "  </thead>\n",
       "  <tbody>\n",
       "    <tr>\n",
       "      <th>0</th>\n",
       "      <td>Hailed Coffee</td>\n",
       "      <td>M5G</td>\n",
       "      <td>43.658868</td>\n",
       "      <td>-79.383807</td>\n",
       "      <td>Coffee Shop</td>\n",
       "    </tr>\n",
       "    <tr>\n",
       "      <th>1</th>\n",
       "      <td>The Alley</td>\n",
       "      <td>M5G</td>\n",
       "      <td>43.665827</td>\n",
       "      <td>-79.385383</td>\n",
       "      <td>Coffee Shop</td>\n",
       "    </tr>\n",
       "    <tr>\n",
       "      <th>2</th>\n",
       "      <td>HotBlack Coffee</td>\n",
       "      <td>M5G</td>\n",
       "      <td>43.650271</td>\n",
       "      <td>-79.388563</td>\n",
       "      <td>Coffee Shop</td>\n",
       "    </tr>\n",
       "    <tr>\n",
       "      <th>3</th>\n",
       "      <td>Fahrenheit Coffee</td>\n",
       "      <td>M5G</td>\n",
       "      <td>43.652416</td>\n",
       "      <td>-79.372916</td>\n",
       "      <td>Coffee Shop</td>\n",
       "    </tr>\n",
       "    <tr>\n",
       "      <th>4</th>\n",
       "      <td>Dineen Coffee Co</td>\n",
       "      <td>M5G</td>\n",
       "      <td>43.651132</td>\n",
       "      <td>-79.379023</td>\n",
       "      <td>Coffee Shop</td>\n",
       "    </tr>\n",
       "  </tbody>\n",
       "</table>\n",
       "</div>"
      ],
      "text/plain": [
       "               Venue Postal Code  Venue Latitude  Venue Longitude  \\\n",
       "0      Hailed Coffee         M5G       43.658868       -79.383807   \n",
       "1          The Alley         M5G       43.665827       -79.385383   \n",
       "2    HotBlack Coffee         M5G       43.650271       -79.388563   \n",
       "3  Fahrenheit Coffee         M5G       43.652416       -79.372916   \n",
       "4   Dineen Coffee Co         M5G       43.651132       -79.379023   \n",
       "\n",
       "  Venue category  \n",
       "0    Coffee Shop  \n",
       "1    Coffee Shop  \n",
       "2    Coffee Shop  \n",
       "3    Coffee Shop  \n",
       "4    Coffee Shop  "
      ]
     },
     "execution_count": 26,
     "metadata": {},
     "output_type": "execute_result"
    }
   ],
   "source": [
    "df_venues.head()"
   ]
  },
  {
   "cell_type": "code",
   "execution_count": 27,
   "metadata": {
    "colab": {
     "base_uri": "https://localhost:8080/",
     "height": 112
    },
    "id": "qxplSQU_hSUe",
    "outputId": "19e51e8d-b667-4f8a-d08d-86ee2c0772d8"
   },
   "outputs": [
    {
     "data": {
      "text/html": [
       "<div>\n",
       "<style scoped>\n",
       "    .dataframe tbody tr th:only-of-type {\n",
       "        vertical-align: middle;\n",
       "    }\n",
       "\n",
       "    .dataframe tbody tr th {\n",
       "        vertical-align: top;\n",
       "    }\n",
       "\n",
       "    .dataframe thead th {\n",
       "        text-align: right;\n",
       "    }\n",
       "</style>\n",
       "<table border=\"1\" class=\"dataframe\">\n",
       "  <thead>\n",
       "    <tr style=\"text-align: right;\">\n",
       "      <th></th>\n",
       "      <th>Venue</th>\n",
       "      <th>Venue Latitude</th>\n",
       "      <th>Venue Longitude</th>\n",
       "      <th>Venue category</th>\n",
       "    </tr>\n",
       "    <tr>\n",
       "      <th>Postal Code</th>\n",
       "      <th></th>\n",
       "      <th></th>\n",
       "      <th></th>\n",
       "      <th></th>\n",
       "    </tr>\n",
       "  </thead>\n",
       "  <tbody>\n",
       "    <tr>\n",
       "      <th>M5G</th>\n",
       "      <td>50</td>\n",
       "      <td>50</td>\n",
       "      <td>50</td>\n",
       "      <td>50</td>\n",
       "    </tr>\n",
       "  </tbody>\n",
       "</table>\n",
       "</div>"
      ],
      "text/plain": [
       "             Venue  Venue Latitude  Venue Longitude  Venue category\n",
       "Postal Code                                                        \n",
       "M5G             50              50               50              50"
      ]
     },
     "execution_count": 27,
     "metadata": {},
     "output_type": "execute_result"
    }
   ],
   "source": [
    "df_venues.groupby('Postal Code').count()"
   ]
  },
  {
   "cell_type": "code",
   "execution_count": 28,
   "metadata": {
    "id": "-ok-NaxSl3t-"
   },
   "outputs": [],
   "source": [
    "toronto_venues = pd.merge(df_toronto, df_venues)"
   ]
  },
  {
   "cell_type": "code",
   "execution_count": 29,
   "metadata": {
    "colab": {
     "base_uri": "https://localhost:8080/",
     "height": 354
    },
    "id": "qeuCP9rEl3vs",
    "outputId": "0a316a37-2e44-4d88-a9ec-0cbc1a8b001f"
   },
   "outputs": [
    {
     "data": {
      "text/html": [
       "<div>\n",
       "<style scoped>\n",
       "    .dataframe tbody tr th:only-of-type {\n",
       "        vertical-align: middle;\n",
       "    }\n",
       "\n",
       "    .dataframe tbody tr th {\n",
       "        vertical-align: top;\n",
       "    }\n",
       "\n",
       "    .dataframe thead th {\n",
       "        text-align: right;\n",
       "    }\n",
       "</style>\n",
       "<table border=\"1\" class=\"dataframe\">\n",
       "  <thead>\n",
       "    <tr style=\"text-align: right;\">\n",
       "      <th></th>\n",
       "      <th>Postal Code</th>\n",
       "      <th>Borough</th>\n",
       "      <th>Neighborhood</th>\n",
       "      <th>Latitude</th>\n",
       "      <th>Longitude</th>\n",
       "      <th>Venue</th>\n",
       "      <th>Venue Latitude</th>\n",
       "      <th>Venue Longitude</th>\n",
       "      <th>Venue category</th>\n",
       "    </tr>\n",
       "  </thead>\n",
       "  <tbody>\n",
       "    <tr>\n",
       "      <th>0</th>\n",
       "      <td>M5G</td>\n",
       "      <td>Downtown Toronto</td>\n",
       "      <td>Central Bay Street</td>\n",
       "      <td>43.657952</td>\n",
       "      <td>-79.387383</td>\n",
       "      <td>Hailed Coffee</td>\n",
       "      <td>43.658868</td>\n",
       "      <td>-79.383807</td>\n",
       "      <td>Coffee Shop</td>\n",
       "    </tr>\n",
       "    <tr>\n",
       "      <th>1</th>\n",
       "      <td>M5G</td>\n",
       "      <td>Downtown Toronto</td>\n",
       "      <td>Central Bay Street</td>\n",
       "      <td>43.657952</td>\n",
       "      <td>-79.387383</td>\n",
       "      <td>The Alley</td>\n",
       "      <td>43.665827</td>\n",
       "      <td>-79.385383</td>\n",
       "      <td>Coffee Shop</td>\n",
       "    </tr>\n",
       "    <tr>\n",
       "      <th>2</th>\n",
       "      <td>M5G</td>\n",
       "      <td>Downtown Toronto</td>\n",
       "      <td>Central Bay Street</td>\n",
       "      <td>43.657952</td>\n",
       "      <td>-79.387383</td>\n",
       "      <td>HotBlack Coffee</td>\n",
       "      <td>43.650271</td>\n",
       "      <td>-79.388563</td>\n",
       "      <td>Coffee Shop</td>\n",
       "    </tr>\n",
       "    <tr>\n",
       "      <th>3</th>\n",
       "      <td>M5G</td>\n",
       "      <td>Downtown Toronto</td>\n",
       "      <td>Central Bay Street</td>\n",
       "      <td>43.657952</td>\n",
       "      <td>-79.387383</td>\n",
       "      <td>Fahrenheit Coffee</td>\n",
       "      <td>43.652416</td>\n",
       "      <td>-79.372916</td>\n",
       "      <td>Coffee Shop</td>\n",
       "    </tr>\n",
       "    <tr>\n",
       "      <th>4</th>\n",
       "      <td>M5G</td>\n",
       "      <td>Downtown Toronto</td>\n",
       "      <td>Central Bay Street</td>\n",
       "      <td>43.657952</td>\n",
       "      <td>-79.387383</td>\n",
       "      <td>Dineen Coffee Co</td>\n",
       "      <td>43.651132</td>\n",
       "      <td>-79.379023</td>\n",
       "      <td>Coffee Shop</td>\n",
       "    </tr>\n",
       "  </tbody>\n",
       "</table>\n",
       "</div>"
      ],
      "text/plain": [
       "  Postal Code           Borough        Neighborhood   Latitude  Longitude  \\\n",
       "0         M5G  Downtown Toronto  Central Bay Street  43.657952 -79.387383   \n",
       "1         M5G  Downtown Toronto  Central Bay Street  43.657952 -79.387383   \n",
       "2         M5G  Downtown Toronto  Central Bay Street  43.657952 -79.387383   \n",
       "3         M5G  Downtown Toronto  Central Bay Street  43.657952 -79.387383   \n",
       "4         M5G  Downtown Toronto  Central Bay Street  43.657952 -79.387383   \n",
       "\n",
       "               Venue  Venue Latitude  Venue Longitude Venue category  \n",
       "0      Hailed Coffee       43.658868       -79.383807    Coffee Shop  \n",
       "1          The Alley       43.665827       -79.385383    Coffee Shop  \n",
       "2    HotBlack Coffee       43.650271       -79.388563    Coffee Shop  \n",
       "3  Fahrenheit Coffee       43.652416       -79.372916    Coffee Shop  \n",
       "4   Dineen Coffee Co       43.651132       -79.379023    Coffee Shop  "
      ]
     },
     "execution_count": 29,
     "metadata": {},
     "output_type": "execute_result"
    }
   ],
   "source": [
    "toronto_venues.head()"
   ]
  },
  {
   "cell_type": "code",
   "execution_count": 30,
   "metadata": {
    "id": "4__PHlRZl3zT"
   },
   "outputs": [],
   "source": [
    "#  Neighborhood   Neighborhood Latitude   Neighborhood Longitude  Venue\tVenue Latitude\tVenue Longitude\tVenue category"
   ]
  },
  {
   "cell_type": "code",
   "execution_count": 31,
   "metadata": {
    "id": "mhfdejXFl31t"
   },
   "outputs": [],
   "source": [
    "toronto_venues.rename(columns={'Latitude': 'Neighborhood Latitude', \n",
    "                           'Longitude': 'Neighborhood Longitude'}, inplace=True)"
   ]
  },
  {
   "cell_type": "code",
   "execution_count": 32,
   "metadata": {
    "colab": {
     "base_uri": "https://localhost:8080/",
     "height": 372
    },
    "id": "nJTx1lQMl33q",
    "outputId": "5f4c452e-f4fa-4a55-a908-bed0823645fb"
   },
   "outputs": [
    {
     "data": {
      "text/html": [
       "<div>\n",
       "<style scoped>\n",
       "    .dataframe tbody tr th:only-of-type {\n",
       "        vertical-align: middle;\n",
       "    }\n",
       "\n",
       "    .dataframe tbody tr th {\n",
       "        vertical-align: top;\n",
       "    }\n",
       "\n",
       "    .dataframe thead th {\n",
       "        text-align: right;\n",
       "    }\n",
       "</style>\n",
       "<table border=\"1\" class=\"dataframe\">\n",
       "  <thead>\n",
       "    <tr style=\"text-align: right;\">\n",
       "      <th></th>\n",
       "      <th>Postal Code</th>\n",
       "      <th>Borough</th>\n",
       "      <th>Neighborhood</th>\n",
       "      <th>Neighborhood Latitude</th>\n",
       "      <th>Neighborhood Longitude</th>\n",
       "      <th>Venue</th>\n",
       "      <th>Venue Latitude</th>\n",
       "      <th>Venue Longitude</th>\n",
       "      <th>Venue category</th>\n",
       "    </tr>\n",
       "  </thead>\n",
       "  <tbody>\n",
       "    <tr>\n",
       "      <th>45</th>\n",
       "      <td>M5G</td>\n",
       "      <td>Downtown Toronto</td>\n",
       "      <td>Central Bay Street</td>\n",
       "      <td>43.657952</td>\n",
       "      <td>-79.387383</td>\n",
       "      <td>Tim Hortons</td>\n",
       "      <td>43.628192</td>\n",
       "      <td>-79.489530</td>\n",
       "      <td>Coffee Shop</td>\n",
       "    </tr>\n",
       "    <tr>\n",
       "      <th>46</th>\n",
       "      <td>M5G</td>\n",
       "      <td>Downtown Toronto</td>\n",
       "      <td>Central Bay Street</td>\n",
       "      <td>43.657952</td>\n",
       "      <td>-79.387383</td>\n",
       "      <td>Stock T.C</td>\n",
       "      <td>43.709348</td>\n",
       "      <td>-79.399293</td>\n",
       "      <td>Coffee Shop</td>\n",
       "    </tr>\n",
       "    <tr>\n",
       "      <th>47</th>\n",
       "      <td>M5G</td>\n",
       "      <td>Downtown Toronto</td>\n",
       "      <td>Central Bay Street</td>\n",
       "      <td>43.657952</td>\n",
       "      <td>-79.387383</td>\n",
       "      <td>Jet Fuel Coffee Shop Inc</td>\n",
       "      <td>43.665336</td>\n",
       "      <td>-79.368143</td>\n",
       "      <td>Coffee Shop</td>\n",
       "    </tr>\n",
       "    <tr>\n",
       "      <th>48</th>\n",
       "      <td>M5G</td>\n",
       "      <td>Downtown Toronto</td>\n",
       "      <td>Central Bay Street</td>\n",
       "      <td>43.657952</td>\n",
       "      <td>-79.387383</td>\n",
       "      <td>Starbucks</td>\n",
       "      <td>43.725227</td>\n",
       "      <td>-79.448889</td>\n",
       "      <td>Coffee Shop</td>\n",
       "    </tr>\n",
       "    <tr>\n",
       "      <th>49</th>\n",
       "      <td>M5G</td>\n",
       "      <td>Downtown Toronto</td>\n",
       "      <td>Central Bay Street</td>\n",
       "      <td>43.657952</td>\n",
       "      <td>-79.387383</td>\n",
       "      <td>Starbucks</td>\n",
       "      <td>43.639975</td>\n",
       "      <td>-79.381174</td>\n",
       "      <td>Coffee Shop</td>\n",
       "    </tr>\n",
       "  </tbody>\n",
       "</table>\n",
       "</div>"
      ],
      "text/plain": [
       "   Postal Code           Borough        Neighborhood  Neighborhood Latitude  \\\n",
       "45         M5G  Downtown Toronto  Central Bay Street              43.657952   \n",
       "46         M5G  Downtown Toronto  Central Bay Street              43.657952   \n",
       "47         M5G  Downtown Toronto  Central Bay Street              43.657952   \n",
       "48         M5G  Downtown Toronto  Central Bay Street              43.657952   \n",
       "49         M5G  Downtown Toronto  Central Bay Street              43.657952   \n",
       "\n",
       "    Neighborhood Longitude                     Venue  Venue Latitude  \\\n",
       "45              -79.387383               Tim Hortons       43.628192   \n",
       "46              -79.387383                 Stock T.C       43.709348   \n",
       "47              -79.387383  Jet Fuel Coffee Shop Inc       43.665336   \n",
       "48              -79.387383                 Starbucks       43.725227   \n",
       "49              -79.387383                 Starbucks       43.639975   \n",
       "\n",
       "    Venue Longitude Venue category  \n",
       "45       -79.489530    Coffee Shop  \n",
       "46       -79.399293    Coffee Shop  \n",
       "47       -79.368143    Coffee Shop  \n",
       "48       -79.448889    Coffee Shop  \n",
       "49       -79.381174    Coffee Shop  "
      ]
     },
     "execution_count": 32,
     "metadata": {},
     "output_type": "execute_result"
    }
   ],
   "source": [
    "toronto_venues.tail()"
   ]
  },
  {
   "cell_type": "markdown",
   "metadata": {
    "id": "MHMn2bDq1Llt"
   },
   "source": [
    "Drop some columns"
   ]
  },
  {
   "cell_type": "code",
   "execution_count": 33,
   "metadata": {
    "colab": {
     "base_uri": "https://localhost:8080/"
    },
    "id": "sPBCIV_sl35D",
    "outputId": "18510322-a6ad-4f5f-8b47-f25bbba8f546"
   },
   "outputs": [
    {
     "data": {
      "text/plain": [
       "0     M5G\n",
       "1     M5G\n",
       "2     M5G\n",
       "3     M5G\n",
       "4     M5G\n",
       "5     M5G\n",
       "6     M5G\n",
       "7     M5G\n",
       "8     M5G\n",
       "9     M5G\n",
       "10    M5G\n",
       "11    M5G\n",
       "12    M5G\n",
       "13    M5G\n",
       "14    M5G\n",
       "15    M5G\n",
       "16    M5G\n",
       "17    M5G\n",
       "18    M5G\n",
       "19    M5G\n",
       "20    M5G\n",
       "21    M5G\n",
       "22    M5G\n",
       "23    M5G\n",
       "24    M5G\n",
       "25    M5G\n",
       "26    M5G\n",
       "27    M5G\n",
       "28    M5G\n",
       "29    M5G\n",
       "30    M5G\n",
       "31    M5G\n",
       "32    M5G\n",
       "33    M5G\n",
       "34    M5G\n",
       "35    M5G\n",
       "36    M5G\n",
       "37    M5G\n",
       "38    M5G\n",
       "39    M5G\n",
       "40    M5G\n",
       "41    M5G\n",
       "42    M5G\n",
       "43    M5G\n",
       "44    M5G\n",
       "45    M5G\n",
       "46    M5G\n",
       "47    M5G\n",
       "48    M5G\n",
       "49    M5G\n",
       "Name: Postal Code, dtype: object"
      ]
     },
     "execution_count": 33,
     "metadata": {},
     "output_type": "execute_result"
    }
   ],
   "source": [
    "toronto_venues.pop('Postal Code')"
   ]
  },
  {
   "cell_type": "code",
   "execution_count": 34,
   "metadata": {
    "colab": {
     "base_uri": "https://localhost:8080/"
    },
    "id": "6o_Ek9VvnnsZ",
    "outputId": "6811aeb8-5260-4424-d944-34b63181faf1"
   },
   "outputs": [
    {
     "data": {
      "text/plain": [
       "0     Downtown Toronto\n",
       "1     Downtown Toronto\n",
       "2     Downtown Toronto\n",
       "3     Downtown Toronto\n",
       "4     Downtown Toronto\n",
       "5     Downtown Toronto\n",
       "6     Downtown Toronto\n",
       "7     Downtown Toronto\n",
       "8     Downtown Toronto\n",
       "9     Downtown Toronto\n",
       "10    Downtown Toronto\n",
       "11    Downtown Toronto\n",
       "12    Downtown Toronto\n",
       "13    Downtown Toronto\n",
       "14    Downtown Toronto\n",
       "15    Downtown Toronto\n",
       "16    Downtown Toronto\n",
       "17    Downtown Toronto\n",
       "18    Downtown Toronto\n",
       "19    Downtown Toronto\n",
       "20    Downtown Toronto\n",
       "21    Downtown Toronto\n",
       "22    Downtown Toronto\n",
       "23    Downtown Toronto\n",
       "24    Downtown Toronto\n",
       "25    Downtown Toronto\n",
       "26    Downtown Toronto\n",
       "27    Downtown Toronto\n",
       "28    Downtown Toronto\n",
       "29    Downtown Toronto\n",
       "30    Downtown Toronto\n",
       "31    Downtown Toronto\n",
       "32    Downtown Toronto\n",
       "33    Downtown Toronto\n",
       "34    Downtown Toronto\n",
       "35    Downtown Toronto\n",
       "36    Downtown Toronto\n",
       "37    Downtown Toronto\n",
       "38    Downtown Toronto\n",
       "39    Downtown Toronto\n",
       "40    Downtown Toronto\n",
       "41    Downtown Toronto\n",
       "42    Downtown Toronto\n",
       "43    Downtown Toronto\n",
       "44    Downtown Toronto\n",
       "45    Downtown Toronto\n",
       "46    Downtown Toronto\n",
       "47    Downtown Toronto\n",
       "48    Downtown Toronto\n",
       "49    Downtown Toronto\n",
       "Name: Borough, dtype: object"
      ]
     },
     "execution_count": 34,
     "metadata": {},
     "output_type": "execute_result"
    }
   ],
   "source": [
    "toronto_venues.pop('Borough')"
   ]
  },
  {
   "cell_type": "code",
   "execution_count": 35,
   "metadata": {
    "colab": {
     "base_uri": "https://localhost:8080/",
     "height": 354
    },
    "id": "658w9FR2nnvH",
    "outputId": "45f953b9-b7ad-4b53-a3db-6fac1d22f4a7"
   },
   "outputs": [
    {
     "data": {
      "text/html": [
       "<div>\n",
       "<style scoped>\n",
       "    .dataframe tbody tr th:only-of-type {\n",
       "        vertical-align: middle;\n",
       "    }\n",
       "\n",
       "    .dataframe tbody tr th {\n",
       "        vertical-align: top;\n",
       "    }\n",
       "\n",
       "    .dataframe thead th {\n",
       "        text-align: right;\n",
       "    }\n",
       "</style>\n",
       "<table border=\"1\" class=\"dataframe\">\n",
       "  <thead>\n",
       "    <tr style=\"text-align: right;\">\n",
       "      <th></th>\n",
       "      <th>Neighborhood</th>\n",
       "      <th>Neighborhood Latitude</th>\n",
       "      <th>Neighborhood Longitude</th>\n",
       "      <th>Venue</th>\n",
       "      <th>Venue Latitude</th>\n",
       "      <th>Venue Longitude</th>\n",
       "      <th>Venue category</th>\n",
       "    </tr>\n",
       "  </thead>\n",
       "  <tbody>\n",
       "    <tr>\n",
       "      <th>45</th>\n",
       "      <td>Central Bay Street</td>\n",
       "      <td>43.657952</td>\n",
       "      <td>-79.387383</td>\n",
       "      <td>Tim Hortons</td>\n",
       "      <td>43.628192</td>\n",
       "      <td>-79.489530</td>\n",
       "      <td>Coffee Shop</td>\n",
       "    </tr>\n",
       "    <tr>\n",
       "      <th>46</th>\n",
       "      <td>Central Bay Street</td>\n",
       "      <td>43.657952</td>\n",
       "      <td>-79.387383</td>\n",
       "      <td>Stock T.C</td>\n",
       "      <td>43.709348</td>\n",
       "      <td>-79.399293</td>\n",
       "      <td>Coffee Shop</td>\n",
       "    </tr>\n",
       "    <tr>\n",
       "      <th>47</th>\n",
       "      <td>Central Bay Street</td>\n",
       "      <td>43.657952</td>\n",
       "      <td>-79.387383</td>\n",
       "      <td>Jet Fuel Coffee Shop Inc</td>\n",
       "      <td>43.665336</td>\n",
       "      <td>-79.368143</td>\n",
       "      <td>Coffee Shop</td>\n",
       "    </tr>\n",
       "    <tr>\n",
       "      <th>48</th>\n",
       "      <td>Central Bay Street</td>\n",
       "      <td>43.657952</td>\n",
       "      <td>-79.387383</td>\n",
       "      <td>Starbucks</td>\n",
       "      <td>43.725227</td>\n",
       "      <td>-79.448889</td>\n",
       "      <td>Coffee Shop</td>\n",
       "    </tr>\n",
       "    <tr>\n",
       "      <th>49</th>\n",
       "      <td>Central Bay Street</td>\n",
       "      <td>43.657952</td>\n",
       "      <td>-79.387383</td>\n",
       "      <td>Starbucks</td>\n",
       "      <td>43.639975</td>\n",
       "      <td>-79.381174</td>\n",
       "      <td>Coffee Shop</td>\n",
       "    </tr>\n",
       "  </tbody>\n",
       "</table>\n",
       "</div>"
      ],
      "text/plain": [
       "          Neighborhood  Neighborhood Latitude  Neighborhood Longitude  \\\n",
       "45  Central Bay Street              43.657952              -79.387383   \n",
       "46  Central Bay Street              43.657952              -79.387383   \n",
       "47  Central Bay Street              43.657952              -79.387383   \n",
       "48  Central Bay Street              43.657952              -79.387383   \n",
       "49  Central Bay Street              43.657952              -79.387383   \n",
       "\n",
       "                       Venue  Venue Latitude  Venue Longitude Venue category  \n",
       "45               Tim Hortons       43.628192       -79.489530    Coffee Shop  \n",
       "46                 Stock T.C       43.709348       -79.399293    Coffee Shop  \n",
       "47  Jet Fuel Coffee Shop Inc       43.665336       -79.368143    Coffee Shop  \n",
       "48                 Starbucks       43.725227       -79.448889    Coffee Shop  \n",
       "49                 Starbucks       43.639975       -79.381174    Coffee Shop  "
      ]
     },
     "execution_count": 35,
     "metadata": {},
     "output_type": "execute_result"
    }
   ],
   "source": [
    "toronto_venues.tail()"
   ]
  },
  {
   "cell_type": "markdown",
   "metadata": {
    "id": "R6PEQ8MA_0Ee"
   },
   "source": [
    "# Visualization of Coffe Shops on Central Bay Street Neighborhood"
   ]
  },
  {
   "cell_type": "code",
   "execution_count": 36,
   "metadata": {
    "colab": {
     "base_uri": "https://localhost:8080/"
    },
    "id": "4GQLqbv2nnxT",
    "outputId": "a56c64f1-6936-41d4-9d48-92b5d98055a2"
   },
   "outputs": [
    {
     "data": {
      "text/plain": [
       "Venue\n",
       "Aroma Espresso Bar                1\n",
       "Arvo Coffee                       1\n",
       "Balzac's Coffee                   1\n",
       "Balzac's Coffee Roasters          1\n",
       "Balzac's Coffee Roastery          1\n",
       "Balzacs Coffee                    1\n",
       "Boxcar Social                     1\n",
       "Cafe Landwer                      1\n",
       "Contra Cafe                       1\n",
       "Dineen Coffee Co                  1\n",
       "Dineen Outpost                    1\n",
       "Fahrenheit Coffee                 1\n",
       "Hailed Coffee                     1\n",
       "Hale Coffee                       1\n",
       "HotBlack Coffee                   1\n",
       "Impact Kitchen                    1\n",
       "Jet Fuel Coffee Shop Inc          1\n",
       "Krave Coffee                      1\n",
       "Le Beau                           1\n",
       "Lola's Gelato                     1\n",
       "Mattachioni                       1\n",
       "Neo Coffee Bar                    1\n",
       "Nespresso                         1\n",
       "Pilot Coffee Roasters             1\n",
       "Reunion Island Coffee Bar         1\n",
       "Rooster Coffee House              1\n",
       "Snakes & Lattes College           1\n",
       "Starbucks                        10\n",
       "Stock T.C                         1\n",
       "Tandem Coffee                     1\n",
       "Te Aro                            1\n",
       "The Alley                         1\n",
       "The Black Canary Espresso Bar     1\n",
       "The Good Neighbour                1\n",
       "The Sovereign                     1\n",
       "Tim Hortons                       4\n",
       "White Squirrel Coffee Shop        1\n",
       "Zaza Espresso Bar                 1\n",
       "Name: Neighborhood, dtype: int64"
      ]
     },
     "execution_count": 36,
     "metadata": {},
     "output_type": "execute_result"
    }
   ],
   "source": [
    "toronto_venues.groupby('Venue')['Neighborhood'].count()"
   ]
  },
  {
   "cell_type": "markdown",
   "metadata": {
    "id": "vONaqxek_9cl"
   },
   "source": [
    "First, we need to get the coordinates of each cafeteria in a list, to make it easier to work with folium. "
   ]
  },
  {
   "cell_type": "code",
   "execution_count": 37,
   "metadata": {
    "colab": {
     "base_uri": "https://localhost:8080/"
    },
    "id": "fGQAoQXtJkUb",
    "outputId": "357efb52-1c09-48ed-cf0d-3d30cc431f8b"
   },
   "outputs": [
    {
     "data": {
      "text/plain": [
       "[43.710995, -79.399041]"
      ]
     },
     "execution_count": 37,
     "metadata": {},
     "output_type": "execute_result"
    }
   ],
   "source": [
    "# the longitude and latitude values by moving them into a list\n",
    "locations = toronto_venues[['Venue Latitude', 'Venue Longitude']]\n",
    "locationlist = locations.values.tolist()\n",
    "len(locationlist)\n",
    "locationlist[25]"
   ]
  },
  {
   "cell_type": "code",
   "execution_count": 38,
   "metadata": {
    "colab": {
     "base_uri": "https://localhost:8080/",
     "height": 510
    },
    "id": "LzC3Tm8E2JPM",
    "outputId": "4d746830-5a92-4ba3-deb9-8791cfaf260a"
   },
   "outputs": [
    {
     "data": {
      "text/html": [
       "<div style=\"width:100%;\"><div style=\"position:relative;width:100%;height:0;padding-bottom:60%;\"><span style=\"color:#565656\">Make this Notebook Trusted to load map: File -> Trust Notebook</span><iframe src=\"about:blank\" style=\"position:absolute;width:100%;height:100%;left:0;top:0;border:none !important;\" data-html=%3C%21DOCTYPE%20html%3E%0A%3Chead%3E%20%20%20%20%0A%20%20%20%20%3Cmeta%20http-equiv%3D%22content-type%22%20content%3D%22text/html%3B%20charset%3DUTF-8%22%20/%3E%0A%20%20%20%20%0A%20%20%20%20%20%20%20%20%3Cscript%3E%0A%20%20%20%20%20%20%20%20%20%20%20%20L_NO_TOUCH%20%3D%20false%3B%0A%20%20%20%20%20%20%20%20%20%20%20%20L_DISABLE_3D%20%3D%20false%3B%0A%20%20%20%20%20%20%20%20%3C/script%3E%0A%20%20%20%20%0A%20%20%20%20%3Cstyle%3Ehtml%2C%20body%20%7Bwidth%3A%20100%25%3Bheight%3A%20100%25%3Bmargin%3A%200%3Bpadding%3A%200%3B%7D%3C/style%3E%0A%20%20%20%20%3Cstyle%3E%23map%20%7Bposition%3Aabsolute%3Btop%3A0%3Bbottom%3A0%3Bright%3A0%3Bleft%3A0%3B%7D%3C/style%3E%0A%20%20%20%20%3Cscript%20src%3D%22https%3A//cdn.jsdelivr.net/npm/leaflet%401.6.0/dist/leaflet.js%22%3E%3C/script%3E%0A%20%20%20%20%3Cscript%20src%3D%22https%3A//code.jquery.com/jquery-1.12.4.min.js%22%3E%3C/script%3E%0A%20%20%20%20%3Cscript%20src%3D%22https%3A//maxcdn.bootstrapcdn.com/bootstrap/3.2.0/js/bootstrap.min.js%22%3E%3C/script%3E%0A%20%20%20%20%3Cscript%20src%3D%22https%3A//cdnjs.cloudflare.com/ajax/libs/Leaflet.awesome-markers/2.0.2/leaflet.awesome-markers.js%22%3E%3C/script%3E%0A%20%20%20%20%3Clink%20rel%3D%22stylesheet%22%20href%3D%22https%3A//cdn.jsdelivr.net/npm/leaflet%401.6.0/dist/leaflet.css%22/%3E%0A%20%20%20%20%3Clink%20rel%3D%22stylesheet%22%20href%3D%22https%3A//maxcdn.bootstrapcdn.com/bootstrap/3.2.0/css/bootstrap.min.css%22/%3E%0A%20%20%20%20%3Clink%20rel%3D%22stylesheet%22%20href%3D%22https%3A//maxcdn.bootstrapcdn.com/bootstrap/3.2.0/css/bootstrap-theme.min.css%22/%3E%0A%20%20%20%20%3Clink%20rel%3D%22stylesheet%22%20href%3D%22https%3A//maxcdn.bootstrapcdn.com/font-awesome/4.6.3/css/font-awesome.min.css%22/%3E%0A%20%20%20%20%3Clink%20rel%3D%22stylesheet%22%20href%3D%22https%3A//cdnjs.cloudflare.com/ajax/libs/Leaflet.awesome-markers/2.0.2/leaflet.awesome-markers.css%22/%3E%0A%20%20%20%20%3Clink%20rel%3D%22stylesheet%22%20href%3D%22https%3A//cdn.jsdelivr.net/gh/python-visualization/folium/folium/templates/leaflet.awesome.rotate.min.css%22/%3E%0A%20%20%20%20%0A%20%20%20%20%20%20%20%20%20%20%20%20%3Cmeta%20name%3D%22viewport%22%20content%3D%22width%3Ddevice-width%2C%0A%20%20%20%20%20%20%20%20%20%20%20%20%20%20%20%20initial-scale%3D1.0%2C%20maximum-scale%3D1.0%2C%20user-scalable%3Dno%22%20/%3E%0A%20%20%20%20%20%20%20%20%20%20%20%20%3Cstyle%3E%0A%20%20%20%20%20%20%20%20%20%20%20%20%20%20%20%20%23map_14361420296f4c76a7b1fcc5b126ee89%20%7B%0A%20%20%20%20%20%20%20%20%20%20%20%20%20%20%20%20%20%20%20%20position%3A%20relative%3B%0A%20%20%20%20%20%20%20%20%20%20%20%20%20%20%20%20%20%20%20%20width%3A%20100.0%25%3B%0A%20%20%20%20%20%20%20%20%20%20%20%20%20%20%20%20%20%20%20%20height%3A%20100.0%25%3B%0A%20%20%20%20%20%20%20%20%20%20%20%20%20%20%20%20%20%20%20%20left%3A%200.0%25%3B%0A%20%20%20%20%20%20%20%20%20%20%20%20%20%20%20%20%20%20%20%20top%3A%200.0%25%3B%0A%20%20%20%20%20%20%20%20%20%20%20%20%20%20%20%20%7D%0A%20%20%20%20%20%20%20%20%20%20%20%20%3C/style%3E%0A%20%20%20%20%20%20%20%20%0A%3C/head%3E%0A%3Cbody%3E%20%20%20%20%0A%20%20%20%20%0A%20%20%20%20%20%20%20%20%20%20%20%20%3Cdiv%20class%3D%22folium-map%22%20id%3D%22map_14361420296f4c76a7b1fcc5b126ee89%22%20%3E%3C/div%3E%0A%20%20%20%20%20%20%20%20%0A%3C/body%3E%0A%3Cscript%3E%20%20%20%20%0A%20%20%20%20%0A%20%20%20%20%20%20%20%20%20%20%20%20var%20map_14361420296f4c76a7b1fcc5b126ee89%20%3D%20L.map%28%0A%20%20%20%20%20%20%20%20%20%20%20%20%20%20%20%20%22map_14361420296f4c76a7b1fcc5b126ee89%22%2C%0A%20%20%20%20%20%20%20%20%20%20%20%20%20%20%20%20%7B%0A%20%20%20%20%20%20%20%20%20%20%20%20%20%20%20%20%20%20%20%20center%3A%20%5B43.677993%2C%20-79.390267%5D%2C%0A%20%20%20%20%20%20%20%20%20%20%20%20%20%20%20%20%20%20%20%20crs%3A%20L.CRS.EPSG3857%2C%0A%20%20%20%20%20%20%20%20%20%20%20%20%20%20%20%20%20%20%20%20zoom%3A%2012%2C%0A%20%20%20%20%20%20%20%20%20%20%20%20%20%20%20%20%20%20%20%20zoomControl%3A%20true%2C%0A%20%20%20%20%20%20%20%20%20%20%20%20%20%20%20%20%20%20%20%20preferCanvas%3A%20false%2C%0A%20%20%20%20%20%20%20%20%20%20%20%20%20%20%20%20%7D%0A%20%20%20%20%20%20%20%20%20%20%20%20%29%3B%0A%0A%20%20%20%20%20%20%20%20%20%20%20%20%0A%0A%20%20%20%20%20%20%20%20%0A%20%20%20%20%0A%20%20%20%20%20%20%20%20%20%20%20%20var%20tile_layer_47594a3906ed419989deefb3be90132a%20%3D%20L.tileLayer%28%0A%20%20%20%20%20%20%20%20%20%20%20%20%20%20%20%20%22https%3A//%7Bs%7D.tile.openstreetmap.org/%7Bz%7D/%7Bx%7D/%7By%7D.png%22%2C%0A%20%20%20%20%20%20%20%20%20%20%20%20%20%20%20%20%7B%22attribution%22%3A%20%22Data%20by%20%5Cu0026copy%3B%20%5Cu003ca%20href%3D%5C%22http%3A//openstreetmap.org%5C%22%5Cu003eOpenStreetMap%5Cu003c/a%5Cu003e%2C%20under%20%5Cu003ca%20href%3D%5C%22http%3A//www.openstreetmap.org/copyright%5C%22%5Cu003eODbL%5Cu003c/a%5Cu003e.%22%2C%20%22detectRetina%22%3A%20false%2C%20%22maxNativeZoom%22%3A%2018%2C%20%22maxZoom%22%3A%2018%2C%20%22minZoom%22%3A%200%2C%20%22noWrap%22%3A%20false%2C%20%22opacity%22%3A%201%2C%20%22subdomains%22%3A%20%22abc%22%2C%20%22tms%22%3A%20false%7D%0A%20%20%20%20%20%20%20%20%20%20%20%20%29.addTo%28map_14361420296f4c76a7b1fcc5b126ee89%29%3B%0A%20%20%20%20%20%20%20%20%0A%20%20%20%20%0A%20%20%20%20%20%20%20%20%20%20%20%20var%20marker_42864c4925ef407ea613a922347ceb8c%20%3D%20L.marker%28%0A%20%20%20%20%20%20%20%20%20%20%20%20%20%20%20%20%5B43.658868%2C%20-79.383807%5D%2C%0A%20%20%20%20%20%20%20%20%20%20%20%20%20%20%20%20%7B%7D%0A%20%20%20%20%20%20%20%20%20%20%20%20%29.addTo%28map_14361420296f4c76a7b1fcc5b126ee89%29%3B%0A%20%20%20%20%20%20%20%20%0A%20%20%20%20%0A%20%20%20%20%20%20%20%20var%20popup_c077457443f44ff19e48a60f2e899fce%20%3D%20L.popup%28%7B%22maxWidth%22%3A%20%22100%25%22%7D%29%3B%0A%0A%20%20%20%20%20%20%20%20%0A%20%20%20%20%20%20%20%20%20%20%20%20var%20html_f5d477cf4c3b4339a2ce4f66aa156a40%20%3D%20%24%28%60%3Cdiv%20id%3D%22html_f5d477cf4c3b4339a2ce4f66aa156a40%22%20style%3D%22width%3A%20100.0%25%3B%20height%3A%20100.0%25%3B%22%3EHailed%20Coffee%3C/div%3E%60%29%5B0%5D%3B%0A%20%20%20%20%20%20%20%20%20%20%20%20popup_c077457443f44ff19e48a60f2e899fce.setContent%28html_f5d477cf4c3b4339a2ce4f66aa156a40%29%3B%0A%20%20%20%20%20%20%20%20%0A%0A%20%20%20%20%20%20%20%20marker_42864c4925ef407ea613a922347ceb8c.bindPopup%28popup_c077457443f44ff19e48a60f2e899fce%29%0A%20%20%20%20%20%20%20%20%3B%0A%0A%20%20%20%20%20%20%20%20%0A%20%20%20%20%0A%20%20%20%20%0A%20%20%20%20%20%20%20%20%20%20%20%20var%20marker_4ec03fc6ecc148d2b6e16159514577cd%20%3D%20L.marker%28%0A%20%20%20%20%20%20%20%20%20%20%20%20%20%20%20%20%5B43.665827%2C%20-79.385383%5D%2C%0A%20%20%20%20%20%20%20%20%20%20%20%20%20%20%20%20%7B%7D%0A%20%20%20%20%20%20%20%20%20%20%20%20%29.addTo%28map_14361420296f4c76a7b1fcc5b126ee89%29%3B%0A%20%20%20%20%20%20%20%20%0A%20%20%20%20%0A%20%20%20%20%20%20%20%20var%20popup_2dedfe0313454d2dbf591d0e14a29436%20%3D%20L.popup%28%7B%22maxWidth%22%3A%20%22100%25%22%7D%29%3B%0A%0A%20%20%20%20%20%20%20%20%0A%20%20%20%20%20%20%20%20%20%20%20%20var%20html_926206ca8a384990aedc5badbef8fd5f%20%3D%20%24%28%60%3Cdiv%20id%3D%22html_926206ca8a384990aedc5badbef8fd5f%22%20style%3D%22width%3A%20100.0%25%3B%20height%3A%20100.0%25%3B%22%3EThe%20Alley%3C/div%3E%60%29%5B0%5D%3B%0A%20%20%20%20%20%20%20%20%20%20%20%20popup_2dedfe0313454d2dbf591d0e14a29436.setContent%28html_926206ca8a384990aedc5badbef8fd5f%29%3B%0A%20%20%20%20%20%20%20%20%0A%0A%20%20%20%20%20%20%20%20marker_4ec03fc6ecc148d2b6e16159514577cd.bindPopup%28popup_2dedfe0313454d2dbf591d0e14a29436%29%0A%20%20%20%20%20%20%20%20%3B%0A%0A%20%20%20%20%20%20%20%20%0A%20%20%20%20%0A%20%20%20%20%0A%20%20%20%20%20%20%20%20%20%20%20%20var%20marker_497d02f488cb4d50be9fc7fdeab643b1%20%3D%20L.marker%28%0A%20%20%20%20%20%20%20%20%20%20%20%20%20%20%20%20%5B43.650271%2C%20-79.388563%5D%2C%0A%20%20%20%20%20%20%20%20%20%20%20%20%20%20%20%20%7B%7D%0A%20%20%20%20%20%20%20%20%20%20%20%20%29.addTo%28map_14361420296f4c76a7b1fcc5b126ee89%29%3B%0A%20%20%20%20%20%20%20%20%0A%20%20%20%20%0A%20%20%20%20%20%20%20%20var%20popup_e368bc696b244bb78e3fd0dd7b537d34%20%3D%20L.popup%28%7B%22maxWidth%22%3A%20%22100%25%22%7D%29%3B%0A%0A%20%20%20%20%20%20%20%20%0A%20%20%20%20%20%20%20%20%20%20%20%20var%20html_b79c4ef85741419aaea723ff7831f003%20%3D%20%24%28%60%3Cdiv%20id%3D%22html_b79c4ef85741419aaea723ff7831f003%22%20style%3D%22width%3A%20100.0%25%3B%20height%3A%20100.0%25%3B%22%3EHotBlack%20Coffee%3C/div%3E%60%29%5B0%5D%3B%0A%20%20%20%20%20%20%20%20%20%20%20%20popup_e368bc696b244bb78e3fd0dd7b537d34.setContent%28html_b79c4ef85741419aaea723ff7831f003%29%3B%0A%20%20%20%20%20%20%20%20%0A%0A%20%20%20%20%20%20%20%20marker_497d02f488cb4d50be9fc7fdeab643b1.bindPopup%28popup_e368bc696b244bb78e3fd0dd7b537d34%29%0A%20%20%20%20%20%20%20%20%3B%0A%0A%20%20%20%20%20%20%20%20%0A%20%20%20%20%0A%20%20%20%20%0A%20%20%20%20%20%20%20%20%20%20%20%20var%20marker_6dc7fae4c3154b54a5b121291652138b%20%3D%20L.marker%28%0A%20%20%20%20%20%20%20%20%20%20%20%20%20%20%20%20%5B43.652416%2C%20-79.372916%5D%2C%0A%20%20%20%20%20%20%20%20%20%20%20%20%20%20%20%20%7B%7D%0A%20%20%20%20%20%20%20%20%20%20%20%20%29.addTo%28map_14361420296f4c76a7b1fcc5b126ee89%29%3B%0A%20%20%20%20%20%20%20%20%0A%20%20%20%20%0A%20%20%20%20%20%20%20%20var%20popup_3d71f7cb1f2c4d548df97a9bca1e2421%20%3D%20L.popup%28%7B%22maxWidth%22%3A%20%22100%25%22%7D%29%3B%0A%0A%20%20%20%20%20%20%20%20%0A%20%20%20%20%20%20%20%20%20%20%20%20var%20html_bbc2c5e86c714dfcb1474d86fc0dcd5e%20%3D%20%24%28%60%3Cdiv%20id%3D%22html_bbc2c5e86c714dfcb1474d86fc0dcd5e%22%20style%3D%22width%3A%20100.0%25%3B%20height%3A%20100.0%25%3B%22%3EFahrenheit%20Coffee%3C/div%3E%60%29%5B0%5D%3B%0A%20%20%20%20%20%20%20%20%20%20%20%20popup_3d71f7cb1f2c4d548df97a9bca1e2421.setContent%28html_bbc2c5e86c714dfcb1474d86fc0dcd5e%29%3B%0A%20%20%20%20%20%20%20%20%0A%0A%20%20%20%20%20%20%20%20marker_6dc7fae4c3154b54a5b121291652138b.bindPopup%28popup_3d71f7cb1f2c4d548df97a9bca1e2421%29%0A%20%20%20%20%20%20%20%20%3B%0A%0A%20%20%20%20%20%20%20%20%0A%20%20%20%20%0A%20%20%20%20%0A%20%20%20%20%20%20%20%20%20%20%20%20var%20marker_2de22df668084a5dbe69b74f8a47f9e9%20%3D%20L.marker%28%0A%20%20%20%20%20%20%20%20%20%20%20%20%20%20%20%20%5B43.651132%2C%20-79.379023%5D%2C%0A%20%20%20%20%20%20%20%20%20%20%20%20%20%20%20%20%7B%7D%0A%20%20%20%20%20%20%20%20%20%20%20%20%29.addTo%28map_14361420296f4c76a7b1fcc5b126ee89%29%3B%0A%20%20%20%20%20%20%20%20%0A%20%20%20%20%0A%20%20%20%20%20%20%20%20var%20popup_0376ead9edac4fa889c730d0a9f6405d%20%3D%20L.popup%28%7B%22maxWidth%22%3A%20%22100%25%22%7D%29%3B%0A%0A%20%20%20%20%20%20%20%20%0A%20%20%20%20%20%20%20%20%20%20%20%20var%20html_ab66fb18ae054c1fbf41d3e98605a745%20%3D%20%24%28%60%3Cdiv%20id%3D%22html_ab66fb18ae054c1fbf41d3e98605a745%22%20style%3D%22width%3A%20100.0%25%3B%20height%3A%20100.0%25%3B%22%3EDineen%20Coffee%20Co%3C/div%3E%60%29%5B0%5D%3B%0A%20%20%20%20%20%20%20%20%20%20%20%20popup_0376ead9edac4fa889c730d0a9f6405d.setContent%28html_ab66fb18ae054c1fbf41d3e98605a745%29%3B%0A%20%20%20%20%20%20%20%20%0A%0A%20%20%20%20%20%20%20%20marker_2de22df668084a5dbe69b74f8a47f9e9.bindPopup%28popup_0376ead9edac4fa889c730d0a9f6405d%29%0A%20%20%20%20%20%20%20%20%3B%0A%0A%20%20%20%20%20%20%20%20%0A%20%20%20%20%0A%20%20%20%20%0A%20%20%20%20%20%20%20%20%20%20%20%20var%20marker_cac6f464e115461aa7450e23b93a2517%20%3D%20L.marker%28%0A%20%20%20%20%20%20%20%20%20%20%20%20%20%20%20%20%5B43.648724%2C%20-79.385137%5D%2C%0A%20%20%20%20%20%20%20%20%20%20%20%20%20%20%20%20%7B%7D%0A%20%20%20%20%20%20%20%20%20%20%20%20%29.addTo%28map_14361420296f4c76a7b1fcc5b126ee89%29%3B%0A%20%20%20%20%20%20%20%20%0A%20%20%20%20%0A%20%20%20%20%20%20%20%20var%20popup_53f24c9a322b42a59b9b5008d22219e2%20%3D%20L.popup%28%7B%22maxWidth%22%3A%20%22100%25%22%7D%29%3B%0A%0A%20%20%20%20%20%20%20%20%0A%20%20%20%20%20%20%20%20%20%20%20%20var%20html_62a888ea19374a66942d6d216b36a91a%20%3D%20%24%28%60%3Cdiv%20id%3D%22html_62a888ea19374a66942d6d216b36a91a%22%20style%3D%22width%3A%20100.0%25%3B%20height%3A%20100.0%25%3B%22%3ECafe%20Landwer%3C/div%3E%60%29%5B0%5D%3B%0A%20%20%20%20%20%20%20%20%20%20%20%20popup_53f24c9a322b42a59b9b5008d22219e2.setContent%28html_62a888ea19374a66942d6d216b36a91a%29%3B%0A%20%20%20%20%20%20%20%20%0A%0A%20%20%20%20%20%20%20%20marker_cac6f464e115461aa7450e23b93a2517.bindPopup%28popup_53f24c9a322b42a59b9b5008d22219e2%29%0A%20%20%20%20%20%20%20%20%3B%0A%0A%20%20%20%20%20%20%20%20%0A%20%20%20%20%0A%20%20%20%20%0A%20%20%20%20%20%20%20%20%20%20%20%20var%20marker_0489d21b7efe49f1a2b5ee7bbd0f19b4%20%3D%20L.marker%28%0A%20%20%20%20%20%20%20%20%20%20%20%20%20%20%20%20%5B43.656009%2C%20-79.409254%5D%2C%0A%20%20%20%20%20%20%20%20%20%20%20%20%20%20%20%20%7B%7D%0A%20%20%20%20%20%20%20%20%20%20%20%20%29.addTo%28map_14361420296f4c76a7b1fcc5b126ee89%29%3B%0A%20%20%20%20%20%20%20%20%0A%20%20%20%20%0A%20%20%20%20%20%20%20%20var%20popup_20fe738890074736a41edb3d21369c6e%20%3D%20L.popup%28%7B%22maxWidth%22%3A%20%22100%25%22%7D%29%3B%0A%0A%20%20%20%20%20%20%20%20%0A%20%20%20%20%20%20%20%20%20%20%20%20var%20html_eddfef91db1b4e139b03cca4f0b19cf1%20%3D%20%24%28%60%3Cdiv%20id%3D%22html_eddfef91db1b4e139b03cca4f0b19cf1%22%20style%3D%22width%3A%20100.0%25%3B%20height%3A%20100.0%25%3B%22%3ESnakes%20%26%20Lattes%20College%3C/div%3E%60%29%5B0%5D%3B%0A%20%20%20%20%20%20%20%20%20%20%20%20popup_20fe738890074736a41edb3d21369c6e.setContent%28html_eddfef91db1b4e139b03cca4f0b19cf1%29%3B%0A%20%20%20%20%20%20%20%20%0A%0A%20%20%20%20%20%20%20%20marker_0489d21b7efe49f1a2b5ee7bbd0f19b4.bindPopup%28popup_20fe738890074736a41edb3d21369c6e%29%0A%20%20%20%20%20%20%20%20%3B%0A%0A%20%20%20%20%20%20%20%20%0A%20%20%20%20%0A%20%20%20%20%0A%20%20%20%20%20%20%20%20%20%20%20%20var%20marker_8e1a979f374749a2b7f793527f608600%20%3D%20L.marker%28%0A%20%20%20%20%20%20%20%20%20%20%20%20%20%20%20%20%5B43.650673%2C%20-79.369086%5D%2C%0A%20%20%20%20%20%20%20%20%20%20%20%20%20%20%20%20%7B%7D%0A%20%20%20%20%20%20%20%20%20%20%20%20%29.addTo%28map_14361420296f4c76a7b1fcc5b126ee89%29%3B%0A%20%20%20%20%20%20%20%20%0A%20%20%20%20%0A%20%20%20%20%20%20%20%20var%20popup_91b2eb12cb5747e9a818b3e46a578db8%20%3D%20L.popup%28%7B%22maxWidth%22%3A%20%22100%25%22%7D%29%3B%0A%0A%20%20%20%20%20%20%20%20%0A%20%20%20%20%20%20%20%20%20%20%20%20var%20html_e8fff8552b4947c78933694e7d73c67f%20%3D%20%24%28%60%3Cdiv%20id%3D%22html_e8fff8552b4947c78933694e7d73c67f%22%20style%3D%22width%3A%20100.0%25%3B%20height%3A%20100.0%25%3B%22%3ENeo%20Coffee%20Bar%3C/div%3E%60%29%5B0%5D%3B%0A%20%20%20%20%20%20%20%20%20%20%20%20popup_91b2eb12cb5747e9a818b3e46a578db8.setContent%28html_e8fff8552b4947c78933694e7d73c67f%29%3B%0A%20%20%20%20%20%20%20%20%0A%0A%20%20%20%20%20%20%20%20marker_8e1a979f374749a2b7f793527f608600.bindPopup%28popup_91b2eb12cb5747e9a818b3e46a578db8%29%0A%20%20%20%20%20%20%20%20%3B%0A%0A%20%20%20%20%20%20%20%20%0A%20%20%20%20%0A%20%20%20%20%0A%20%20%20%20%20%20%20%20%20%20%20%20var%20marker_a84ce2d19fe043e2b6333687d66c0b74%20%3D%20L.marker%28%0A%20%20%20%20%20%20%20%20%20%20%20%20%20%20%20%20%5B43.669645%2C%20-79.379958%5D%2C%0A%20%20%20%20%20%20%20%20%20%20%20%20%20%20%20%20%7B%7D%0A%20%20%20%20%20%20%20%20%20%20%20%20%29.addTo%28map_14361420296f4c76a7b1fcc5b126ee89%29%3B%0A%20%20%20%20%20%20%20%20%0A%20%20%20%20%0A%20%20%20%20%20%20%20%20var%20popup_0eb3d99fdd434e99b321266d825982f5%20%3D%20L.popup%28%7B%22maxWidth%22%3A%20%22100%25%22%7D%29%3B%0A%0A%20%20%20%20%20%20%20%20%0A%20%20%20%20%20%20%20%20%20%20%20%20var%20html_92a3c138817049d0951346f5dea84a13%20%3D%20%24%28%60%3Cdiv%20id%3D%22html_92a3c138817049d0951346f5dea84a13%22%20style%3D%22width%3A%20100.0%25%3B%20height%3A%20100.0%25%3B%22%3ERooster%20Coffee%20House%3C/div%3E%60%29%5B0%5D%3B%0A%20%20%20%20%20%20%20%20%20%20%20%20popup_0eb3d99fdd434e99b321266d825982f5.setContent%28html_92a3c138817049d0951346f5dea84a13%29%3B%0A%20%20%20%20%20%20%20%20%0A%0A%20%20%20%20%20%20%20%20marker_a84ce2d19fe043e2b6333687d66c0b74.bindPopup%28popup_0eb3d99fdd434e99b321266d825982f5%29%0A%20%20%20%20%20%20%20%20%3B%0A%0A%20%20%20%20%20%20%20%20%0A%20%20%20%20%0A%20%20%20%20%0A%20%20%20%20%20%20%20%20%20%20%20%20var%20marker_312fdc383b56495daace510e3e25c101%20%3D%20L.marker%28%0A%20%20%20%20%20%20%20%20%20%20%20%20%20%20%20%20%5B43.653597%2C%20-79.362024%5D%2C%0A%20%20%20%20%20%20%20%20%20%20%20%20%20%20%20%20%7B%7D%0A%20%20%20%20%20%20%20%20%20%20%20%20%29.addTo%28map_14361420296f4c76a7b1fcc5b126ee89%29%3B%0A%20%20%20%20%20%20%20%20%0A%20%20%20%20%0A%20%20%20%20%20%20%20%20var%20popup_44a81947a1c845dbb19232e98b1ded60%20%3D%20L.popup%28%7B%22maxWidth%22%3A%20%22100%25%22%7D%29%3B%0A%0A%20%20%20%20%20%20%20%20%0A%20%20%20%20%20%20%20%20%20%20%20%20var%20html_c5a988d736204ec297e42f11ccae3233%20%3D%20%24%28%60%3Cdiv%20id%3D%22html_c5a988d736204ec297e42f11ccae3233%22%20style%3D%22width%3A%20100.0%25%3B%20height%3A%20100.0%25%3B%22%3ETandem%20Coffee%3C/div%3E%60%29%5B0%5D%3B%0A%20%20%20%20%20%20%20%20%20%20%20%20popup_44a81947a1c845dbb19232e98b1ded60.setContent%28html_c5a988d736204ec297e42f11ccae3233%29%3B%0A%20%20%20%20%20%20%20%20%0A%0A%20%20%20%20%20%20%20%20marker_312fdc383b56495daace510e3e25c101.bindPopup%28popup_44a81947a1c845dbb19232e98b1ded60%29%0A%20%20%20%20%20%20%20%20%3B%0A%0A%20%20%20%20%20%20%20%20%0A%20%20%20%20%0A%20%20%20%20%0A%20%20%20%20%20%20%20%20%20%20%20%20var%20marker_35caee1fd8d243e7b17cdd586642d8b6%20%3D%20L.marker%28%0A%20%20%20%20%20%20%20%20%20%20%20%20%20%20%20%20%5B43.649831%2C%20-79.361332%5D%2C%0A%20%20%20%20%20%20%20%20%20%20%20%20%20%20%20%20%7B%7D%0A%20%20%20%20%20%20%20%20%20%20%20%20%29.addTo%28map_14361420296f4c76a7b1fcc5b126ee89%29%3B%0A%20%20%20%20%20%20%20%20%0A%20%20%20%20%0A%20%20%20%20%20%20%20%20var%20popup_53e3315f241a4ef594c9febd81b5d127%20%3D%20L.popup%28%7B%22maxWidth%22%3A%20%22100%25%22%7D%29%3B%0A%0A%20%20%20%20%20%20%20%20%0A%20%20%20%20%20%20%20%20%20%20%20%20var%20html_25b29feca78244ee9bd141055be19173%20%3D%20%24%28%60%3Cdiv%20id%3D%22html_25b29feca78244ee9bd141055be19173%22%20style%3D%22width%3A%20100.0%25%3B%20height%3A%20100.0%25%3B%22%3EArvo%20Coffee%3C/div%3E%60%29%5B0%5D%3B%0A%20%20%20%20%20%20%20%20%20%20%20%20popup_53e3315f241a4ef594c9febd81b5d127.setContent%28html_25b29feca78244ee9bd141055be19173%29%3B%0A%20%20%20%20%20%20%20%20%0A%0A%20%20%20%20%20%20%20%20marker_35caee1fd8d243e7b17cdd586642d8b6.bindPopup%28popup_53e3315f241a4ef594c9febd81b5d127%29%0A%20%20%20%20%20%20%20%20%3B%0A%0A%20%20%20%20%20%20%20%20%0A%20%20%20%20%0A%20%20%20%20%0A%20%20%20%20%20%20%20%20%20%20%20%20var%20marker_2957c498376a4c9fa681db8345863db9%20%3D%20L.marker%28%0A%20%20%20%20%20%20%20%20%20%20%20%20%20%20%20%20%5B43.66893%2C%20-79.426097%5D%2C%0A%20%20%20%20%20%20%20%20%20%20%20%20%20%20%20%20%7B%7D%0A%20%20%20%20%20%20%20%20%20%20%20%20%29.addTo%28map_14361420296f4c76a7b1fcc5b126ee89%29%3B%0A%20%20%20%20%20%20%20%20%0A%20%20%20%20%0A%20%20%20%20%20%20%20%20var%20popup_05274696c42d455ab59e191fc94e4d7a%20%3D%20L.popup%28%7B%22maxWidth%22%3A%20%22100%25%22%7D%29%3B%0A%0A%20%20%20%20%20%20%20%20%0A%20%20%20%20%20%20%20%20%20%20%20%20var%20html_8e4770c3d10445a0afb45fd12a607036%20%3D%20%24%28%60%3Cdiv%20id%3D%22html_8e4770c3d10445a0afb45fd12a607036%22%20style%3D%22width%3A%20100.0%25%3B%20height%3A%20100.0%25%3B%22%3EContra%20Cafe%3C/div%3E%60%29%5B0%5D%3B%0A%20%20%20%20%20%20%20%20%20%20%20%20popup_05274696c42d455ab59e191fc94e4d7a.setContent%28html_8e4770c3d10445a0afb45fd12a607036%29%3B%0A%20%20%20%20%20%20%20%20%0A%0A%20%20%20%20%20%20%20%20marker_2957c498376a4c9fa681db8345863db9.bindPopup%28popup_05274696c42d455ab59e191fc94e4d7a%29%0A%20%20%20%20%20%20%20%20%3B%0A%0A%20%20%20%20%20%20%20%20%0A%20%20%20%20%0A%20%20%20%20%0A%20%20%20%20%20%20%20%20%20%20%20%20var%20marker_67dc9cc354bf4ce89ac203da15355212%20%3D%20L.marker%28%0A%20%20%20%20%20%20%20%20%20%20%20%20%20%20%20%20%5B43.651961%2C%20-79.368356%5D%2C%0A%20%20%20%20%20%20%20%20%20%20%20%20%20%20%20%20%7B%7D%0A%20%20%20%20%20%20%20%20%20%20%20%20%29.addTo%28map_14361420296f4c76a7b1fcc5b126ee89%29%3B%0A%20%20%20%20%20%20%20%20%0A%20%20%20%20%0A%20%20%20%20%20%20%20%20var%20popup_70685df81f554a93a104c613f4d3c2e8%20%3D%20L.popup%28%7B%22maxWidth%22%3A%20%22100%25%22%7D%29%3B%0A%0A%20%20%20%20%20%20%20%20%0A%20%20%20%20%20%20%20%20%20%20%20%20var%20html_9e18d09e4060477abb32a21838d3e875%20%3D%20%24%28%60%3Cdiv%20id%3D%22html_9e18d09e4060477abb32a21838d3e875%22%20style%3D%22width%3A%20100.0%25%3B%20height%3A%20100.0%25%3B%22%3EThe%20Black%20Canary%20Espresso%20Bar%3C/div%3E%60%29%5B0%5D%3B%0A%20%20%20%20%20%20%20%20%20%20%20%20popup_70685df81f554a93a104c613f4d3c2e8.setContent%28html_9e18d09e4060477abb32a21838d3e875%29%3B%0A%20%20%20%20%20%20%20%20%0A%0A%20%20%20%20%20%20%20%20marker_67dc9cc354bf4ce89ac203da15355212.bindPopup%28popup_70685df81f554a93a104c613f4d3c2e8%29%0A%20%20%20%20%20%20%20%20%3B%0A%0A%20%20%20%20%20%20%20%20%0A%20%20%20%20%0A%20%20%20%20%0A%20%20%20%20%20%20%20%20%20%20%20%20var%20marker_076a217ab6314a71ad553a45232959a7%20%3D%20L.marker%28%0A%20%20%20%20%20%20%20%20%20%20%20%20%20%20%20%20%5B43.660733%2C%20-79.359603%5D%2C%0A%20%20%20%20%20%20%20%20%20%20%20%20%20%20%20%20%7B%7D%0A%20%20%20%20%20%20%20%20%20%20%20%20%29.addTo%28map_14361420296f4c76a7b1fcc5b126ee89%29%3B%0A%20%20%20%20%20%20%20%20%0A%20%20%20%20%0A%20%20%20%20%20%20%20%20var%20popup_c13a1f8f075b4916b57021c7065cbb27%20%3D%20L.popup%28%7B%22maxWidth%22%3A%20%22100%25%22%7D%29%3B%0A%0A%20%20%20%20%20%20%20%20%0A%20%20%20%20%20%20%20%20%20%20%20%20var%20html_668fa8e0984048ac8d50ef81c53ba8b0%20%3D%20%24%28%60%3Cdiv%20id%3D%22html_668fa8e0984048ac8d50ef81c53ba8b0%22%20style%3D%22width%3A%20100.0%25%3B%20height%3A%20100.0%25%3B%22%3ELe%20Beau%3C/div%3E%60%29%5B0%5D%3B%0A%20%20%20%20%20%20%20%20%20%20%20%20popup_c13a1f8f075b4916b57021c7065cbb27.setContent%28html_668fa8e0984048ac8d50ef81c53ba8b0%29%3B%0A%20%20%20%20%20%20%20%20%0A%0A%20%20%20%20%20%20%20%20marker_076a217ab6314a71ad553a45232959a7.bindPopup%28popup_c13a1f8f075b4916b57021c7065cbb27%29%0A%20%20%20%20%20%20%20%20%3B%0A%0A%20%20%20%20%20%20%20%20%0A%20%20%20%20%0A%20%20%20%20%0A%20%20%20%20%20%20%20%20%20%20%20%20var%20marker_64f594cef8a94237980b7f0afe39b0d6%20%3D%20L.marker%28%0A%20%20%20%20%20%20%20%20%20%20%20%20%20%20%20%20%5B43.659735%2C%20-79.347007%5D%2C%0A%20%20%20%20%20%20%20%20%20%20%20%20%20%20%20%20%7B%7D%0A%20%20%20%20%20%20%20%20%20%20%20%20%29.addTo%28map_14361420296f4c76a7b1fcc5b126ee89%29%3B%0A%20%20%20%20%20%20%20%20%0A%20%20%20%20%0A%20%20%20%20%20%20%20%20var%20popup_51c8f3838aa940aaaf8701d82b0cb2f6%20%3D%20L.popup%28%7B%22maxWidth%22%3A%20%22100%25%22%7D%29%3B%0A%0A%20%20%20%20%20%20%20%20%0A%20%20%20%20%20%20%20%20%20%20%20%20var%20html_91259bc763a847d4a130076cff3b2f6a%20%3D%20%24%28%60%3Cdiv%20id%3D%22html_91259bc763a847d4a130076cff3b2f6a%22%20style%3D%22width%3A%20100.0%25%3B%20height%3A%20100.0%25%3B%22%3EBoxcar%20Social%3C/div%3E%60%29%5B0%5D%3B%0A%20%20%20%20%20%20%20%20%20%20%20%20popup_51c8f3838aa940aaaf8701d82b0cb2f6.setContent%28html_91259bc763a847d4a130076cff3b2f6a%29%3B%0A%20%20%20%20%20%20%20%20%0A%0A%20%20%20%20%20%20%20%20marker_64f594cef8a94237980b7f0afe39b0d6.bindPopup%28popup_51c8f3838aa940aaaf8701d82b0cb2f6%29%0A%20%20%20%20%20%20%20%20%3B%0A%0A%20%20%20%20%20%20%20%20%0A%20%20%20%20%0A%20%20%20%20%0A%20%20%20%20%20%20%20%20%20%20%20%20var%20marker_aff5dddb14e940d8a72587876aa4fbcb%20%3D%20L.marker%28%0A%20%20%20%20%20%20%20%20%20%20%20%20%20%20%20%20%5B43.649769%2C%20-79.359079%5D%2C%0A%20%20%20%20%20%20%20%20%20%20%20%20%20%20%20%20%7B%7D%0A%20%20%20%20%20%20%20%20%20%20%20%20%29.addTo%28map_14361420296f4c76a7b1fcc5b126ee89%29%3B%0A%20%20%20%20%20%20%20%20%0A%20%20%20%20%0A%20%20%20%20%20%20%20%20var%20popup_955bd2a463ab4e4f91d9bba2b1b5d1ad%20%3D%20L.popup%28%7B%22maxWidth%22%3A%20%22100%25%22%7D%29%3B%0A%0A%20%20%20%20%20%20%20%20%0A%20%20%20%20%20%20%20%20%20%20%20%20var%20html_9dde30088af243f78a959b4d3c2a6c0e%20%3D%20%24%28%60%3Cdiv%20id%3D%22html_9dde30088af243f78a959b4d3c2a6c0e%22%20style%3D%22width%3A%20100.0%25%3B%20height%3A%20100.0%25%3B%22%3EBalzac%27s%20Coffee%20Roastery%3C/div%3E%60%29%5B0%5D%3B%0A%20%20%20%20%20%20%20%20%20%20%20%20popup_955bd2a463ab4e4f91d9bba2b1b5d1ad.setContent%28html_9dde30088af243f78a959b4d3c2a6c0e%29%3B%0A%20%20%20%20%20%20%20%20%0A%0A%20%20%20%20%20%20%20%20marker_aff5dddb14e940d8a72587876aa4fbcb.bindPopup%28popup_955bd2a463ab4e4f91d9bba2b1b5d1ad%29%0A%20%20%20%20%20%20%20%20%3B%0A%0A%20%20%20%20%20%20%20%20%0A%20%20%20%20%0A%20%20%20%20%0A%20%20%20%20%20%20%20%20%20%20%20%20var%20marker_6d923a7e30eb4b539462e4b7979ee763%20%3D%20L.marker%28%0A%20%20%20%20%20%20%20%20%20%20%20%20%20%20%20%20%5B43.645332%2C%20-79.412503%5D%2C%0A%20%20%20%20%20%20%20%20%20%20%20%20%20%20%20%20%7B%7D%0A%20%20%20%20%20%20%20%20%20%20%20%20%29.addTo%28map_14361420296f4c76a7b1fcc5b126ee89%29%3B%0A%20%20%20%20%20%20%20%20%0A%20%20%20%20%0A%20%20%20%20%20%20%20%20var%20popup_7918f05912ad473cabc13665a84ed31d%20%3D%20L.popup%28%7B%22maxWidth%22%3A%20%22100%25%22%7D%29%3B%0A%0A%20%20%20%20%20%20%20%20%0A%20%20%20%20%20%20%20%20%20%20%20%20var%20html_e2314066f16243e78fc65b866f2922bc%20%3D%20%24%28%60%3Cdiv%20id%3D%22html_e2314066f16243e78fc65b866f2922bc%22%20style%3D%22width%3A%20100.0%25%3B%20height%3A%20100.0%25%3B%22%3EWhite%20Squirrel%20Coffee%20Shop%3C/div%3E%60%29%5B0%5D%3B%0A%20%20%20%20%20%20%20%20%20%20%20%20popup_7918f05912ad473cabc13665a84ed31d.setContent%28html_e2314066f16243e78fc65b866f2922bc%29%3B%0A%20%20%20%20%20%20%20%20%0A%0A%20%20%20%20%20%20%20%20marker_6d923a7e30eb4b539462e4b7979ee763.bindPopup%28popup_7918f05912ad473cabc13665a84ed31d%29%0A%20%20%20%20%20%20%20%20%3B%0A%0A%20%20%20%20%20%20%20%20%0A%20%20%20%20%0A%20%20%20%20%0A%20%20%20%20%20%20%20%20%20%20%20%20var%20marker_0b9cac2813254404b71b3d7d4ec7b0bc%20%3D%20L.marker%28%0A%20%20%20%20%20%20%20%20%20%20%20%20%20%20%20%20%5B43.646446%2C%20-79.397957%5D%2C%0A%20%20%20%20%20%20%20%20%20%20%20%20%20%20%20%20%7B%7D%0A%20%20%20%20%20%20%20%20%20%20%20%20%29.addTo%28map_14361420296f4c76a7b1fcc5b126ee89%29%3B%0A%20%20%20%20%20%20%20%20%0A%20%20%20%20%0A%20%20%20%20%20%20%20%20var%20popup_d3d65f5192df4716b0316e327342e1b7%20%3D%20L.popup%28%7B%22maxWidth%22%3A%20%22100%25%22%7D%29%3B%0A%0A%20%20%20%20%20%20%20%20%0A%20%20%20%20%20%20%20%20%20%20%20%20var%20html_88d4d031c13140bbbd0f745d68c4f66a%20%3D%20%24%28%60%3Cdiv%20id%3D%22html_88d4d031c13140bbbd0f745d68c4f66a%22%20style%3D%22width%3A%20100.0%25%3B%20height%3A%20100.0%25%3B%22%3EImpact%20Kitchen%3C/div%3E%60%29%5B0%5D%3B%0A%20%20%20%20%20%20%20%20%20%20%20%20popup_d3d65f5192df4716b0316e327342e1b7.setContent%28html_88d4d031c13140bbbd0f745d68c4f66a%29%3B%0A%20%20%20%20%20%20%20%20%0A%0A%20%20%20%20%20%20%20%20marker_0b9cac2813254404b71b3d7d4ec7b0bc.bindPopup%28popup_d3d65f5192df4716b0316e327342e1b7%29%0A%20%20%20%20%20%20%20%20%3B%0A%0A%20%20%20%20%20%20%20%20%0A%20%20%20%20%0A%20%20%20%20%0A%20%20%20%20%20%20%20%20%20%20%20%20var%20marker_04a01edf58b84012832ffcfbc81a5952%20%3D%20L.marker%28%0A%20%20%20%20%20%20%20%20%20%20%20%20%20%20%20%20%5B43.66549%2C%20-79.450145%5D%2C%0A%20%20%20%20%20%20%20%20%20%20%20%20%20%20%20%20%7B%7D%0A%20%20%20%20%20%20%20%20%20%20%20%20%29.addTo%28map_14361420296f4c76a7b1fcc5b126ee89%29%3B%0A%20%20%20%20%20%20%20%20%0A%20%20%20%20%0A%20%20%20%20%20%20%20%20var%20popup_9f460393ddd84e549b28257c7dcd55aa%20%3D%20L.popup%28%7B%22maxWidth%22%3A%20%22100%25%22%7D%29%3B%0A%0A%20%20%20%20%20%20%20%20%0A%20%20%20%20%20%20%20%20%20%20%20%20var%20html_3856391fae214013be16c7f0f3a7ae34%20%3D%20%24%28%60%3Cdiv%20id%3D%22html_3856391fae214013be16c7f0f3a7ae34%22%20style%3D%22width%3A%20100.0%25%3B%20height%3A%20100.0%25%3B%22%3EHale%20Coffee%3C/div%3E%60%29%5B0%5D%3B%0A%20%20%20%20%20%20%20%20%20%20%20%20popup_9f460393ddd84e549b28257c7dcd55aa.setContent%28html_3856391fae214013be16c7f0f3a7ae34%29%3B%0A%20%20%20%20%20%20%20%20%0A%0A%20%20%20%20%20%20%20%20marker_04a01edf58b84012832ffcfbc81a5952.bindPopup%28popup_9f460393ddd84e549b28257c7dcd55aa%29%0A%20%20%20%20%20%20%20%20%3B%0A%0A%20%20%20%20%20%20%20%20%0A%20%20%20%20%0A%20%20%20%20%0A%20%20%20%20%20%20%20%20%20%20%20%20var%20marker_2a61ee46fd6948288393c25a166ddef3%20%3D%20L.marker%28%0A%20%20%20%20%20%20%20%20%20%20%20%20%20%20%20%20%5B43.642268%2C%20-79.383596%5D%2C%0A%20%20%20%20%20%20%20%20%20%20%20%20%20%20%20%20%7B%7D%0A%20%20%20%20%20%20%20%20%20%20%20%20%29.addTo%28map_14361420296f4c76a7b1fcc5b126ee89%29%3B%0A%20%20%20%20%20%20%20%20%0A%20%20%20%20%0A%20%20%20%20%20%20%20%20var%20popup_5fe2ed06839342acac441b5953a32522%20%3D%20L.popup%28%7B%22maxWidth%22%3A%20%22100%25%22%7D%29%3B%0A%0A%20%20%20%20%20%20%20%20%0A%20%20%20%20%20%20%20%20%20%20%20%20var%20html_5c52d52c86ec4ea58ac0ab82afcd9d9d%20%3D%20%24%28%60%3Cdiv%20id%3D%22html_5c52d52c86ec4ea58ac0ab82afcd9d9d%22%20style%3D%22width%3A%20100.0%25%3B%20height%3A%20100.0%25%3B%22%3EAroma%20Espresso%20Bar%3C/div%3E%60%29%5B0%5D%3B%0A%20%20%20%20%20%20%20%20%20%20%20%20popup_5fe2ed06839342acac441b5953a32522.setContent%28html_5c52d52c86ec4ea58ac0ab82afcd9d9d%29%3B%0A%20%20%20%20%20%20%20%20%0A%0A%20%20%20%20%20%20%20%20marker_2a61ee46fd6948288393c25a166ddef3.bindPopup%28popup_5fe2ed06839342acac441b5953a32522%29%0A%20%20%20%20%20%20%20%20%3B%0A%0A%20%20%20%20%20%20%20%20%0A%20%20%20%20%0A%20%20%20%20%0A%20%20%20%20%20%20%20%20%20%20%20%20var%20marker_c6fd0e1cd275471eaea2dfedacdd1de2%20%3D%20L.marker%28%0A%20%20%20%20%20%20%20%20%20%20%20%20%20%20%20%20%5B43.661315%2C%20-79.338327%5D%2C%0A%20%20%20%20%20%20%20%20%20%20%20%20%20%20%20%20%7B%7D%0A%20%20%20%20%20%20%20%20%20%20%20%20%29.addTo%28map_14361420296f4c76a7b1fcc5b126ee89%29%3B%0A%20%20%20%20%20%20%20%20%0A%20%20%20%20%0A%20%20%20%20%20%20%20%20var%20popup_6b4481a218c94b9db8e781e98652aa11%20%3D%20L.popup%28%7B%22maxWidth%22%3A%20%22100%25%22%7D%29%3B%0A%0A%20%20%20%20%20%20%20%20%0A%20%20%20%20%20%20%20%20%20%20%20%20var%20html_759e9bcf35aa4d6e9a0e5da805c193d5%20%3D%20%24%28%60%3Cdiv%20id%3D%22html_759e9bcf35aa4d6e9a0e5da805c193d5%22%20style%3D%22width%3A%20100.0%25%3B%20height%3A%20100.0%25%3B%22%3ETe%20Aro%3C/div%3E%60%29%5B0%5D%3B%0A%20%20%20%20%20%20%20%20%20%20%20%20popup_6b4481a218c94b9db8e781e98652aa11.setContent%28html_759e9bcf35aa4d6e9a0e5da805c193d5%29%3B%0A%20%20%20%20%20%20%20%20%0A%0A%20%20%20%20%20%20%20%20marker_c6fd0e1cd275471eaea2dfedacdd1de2.bindPopup%28popup_6b4481a218c94b9db8e781e98652aa11%29%0A%20%20%20%20%20%20%20%20%3B%0A%0A%20%20%20%20%20%20%20%20%0A%20%20%20%20%0A%20%20%20%20%0A%20%20%20%20%20%20%20%20%20%20%20%20var%20marker_529ac24c1c9b41cfa393b53b4774b03d%20%3D%20L.marker%28%0A%20%20%20%20%20%20%20%20%20%20%20%20%20%20%20%20%5B43.637877%2C%20-79.392291%5D%2C%0A%20%20%20%20%20%20%20%20%20%20%20%20%20%20%20%20%7B%7D%0A%20%20%20%20%20%20%20%20%20%20%20%20%29.addTo%28map_14361420296f4c76a7b1fcc5b126ee89%29%3B%0A%20%20%20%20%20%20%20%20%0A%20%20%20%20%0A%20%20%20%20%20%20%20%20var%20popup_9c693d122d25433887b5e71a73d7568d%20%3D%20L.popup%28%7B%22maxWidth%22%3A%20%22100%25%22%7D%29%3B%0A%0A%20%20%20%20%20%20%20%20%0A%20%20%20%20%20%20%20%20%20%20%20%20var%20html_7e540172fbc2420b9bf917b55c878bfc%20%3D%20%24%28%60%3Cdiv%20id%3D%22html_7e540172fbc2420b9bf917b55c878bfc%22%20style%3D%22width%3A%20100.0%25%3B%20height%3A%20100.0%25%3B%22%3EStarbucks%3C/div%3E%60%29%5B0%5D%3B%0A%20%20%20%20%20%20%20%20%20%20%20%20popup_9c693d122d25433887b5e71a73d7568d.setContent%28html_7e540172fbc2420b9bf917b55c878bfc%29%3B%0A%20%20%20%20%20%20%20%20%0A%0A%20%20%20%20%20%20%20%20marker_529ac24c1c9b41cfa393b53b4774b03d.bindPopup%28popup_9c693d122d25433887b5e71a73d7568d%29%0A%20%20%20%20%20%20%20%20%3B%0A%0A%20%20%20%20%20%20%20%20%0A%20%20%20%20%0A%20%20%20%20%0A%20%20%20%20%20%20%20%20%20%20%20%20var%20marker_9c5ca73f0d144d2c9e6eaa05b299462f%20%3D%20L.marker%28%0A%20%20%20%20%20%20%20%20%20%20%20%20%20%20%20%20%5B43.664819%2C%20-79.454714%5D%2C%0A%20%20%20%20%20%20%20%20%20%20%20%20%20%20%20%20%7B%7D%0A%20%20%20%20%20%20%20%20%20%20%20%20%29.addTo%28map_14361420296f4c76a7b1fcc5b126ee89%29%3B%0A%20%20%20%20%20%20%20%20%0A%20%20%20%20%0A%20%20%20%20%20%20%20%20var%20popup_bd218325d3e84ec1af59927ea27488af%20%3D%20L.popup%28%7B%22maxWidth%22%3A%20%22100%25%22%7D%29%3B%0A%0A%20%20%20%20%20%20%20%20%0A%20%20%20%20%20%20%20%20%20%20%20%20var%20html_f6b78d644ccc47d68c84351c36f4a847%20%3D%20%24%28%60%3Cdiv%20id%3D%22html_f6b78d644ccc47d68c84351c36f4a847%22%20style%3D%22width%3A%20100.0%25%3B%20height%3A%20100.0%25%3B%22%3EMattachioni%3C/div%3E%60%29%5B0%5D%3B%0A%20%20%20%20%20%20%20%20%20%20%20%20popup_bd218325d3e84ec1af59927ea27488af.setContent%28html_f6b78d644ccc47d68c84351c36f4a847%29%3B%0A%20%20%20%20%20%20%20%20%0A%0A%20%20%20%20%20%20%20%20marker_9c5ca73f0d144d2c9e6eaa05b299462f.bindPopup%28popup_bd218325d3e84ec1af59927ea27488af%29%0A%20%20%20%20%20%20%20%20%3B%0A%0A%20%20%20%20%20%20%20%20%0A%20%20%20%20%0A%20%20%20%20%0A%20%20%20%20%20%20%20%20%20%20%20%20var%20marker_c5f9f435fef840038bbd968637f4e49f%20%3D%20L.marker%28%0A%20%20%20%20%20%20%20%20%20%20%20%20%20%20%20%20%5B43.668547%2C%20-79.397414%5D%2C%0A%20%20%20%20%20%20%20%20%20%20%20%20%20%20%20%20%7B%7D%0A%20%20%20%20%20%20%20%20%20%20%20%20%29.addTo%28map_14361420296f4c76a7b1fcc5b126ee89%29%3B%0A%20%20%20%20%20%20%20%20%0A%20%20%20%20%0A%20%20%20%20%20%20%20%20var%20popup_4804816bbb7544659160bbbef756fc52%20%3D%20L.popup%28%7B%22maxWidth%22%3A%20%22100%25%22%7D%29%3B%0A%0A%20%20%20%20%20%20%20%20%0A%20%20%20%20%20%20%20%20%20%20%20%20var%20html_4b8ef388aa5a4095af531330f4092443%20%3D%20%24%28%60%3Cdiv%20id%3D%22html_4b8ef388aa5a4095af531330f4092443%22%20style%3D%22width%3A%20100.0%25%3B%20height%3A%20100.0%25%3B%22%3EStarbucks%3C/div%3E%60%29%5B0%5D%3B%0A%20%20%20%20%20%20%20%20%20%20%20%20popup_4804816bbb7544659160bbbef756fc52.setContent%28html_4b8ef388aa5a4095af531330f4092443%29%3B%0A%20%20%20%20%20%20%20%20%0A%0A%20%20%20%20%20%20%20%20marker_c5f9f435fef840038bbd968637f4e49f.bindPopup%28popup_4804816bbb7544659160bbbef756fc52%29%0A%20%20%20%20%20%20%20%20%3B%0A%0A%20%20%20%20%20%20%20%20%0A%20%20%20%20%0A%20%20%20%20%0A%20%20%20%20%20%20%20%20%20%20%20%20var%20marker_8c19982df92546e293becda7305dce45%20%3D%20L.marker%28%0A%20%20%20%20%20%20%20%20%20%20%20%20%20%20%20%20%5B43.671761%2C%20-79.38717%5D%2C%0A%20%20%20%20%20%20%20%20%20%20%20%20%20%20%20%20%7B%7D%0A%20%20%20%20%20%20%20%20%20%20%20%20%29.addTo%28map_14361420296f4c76a7b1fcc5b126ee89%29%3B%0A%20%20%20%20%20%20%20%20%0A%20%20%20%20%0A%20%20%20%20%20%20%20%20var%20popup_efacd87753324e8587c82ef8b1ce06b3%20%3D%20L.popup%28%7B%22maxWidth%22%3A%20%22100%25%22%7D%29%3B%0A%0A%20%20%20%20%20%20%20%20%0A%20%20%20%20%20%20%20%20%20%20%20%20var%20html_930b2da4c39a4ff18b644494d41abb8c%20%3D%20%24%28%60%3Cdiv%20id%3D%22html_930b2da4c39a4ff18b644494d41abb8c%22%20style%3D%22width%3A%20100.0%25%3B%20height%3A%20100.0%25%3B%22%3EBalzac%27s%20Coffee%3C/div%3E%60%29%5B0%5D%3B%0A%20%20%20%20%20%20%20%20%20%20%20%20popup_efacd87753324e8587c82ef8b1ce06b3.setContent%28html_930b2da4c39a4ff18b644494d41abb8c%29%3B%0A%20%20%20%20%20%20%20%20%0A%0A%20%20%20%20%20%20%20%20marker_8c19982df92546e293becda7305dce45.bindPopup%28popup_efacd87753324e8587c82ef8b1ce06b3%29%0A%20%20%20%20%20%20%20%20%3B%0A%0A%20%20%20%20%20%20%20%20%0A%20%20%20%20%0A%20%20%20%20%0A%20%20%20%20%20%20%20%20%20%20%20%20var%20marker_4a35435a8e3441159135c3739ddd5005%20%3D%20L.marker%28%0A%20%20%20%20%20%20%20%20%20%20%20%20%20%20%20%20%5B43.710995%2C%20-79.399041%5D%2C%0A%20%20%20%20%20%20%20%20%20%20%20%20%20%20%20%20%7B%7D%0A%20%20%20%20%20%20%20%20%20%20%20%20%29.addTo%28map_14361420296f4c76a7b1fcc5b126ee89%29%3B%0A%20%20%20%20%20%20%20%20%0A%20%20%20%20%0A%20%20%20%20%20%20%20%20var%20popup_fb83e56084884bb690c6be73c155a46f%20%3D%20L.popup%28%7B%22maxWidth%22%3A%20%22100%25%22%7D%29%3B%0A%0A%20%20%20%20%20%20%20%20%0A%20%20%20%20%20%20%20%20%20%20%20%20var%20html_a3883d180b0248f3ba8560b770db54a2%20%3D%20%24%28%60%3Cdiv%20id%3D%22html_a3883d180b0248f3ba8560b770db54a2%22%20style%3D%22width%3A%20100.0%25%3B%20height%3A%20100.0%25%3B%22%3EStarbucks%3C/div%3E%60%29%5B0%5D%3B%0A%20%20%20%20%20%20%20%20%20%20%20%20popup_fb83e56084884bb690c6be73c155a46f.setContent%28html_a3883d180b0248f3ba8560b770db54a2%29%3B%0A%20%20%20%20%20%20%20%20%0A%0A%20%20%20%20%20%20%20%20marker_4a35435a8e3441159135c3739ddd5005.bindPopup%28popup_fb83e56084884bb690c6be73c155a46f%29%0A%20%20%20%20%20%20%20%20%3B%0A%0A%20%20%20%20%20%20%20%20%0A%20%20%20%20%0A%20%20%20%20%0A%20%20%20%20%20%20%20%20%20%20%20%20var%20marker_c23ce01a729944f5ba38e865d78b9447%20%3D%20L.marker%28%0A%20%20%20%20%20%20%20%20%20%20%20%20%20%20%20%20%5B43.662602%2C%20-79.471193%5D%2C%0A%20%20%20%20%20%20%20%20%20%20%20%20%20%20%20%20%7B%7D%0A%20%20%20%20%20%20%20%20%20%20%20%20%29.addTo%28map_14361420296f4c76a7b1fcc5b126ee89%29%3B%0A%20%20%20%20%20%20%20%20%0A%20%20%20%20%0A%20%20%20%20%20%20%20%20var%20popup_cd54518b5d9c4c0fad33dc7deefddcea%20%3D%20L.popup%28%7B%22maxWidth%22%3A%20%22100%25%22%7D%29%3B%0A%0A%20%20%20%20%20%20%20%20%0A%20%20%20%20%20%20%20%20%20%20%20%20var%20html_bbb4c68fc0f44ea2828965526ee8aa49%20%3D%20%24%28%60%3Cdiv%20id%3D%22html_bbb4c68fc0f44ea2828965526ee8aa49%22%20style%3D%22width%3A%20100.0%25%3B%20height%3A%20100.0%25%3B%22%3EThe%20Good%20Neighbour%3C/div%3E%60%29%5B0%5D%3B%0A%20%20%20%20%20%20%20%20%20%20%20%20popup_cd54518b5d9c4c0fad33dc7deefddcea.setContent%28html_bbb4c68fc0f44ea2828965526ee8aa49%29%3B%0A%20%20%20%20%20%20%20%20%0A%0A%20%20%20%20%20%20%20%20marker_c23ce01a729944f5ba38e865d78b9447.bindPopup%28popup_cd54518b5d9c4c0fad33dc7deefddcea%29%0A%20%20%20%20%20%20%20%20%3B%0A%0A%20%20%20%20%20%20%20%20%0A%20%20%20%20%0A%20%20%20%20%0A%20%20%20%20%20%20%20%20%20%20%20%20var%20marker_238510a458784b2190e048cb2bb75844%20%3D%20L.marker%28%0A%20%20%20%20%20%20%20%20%20%20%20%20%20%20%20%20%5B43.638725%2C%20-79.386023%5D%2C%0A%20%20%20%20%20%20%20%20%20%20%20%20%20%20%20%20%7B%7D%0A%20%20%20%20%20%20%20%20%20%20%20%20%29.addTo%28map_14361420296f4c76a7b1fcc5b126ee89%29%3B%0A%20%20%20%20%20%20%20%20%0A%20%20%20%20%0A%20%20%20%20%20%20%20%20var%20popup_251889ba0f2c419392d2cbeab2716c18%20%3D%20L.popup%28%7B%22maxWidth%22%3A%20%22100%25%22%7D%29%3B%0A%0A%20%20%20%20%20%20%20%20%0A%20%20%20%20%20%20%20%20%20%20%20%20var%20html_dc7e2cf4f3094ee5b0b71c0254b01458%20%3D%20%24%28%60%3Cdiv%20id%3D%22html_dc7e2cf4f3094ee5b0b71c0254b01458%22%20style%3D%22width%3A%20100.0%25%3B%20height%3A%20100.0%25%3B%22%3ETim%20Hortons%3C/div%3E%60%29%5B0%5D%3B%0A%20%20%20%20%20%20%20%20%20%20%20%20popup_251889ba0f2c419392d2cbeab2716c18.setContent%28html_dc7e2cf4f3094ee5b0b71c0254b01458%29%3B%0A%20%20%20%20%20%20%20%20%0A%0A%20%20%20%20%20%20%20%20marker_238510a458784b2190e048cb2bb75844.bindPopup%28popup_251889ba0f2c419392d2cbeab2716c18%29%0A%20%20%20%20%20%20%20%20%3B%0A%0A%20%20%20%20%20%20%20%20%0A%20%20%20%20%0A%20%20%20%20%0A%20%20%20%20%20%20%20%20%20%20%20%20var%20marker_ee9efd5036f8410490aba069b75645d0%20%3D%20L.marker%28%0A%20%20%20%20%20%20%20%20%20%20%20%20%20%20%20%20%5B43.677993%2C%20-79.390267%5D%2C%0A%20%20%20%20%20%20%20%20%20%20%20%20%20%20%20%20%7B%7D%0A%20%20%20%20%20%20%20%20%20%20%20%20%29.addTo%28map_14361420296f4c76a7b1fcc5b126ee89%29%3B%0A%20%20%20%20%20%20%20%20%0A%20%20%20%20%0A%20%20%20%20%20%20%20%20var%20popup_3237eaa157d24714a2624a7561e82555%20%3D%20L.popup%28%7B%22maxWidth%22%3A%20%22100%25%22%7D%29%3B%0A%0A%20%20%20%20%20%20%20%20%0A%20%20%20%20%20%20%20%20%20%20%20%20var%20html_53c450fdf4054a78a21d94ce9c00b443%20%3D%20%24%28%60%3Cdiv%20id%3D%22html_53c450fdf4054a78a21d94ce9c00b443%22%20style%3D%22width%3A%20100.0%25%3B%20height%3A%20100.0%25%3B%22%3EStarbucks%3C/div%3E%60%29%5B0%5D%3B%0A%20%20%20%20%20%20%20%20%20%20%20%20popup_3237eaa157d24714a2624a7561e82555.setContent%28html_53c450fdf4054a78a21d94ce9c00b443%29%3B%0A%20%20%20%20%20%20%20%20%0A%0A%20%20%20%20%20%20%20%20marker_ee9efd5036f8410490aba069b75645d0.bindPopup%28popup_3237eaa157d24714a2624a7561e82555%29%0A%20%20%20%20%20%20%20%20%3B%0A%0A%20%20%20%20%20%20%20%20%0A%20%20%20%20%0A%20%20%20%20%0A%20%20%20%20%20%20%20%20%20%20%20%20var%20marker_c66a2e943009463bab4806e4c5c16415%20%3D%20L.marker%28%0A%20%20%20%20%20%20%20%20%20%20%20%20%20%20%20%20%5B43.657532%2C%20-79.379012%5D%2C%0A%20%20%20%20%20%20%20%20%20%20%20%20%20%20%20%20%7B%7D%0A%20%20%20%20%20%20%20%20%20%20%20%20%29.addTo%28map_14361420296f4c76a7b1fcc5b126ee89%29%3B%0A%20%20%20%20%20%20%20%20%0A%20%20%20%20%0A%20%20%20%20%20%20%20%20var%20popup_a9dd5db1d5d347ae8e6079f4ca15f13f%20%3D%20L.popup%28%7B%22maxWidth%22%3A%20%22100%25%22%7D%29%3B%0A%0A%20%20%20%20%20%20%20%20%0A%20%20%20%20%20%20%20%20%20%20%20%20var%20html_37ed3525d7334c03bacd8093be8c50ec%20%3D%20%24%28%60%3Cdiv%20id%3D%22html_37ed3525d7334c03bacd8093be8c50ec%22%20style%3D%22width%3A%20100.0%25%3B%20height%3A%20100.0%25%3B%22%3EBalzacs%20Coffee%3C/div%3E%60%29%5B0%5D%3B%0A%20%20%20%20%20%20%20%20%20%20%20%20popup_a9dd5db1d5d347ae8e6079f4ca15f13f.setContent%28html_37ed3525d7334c03bacd8093be8c50ec%29%3B%0A%20%20%20%20%20%20%20%20%0A%0A%20%20%20%20%20%20%20%20marker_c66a2e943009463bab4806e4c5c16415.bindPopup%28popup_a9dd5db1d5d347ae8e6079f4ca15f13f%29%0A%20%20%20%20%20%20%20%20%3B%0A%0A%20%20%20%20%20%20%20%20%0A%20%20%20%20%0A%20%20%20%20%0A%20%20%20%20%20%20%20%20%20%20%20%20var%20marker_41998f9ff849438aa40f8db852b56c1f%20%3D%20L.marker%28%0A%20%20%20%20%20%20%20%20%20%20%20%20%20%20%20%20%5B43.645526%2C%20-79.380468%5D%2C%0A%20%20%20%20%20%20%20%20%20%20%20%20%20%20%20%20%7B%7D%0A%20%20%20%20%20%20%20%20%20%20%20%20%29.addTo%28map_14361420296f4c76a7b1fcc5b126ee89%29%3B%0A%20%20%20%20%20%20%20%20%0A%20%20%20%20%0A%20%20%20%20%20%20%20%20var%20popup_8731cc5b3e994f69a26d46572be70fe1%20%3D%20L.popup%28%7B%22maxWidth%22%3A%20%22100%25%22%7D%29%3B%0A%0A%20%20%20%20%20%20%20%20%0A%20%20%20%20%20%20%20%20%20%20%20%20var%20html_8330502282794bddae133b45668a8b97%20%3D%20%24%28%60%3Cdiv%20id%3D%22html_8330502282794bddae133b45668a8b97%22%20style%3D%22width%3A%20100.0%25%3B%20height%3A%20100.0%25%3B%22%3EStarbucks%3C/div%3E%60%29%5B0%5D%3B%0A%20%20%20%20%20%20%20%20%20%20%20%20popup_8731cc5b3e994f69a26d46572be70fe1.setContent%28html_8330502282794bddae133b45668a8b97%29%3B%0A%20%20%20%20%20%20%20%20%0A%0A%20%20%20%20%20%20%20%20marker_41998f9ff849438aa40f8db852b56c1f.bindPopup%28popup_8731cc5b3e994f69a26d46572be70fe1%29%0A%20%20%20%20%20%20%20%20%3B%0A%0A%20%20%20%20%20%20%20%20%0A%20%20%20%20%0A%20%20%20%20%0A%20%20%20%20%20%20%20%20%20%20%20%20var%20marker_f6351d33172c464485de6a38b488e189%20%3D%20L.marker%28%0A%20%20%20%20%20%20%20%20%20%20%20%20%20%20%20%20%5B43.626982%2C%20-79.478494%5D%2C%0A%20%20%20%20%20%20%20%20%20%20%20%20%20%20%20%20%7B%7D%0A%20%20%20%20%20%20%20%20%20%20%20%20%29.addTo%28map_14361420296f4c76a7b1fcc5b126ee89%29%3B%0A%20%20%20%20%20%20%20%20%0A%20%20%20%20%0A%20%20%20%20%20%20%20%20var%20popup_8686c552462f45518b1983882ca321a9%20%3D%20L.popup%28%7B%22maxWidth%22%3A%20%22100%25%22%7D%29%3B%0A%0A%20%20%20%20%20%20%20%20%0A%20%20%20%20%20%20%20%20%20%20%20%20var%20html_fd8f28eb3160410589db0a532e6bbdf3%20%3D%20%24%28%60%3Cdiv%20id%3D%22html_fd8f28eb3160410589db0a532e6bbdf3%22%20style%3D%22width%3A%20100.0%25%3B%20height%3A%20100.0%25%3B%22%3ELola%27s%20Gelato%3C/div%3E%60%29%5B0%5D%3B%0A%20%20%20%20%20%20%20%20%20%20%20%20popup_8686c552462f45518b1983882ca321a9.setContent%28html_fd8f28eb3160410589db0a532e6bbdf3%29%3B%0A%20%20%20%20%20%20%20%20%0A%0A%20%20%20%20%20%20%20%20marker_f6351d33172c464485de6a38b488e189.bindPopup%28popup_8686c552462f45518b1983882ca321a9%29%0A%20%20%20%20%20%20%20%20%3B%0A%0A%20%20%20%20%20%20%20%20%0A%20%20%20%20%0A%20%20%20%20%0A%20%20%20%20%20%20%20%20%20%20%20%20var%20marker_fc469a4c63234cd39637c300449016ae%20%3D%20L.marker%28%0A%20%20%20%20%20%20%20%20%20%20%20%20%20%20%20%20%5B43.673006%2C%20-79.440268%5D%2C%0A%20%20%20%20%20%20%20%20%20%20%20%20%20%20%20%20%7B%7D%0A%20%20%20%20%20%20%20%20%20%20%20%20%29.addTo%28map_14361420296f4c76a7b1fcc5b126ee89%29%3B%0A%20%20%20%20%20%20%20%20%0A%20%20%20%20%0A%20%20%20%20%20%20%20%20var%20popup_880d870759ca4a58b2cabda337e216b6%20%3D%20L.popup%28%7B%22maxWidth%22%3A%20%22100%25%22%7D%29%3B%0A%0A%20%20%20%20%20%20%20%20%0A%20%20%20%20%20%20%20%20%20%20%20%20var%20html_5fce1669412b4140a981059403ff9f64%20%3D%20%24%28%60%3Cdiv%20id%3D%22html_5fce1669412b4140a981059403ff9f64%22%20style%3D%22width%3A%20100.0%25%3B%20height%3A%20100.0%25%3B%22%3EThe%20Sovereign%3C/div%3E%60%29%5B0%5D%3B%0A%20%20%20%20%20%20%20%20%20%20%20%20popup_880d870759ca4a58b2cabda337e216b6.setContent%28html_5fce1669412b4140a981059403ff9f64%29%3B%0A%20%20%20%20%20%20%20%20%0A%0A%20%20%20%20%20%20%20%20marker_fc469a4c63234cd39637c300449016ae.bindPopup%28popup_880d870759ca4a58b2cabda337e216b6%29%0A%20%20%20%20%20%20%20%20%3B%0A%0A%20%20%20%20%20%20%20%20%0A%20%20%20%20%0A%20%20%20%20%0A%20%20%20%20%20%20%20%20%20%20%20%20var%20marker_db71138f8ddb41d69aa5338c768155ae%20%3D%20L.marker%28%0A%20%20%20%20%20%20%20%20%20%20%20%20%20%20%20%20%5B43.649233%2C%20-79.378113%5D%2C%0A%20%20%20%20%20%20%20%20%20%20%20%20%20%20%20%20%7B%7D%0A%20%20%20%20%20%20%20%20%20%20%20%20%29.addTo%28map_14361420296f4c76a7b1fcc5b126ee89%29%3B%0A%20%20%20%20%20%20%20%20%0A%20%20%20%20%0A%20%20%20%20%20%20%20%20var%20popup_01809031346e4e8a80c08ece5f4206cf%20%3D%20L.popup%28%7B%22maxWidth%22%3A%20%22100%25%22%7D%29%3B%0A%0A%20%20%20%20%20%20%20%20%0A%20%20%20%20%20%20%20%20%20%20%20%20var%20html_ea9b7150a1e846bfbc660d8fe3b0f9c1%20%3D%20%24%28%60%3Cdiv%20id%3D%22html_ea9b7150a1e846bfbc660d8fe3b0f9c1%22%20style%3D%22width%3A%20100.0%25%3B%20height%3A%20100.0%25%3B%22%3EStarbucks%3C/div%3E%60%29%5B0%5D%3B%0A%20%20%20%20%20%20%20%20%20%20%20%20popup_01809031346e4e8a80c08ece5f4206cf.setContent%28html_ea9b7150a1e846bfbc660d8fe3b0f9c1%29%3B%0A%20%20%20%20%20%20%20%20%0A%0A%20%20%20%20%20%20%20%20marker_db71138f8ddb41d69aa5338c768155ae.bindPopup%28popup_01809031346e4e8a80c08ece5f4206cf%29%0A%20%20%20%20%20%20%20%20%3B%0A%0A%20%20%20%20%20%20%20%20%0A%20%20%20%20%0A%20%20%20%20%0A%20%20%20%20%20%20%20%20%20%20%20%20var%20marker_5ae88cc55d3849a6836bbd69da07166d%20%3D%20L.marker%28%0A%20%20%20%20%20%20%20%20%20%20%20%20%20%20%20%20%5B43.650638%2C%20-79.450565%5D%2C%0A%20%20%20%20%20%20%20%20%20%20%20%20%20%20%20%20%7B%7D%0A%20%20%20%20%20%20%20%20%20%20%20%20%29.addTo%28map_14361420296f4c76a7b1fcc5b126ee89%29%3B%0A%20%20%20%20%20%20%20%20%0A%20%20%20%20%0A%20%20%20%20%20%20%20%20var%20popup_2920fb662aa84df1b0381defa54d2b0e%20%3D%20L.popup%28%7B%22maxWidth%22%3A%20%22100%25%22%7D%29%3B%0A%0A%20%20%20%20%20%20%20%20%0A%20%20%20%20%20%20%20%20%20%20%20%20var%20html_d18bbf0006d74069bf6cce345c3ba289%20%3D%20%24%28%60%3Cdiv%20id%3D%22html_d18bbf0006d74069bf6cce345c3ba289%22%20style%3D%22width%3A%20100.0%25%3B%20height%3A%20100.0%25%3B%22%3EReunion%20Island%20Coffee%20Bar%3C/div%3E%60%29%5B0%5D%3B%0A%20%20%20%20%20%20%20%20%20%20%20%20popup_2920fb662aa84df1b0381defa54d2b0e.setContent%28html_d18bbf0006d74069bf6cce345c3ba289%29%3B%0A%20%20%20%20%20%20%20%20%0A%0A%20%20%20%20%20%20%20%20marker_5ae88cc55d3849a6836bbd69da07166d.bindPopup%28popup_2920fb662aa84df1b0381defa54d2b0e%29%0A%20%20%20%20%20%20%20%20%3B%0A%0A%20%20%20%20%20%20%20%20%0A%20%20%20%20%0A%20%20%20%20%0A%20%20%20%20%20%20%20%20%20%20%20%20var%20marker_e286ce675b2b4727aa5e53b102729a40%20%3D%20L.marker%28%0A%20%20%20%20%20%20%20%20%20%20%20%20%20%20%20%20%5B43.669116%2C%20-79.336802%5D%2C%0A%20%20%20%20%20%20%20%20%20%20%20%20%20%20%20%20%7B%7D%0A%20%20%20%20%20%20%20%20%20%20%20%20%29.addTo%28map_14361420296f4c76a7b1fcc5b126ee89%29%3B%0A%20%20%20%20%20%20%20%20%0A%20%20%20%20%0A%20%20%20%20%20%20%20%20var%20popup_6819ff96239a4e70bbaccf9d1a5f9937%20%3D%20L.popup%28%7B%22maxWidth%22%3A%20%22100%25%22%7D%29%3B%0A%0A%20%20%20%20%20%20%20%20%0A%20%20%20%20%20%20%20%20%20%20%20%20var%20html_eda008a345f543a3a8e3d87b833e158c%20%3D%20%24%28%60%3Cdiv%20id%3D%22html_eda008a345f543a3a8e3d87b833e158c%22%20style%3D%22width%3A%20100.0%25%3B%20height%3A%20100.0%25%3B%22%3EDineen%20Outpost%3C/div%3E%60%29%5B0%5D%3B%0A%20%20%20%20%20%20%20%20%20%20%20%20popup_6819ff96239a4e70bbaccf9d1a5f9937.setContent%28html_eda008a345f543a3a8e3d87b833e158c%29%3B%0A%20%20%20%20%20%20%20%20%0A%0A%20%20%20%20%20%20%20%20marker_e286ce675b2b4727aa5e53b102729a40.bindPopup%28popup_6819ff96239a4e70bbaccf9d1a5f9937%29%0A%20%20%20%20%20%20%20%20%3B%0A%0A%20%20%20%20%20%20%20%20%0A%20%20%20%20%0A%20%20%20%20%0A%20%20%20%20%20%20%20%20%20%20%20%20var%20marker_ae57ad6e4261417ebd1baeb14062fcd6%20%3D%20L.marker%28%0A%20%20%20%20%20%20%20%20%20%20%20%20%20%20%20%20%5B43.680772%2C%20-79.429257%5D%2C%0A%20%20%20%20%20%20%20%20%20%20%20%20%20%20%20%20%7B%7D%0A%20%20%20%20%20%20%20%20%20%20%20%20%29.addTo%28map_14361420296f4c76a7b1fcc5b126ee89%29%3B%0A%20%20%20%20%20%20%20%20%0A%20%20%20%20%0A%20%20%20%20%20%20%20%20var%20popup_3e82a823b85444898dc6c6a07e8f72dd%20%3D%20L.popup%28%7B%22maxWidth%22%3A%20%22100%25%22%7D%29%3B%0A%0A%20%20%20%20%20%20%20%20%0A%20%20%20%20%20%20%20%20%20%20%20%20var%20html_82be3d9d54854a24a177b97fbf443c26%20%3D%20%24%28%60%3Cdiv%20id%3D%22html_82be3d9d54854a24a177b97fbf443c26%22%20style%3D%22width%3A%20100.0%25%3B%20height%3A%20100.0%25%3B%22%3EKrave%20Coffee%3C/div%3E%60%29%5B0%5D%3B%0A%20%20%20%20%20%20%20%20%20%20%20%20popup_3e82a823b85444898dc6c6a07e8f72dd.setContent%28html_82be3d9d54854a24a177b97fbf443c26%29%3B%0A%20%20%20%20%20%20%20%20%0A%0A%20%20%20%20%20%20%20%20marker_ae57ad6e4261417ebd1baeb14062fcd6.bindPopup%28popup_3e82a823b85444898dc6c6a07e8f72dd%29%0A%20%20%20%20%20%20%20%20%3B%0A%0A%20%20%20%20%20%20%20%20%0A%20%20%20%20%0A%20%20%20%20%0A%20%20%20%20%20%20%20%20%20%20%20%20var%20marker_ab691f19d21b4df4aea6da146799e27c%20%3D%20L.marker%28%0A%20%20%20%20%20%20%20%20%20%20%20%20%20%20%20%20%5B43.63882%2C%20-79.419455%5D%2C%0A%20%20%20%20%20%20%20%20%20%20%20%20%20%20%20%20%7B%7D%0A%20%20%20%20%20%20%20%20%20%20%20%20%29.addTo%28map_14361420296f4c76a7b1fcc5b126ee89%29%3B%0A%20%20%20%20%20%20%20%20%0A%20%20%20%20%0A%20%20%20%20%20%20%20%20var%20popup_d7e85029338f41a2bdd45c834b8d4631%20%3D%20L.popup%28%7B%22maxWidth%22%3A%20%22100%25%22%7D%29%3B%0A%0A%20%20%20%20%20%20%20%20%0A%20%20%20%20%20%20%20%20%20%20%20%20var%20html_3fe8865494c7488a931cf584bb8d38dd%20%3D%20%24%28%60%3Cdiv%20id%3D%22html_3fe8865494c7488a931cf584bb8d38dd%22%20style%3D%22width%3A%20100.0%25%3B%20height%3A%20100.0%25%3B%22%3EBalzac%27s%20Coffee%20Roasters%3C/div%3E%60%29%5B0%5D%3B%0A%20%20%20%20%20%20%20%20%20%20%20%20popup_d7e85029338f41a2bdd45c834b8d4631.setContent%28html_3fe8865494c7488a931cf584bb8d38dd%29%3B%0A%20%20%20%20%20%20%20%20%0A%0A%20%20%20%20%20%20%20%20marker_ab691f19d21b4df4aea6da146799e27c.bindPopup%28popup_d7e85029338f41a2bdd45c834b8d4631%29%0A%20%20%20%20%20%20%20%20%3B%0A%0A%20%20%20%20%20%20%20%20%0A%20%20%20%20%0A%20%20%20%20%0A%20%20%20%20%20%20%20%20%20%20%20%20var%20marker_4807cd0683d5422eaa7a3412fbad3b50%20%3D%20L.marker%28%0A%20%20%20%20%20%20%20%20%20%20%20%20%20%20%20%20%5B43.627925%2C%20-79.489347%5D%2C%0A%20%20%20%20%20%20%20%20%20%20%20%20%20%20%20%20%7B%7D%0A%20%20%20%20%20%20%20%20%20%20%20%20%29.addTo%28map_14361420296f4c76a7b1fcc5b126ee89%29%3B%0A%20%20%20%20%20%20%20%20%0A%20%20%20%20%0A%20%20%20%20%20%20%20%20var%20popup_d3e920abe3f740f4b9d5792ecca02869%20%3D%20L.popup%28%7B%22maxWidth%22%3A%20%22100%25%22%7D%29%3B%0A%0A%20%20%20%20%20%20%20%20%0A%20%20%20%20%20%20%20%20%20%20%20%20var%20html_4ac43aed129c448c8d4594d91f6e9bde%20%3D%20%24%28%60%3Cdiv%20id%3D%22html_4ac43aed129c448c8d4594d91f6e9bde%22%20style%3D%22width%3A%20100.0%25%3B%20height%3A%20100.0%25%3B%22%3EStarbucks%3C/div%3E%60%29%5B0%5D%3B%0A%20%20%20%20%20%20%20%20%20%20%20%20popup_d3e920abe3f740f4b9d5792ecca02869.setContent%28html_4ac43aed129c448c8d4594d91f6e9bde%29%3B%0A%20%20%20%20%20%20%20%20%0A%0A%20%20%20%20%20%20%20%20marker_4807cd0683d5422eaa7a3412fbad3b50.bindPopup%28popup_d3e920abe3f740f4b9d5792ecca02869%29%0A%20%20%20%20%20%20%20%20%3B%0A%0A%20%20%20%20%20%20%20%20%0A%20%20%20%20%0A%20%20%20%20%0A%20%20%20%20%20%20%20%20%20%20%20%20var%20marker_45d9f3d933e04709bf0d794ceb6bf97a%20%3D%20L.marker%28%0A%20%20%20%20%20%20%20%20%20%20%20%20%20%20%20%20%5B43.646623%2C%20-79.419441%5D%2C%0A%20%20%20%20%20%20%20%20%20%20%20%20%20%20%20%20%7B%7D%0A%20%20%20%20%20%20%20%20%20%20%20%20%29.addTo%28map_14361420296f4c76a7b1fcc5b126ee89%29%3B%0A%20%20%20%20%20%20%20%20%0A%20%20%20%20%0A%20%20%20%20%20%20%20%20var%20popup_4ca136b516fd49099499656fded4039d%20%3D%20L.popup%28%7B%22maxWidth%22%3A%20%22100%25%22%7D%29%3B%0A%0A%20%20%20%20%20%20%20%20%0A%20%20%20%20%20%20%20%20%20%20%20%20var%20html_348b811826ec45c4bc7017c4a4a477d5%20%3D%20%24%28%60%3Cdiv%20id%3D%22html_348b811826ec45c4bc7017c4a4a477d5%22%20style%3D%22width%3A%20100.0%25%3B%20height%3A%20100.0%25%3B%22%3EPilot%20Coffee%20Roasters%3C/div%3E%60%29%5B0%5D%3B%0A%20%20%20%20%20%20%20%20%20%20%20%20popup_4ca136b516fd49099499656fded4039d.setContent%28html_348b811826ec45c4bc7017c4a4a477d5%29%3B%0A%20%20%20%20%20%20%20%20%0A%0A%20%20%20%20%20%20%20%20marker_45d9f3d933e04709bf0d794ceb6bf97a.bindPopup%28popup_4ca136b516fd49099499656fded4039d%29%0A%20%20%20%20%20%20%20%20%3B%0A%0A%20%20%20%20%20%20%20%20%0A%20%20%20%20%0A%20%20%20%20%0A%20%20%20%20%20%20%20%20%20%20%20%20var%20marker_bd66498b8f3546489cf754c9c7dd22c7%20%3D%20L.marker%28%0A%20%20%20%20%20%20%20%20%20%20%20%20%20%20%20%20%5B43.651103%2C%20-79.477943%5D%2C%0A%20%20%20%20%20%20%20%20%20%20%20%20%20%20%20%20%7B%7D%0A%20%20%20%20%20%20%20%20%20%20%20%20%29.addTo%28map_14361420296f4c76a7b1fcc5b126ee89%29%3B%0A%20%20%20%20%20%20%20%20%0A%20%20%20%20%0A%20%20%20%20%20%20%20%20var%20popup_652b3b892d774212a0851e6a5965c611%20%3D%20L.popup%28%7B%22maxWidth%22%3A%20%22100%25%22%7D%29%3B%0A%0A%20%20%20%20%20%20%20%20%0A%20%20%20%20%20%20%20%20%20%20%20%20var%20html_28ebc7da5f8f4f4783b42c71d96f9289%20%3D%20%24%28%60%3Cdiv%20id%3D%22html_28ebc7da5f8f4f4783b42c71d96f9289%22%20style%3D%22width%3A%20100.0%25%3B%20height%3A%20100.0%25%3B%22%3EZaza%20Espresso%20Bar%3C/div%3E%60%29%5B0%5D%3B%0A%20%20%20%20%20%20%20%20%20%20%20%20popup_652b3b892d774212a0851e6a5965c611.setContent%28html_28ebc7da5f8f4f4783b42c71d96f9289%29%3B%0A%20%20%20%20%20%20%20%20%0A%0A%20%20%20%20%20%20%20%20marker_bd66498b8f3546489cf754c9c7dd22c7.bindPopup%28popup_652b3b892d774212a0851e6a5965c611%29%0A%20%20%20%20%20%20%20%20%3B%0A%0A%20%20%20%20%20%20%20%20%0A%20%20%20%20%0A%20%20%20%20%0A%20%20%20%20%20%20%20%20%20%20%20%20var%20marker_2e8386bce66d4f84a51fb5b0c7e127f1%20%3D%20L.marker%28%0A%20%20%20%20%20%20%20%20%20%20%20%20%20%20%20%20%5B43.668142%2C%20-79.397583%5D%2C%0A%20%20%20%20%20%20%20%20%20%20%20%20%20%20%20%20%7B%7D%0A%20%20%20%20%20%20%20%20%20%20%20%20%29.addTo%28map_14361420296f4c76a7b1fcc5b126ee89%29%3B%0A%20%20%20%20%20%20%20%20%0A%20%20%20%20%0A%20%20%20%20%20%20%20%20var%20popup_06ebc7ea68cf4e0ea670b45b98cbf454%20%3D%20L.popup%28%7B%22maxWidth%22%3A%20%22100%25%22%7D%29%3B%0A%0A%20%20%20%20%20%20%20%20%0A%20%20%20%20%20%20%20%20%20%20%20%20var%20html_bcc6764fe9bc491c865663807c55eb40%20%3D%20%24%28%60%3Cdiv%20id%3D%22html_bcc6764fe9bc491c865663807c55eb40%22%20style%3D%22width%3A%20100.0%25%3B%20height%3A%20100.0%25%3B%22%3ETim%20Hortons%3C/div%3E%60%29%5B0%5D%3B%0A%20%20%20%20%20%20%20%20%20%20%20%20popup_06ebc7ea68cf4e0ea670b45b98cbf454.setContent%28html_bcc6764fe9bc491c865663807c55eb40%29%3B%0A%20%20%20%20%20%20%20%20%0A%0A%20%20%20%20%20%20%20%20marker_2e8386bce66d4f84a51fb5b0c7e127f1.bindPopup%28popup_06ebc7ea68cf4e0ea670b45b98cbf454%29%0A%20%20%20%20%20%20%20%20%3B%0A%0A%20%20%20%20%20%20%20%20%0A%20%20%20%20%0A%20%20%20%20%0A%20%20%20%20%20%20%20%20%20%20%20%20var%20marker_96e6c1c002e340269150745c4596ffde%20%3D%20L.marker%28%0A%20%20%20%20%20%20%20%20%20%20%20%20%20%20%20%20%5B43.652065%2C%20-79.379311%5D%2C%0A%20%20%20%20%20%20%20%20%20%20%20%20%20%20%20%20%7B%7D%0A%20%20%20%20%20%20%20%20%20%20%20%20%29.addTo%28map_14361420296f4c76a7b1fcc5b126ee89%29%3B%0A%20%20%20%20%20%20%20%20%0A%20%20%20%20%0A%20%20%20%20%20%20%20%20var%20popup_7055831323dc48808433a7bdc140fe56%20%3D%20L.popup%28%7B%22maxWidth%22%3A%20%22100%25%22%7D%29%3B%0A%0A%20%20%20%20%20%20%20%20%0A%20%20%20%20%20%20%20%20%20%20%20%20var%20html_40cff25a4f53486fb8c148c11d83ea62%20%3D%20%24%28%60%3Cdiv%20id%3D%22html_40cff25a4f53486fb8c148c11d83ea62%22%20style%3D%22width%3A%20100.0%25%3B%20height%3A%20100.0%25%3B%22%3ENespresso%3C/div%3E%60%29%5B0%5D%3B%0A%20%20%20%20%20%20%20%20%20%20%20%20popup_7055831323dc48808433a7bdc140fe56.setContent%28html_40cff25a4f53486fb8c148c11d83ea62%29%3B%0A%20%20%20%20%20%20%20%20%0A%0A%20%20%20%20%20%20%20%20marker_96e6c1c002e340269150745c4596ffde.bindPopup%28popup_7055831323dc48808433a7bdc140fe56%29%0A%20%20%20%20%20%20%20%20%3B%0A%0A%20%20%20%20%20%20%20%20%0A%20%20%20%20%0A%20%20%20%20%0A%20%20%20%20%20%20%20%20%20%20%20%20var%20marker_60efc1f02862480f9b549ad6c8c2a2c4%20%3D%20L.marker%28%0A%20%20%20%20%20%20%20%20%20%20%20%20%20%20%20%20%5B43.689084%2C%20-79.413044%5D%2C%0A%20%20%20%20%20%20%20%20%20%20%20%20%20%20%20%20%7B%7D%0A%20%20%20%20%20%20%20%20%20%20%20%20%29.addTo%28map_14361420296f4c76a7b1fcc5b126ee89%29%3B%0A%20%20%20%20%20%20%20%20%0A%20%20%20%20%0A%20%20%20%20%20%20%20%20var%20popup_a6a11b3327eb41b4a628d57bf884a002%20%3D%20L.popup%28%7B%22maxWidth%22%3A%20%22100%25%22%7D%29%3B%0A%0A%20%20%20%20%20%20%20%20%0A%20%20%20%20%20%20%20%20%20%20%20%20var%20html_78471ec6cabb45b2a4c4862cc4e3df2c%20%3D%20%24%28%60%3Cdiv%20id%3D%22html_78471ec6cabb45b2a4c4862cc4e3df2c%22%20style%3D%22width%3A%20100.0%25%3B%20height%3A%20100.0%25%3B%22%3EStarbucks%3C/div%3E%60%29%5B0%5D%3B%0A%20%20%20%20%20%20%20%20%20%20%20%20popup_a6a11b3327eb41b4a628d57bf884a002.setContent%28html_78471ec6cabb45b2a4c4862cc4e3df2c%29%3B%0A%20%20%20%20%20%20%20%20%0A%0A%20%20%20%20%20%20%20%20marker_60efc1f02862480f9b549ad6c8c2a2c4.bindPopup%28popup_a6a11b3327eb41b4a628d57bf884a002%29%0A%20%20%20%20%20%20%20%20%3B%0A%0A%20%20%20%20%20%20%20%20%0A%20%20%20%20%0A%20%20%20%20%0A%20%20%20%20%20%20%20%20%20%20%20%20var%20marker_de006b6506054705923c26bd4e9a949c%20%3D%20L.marker%28%0A%20%20%20%20%20%20%20%20%20%20%20%20%20%20%20%20%5B43.647961%2C%20-79.373984%5D%2C%0A%20%20%20%20%20%20%20%20%20%20%20%20%20%20%20%20%7B%7D%0A%20%20%20%20%20%20%20%20%20%20%20%20%29.addTo%28map_14361420296f4c76a7b1fcc5b126ee89%29%3B%0A%20%20%20%20%20%20%20%20%0A%20%20%20%20%0A%20%20%20%20%20%20%20%20var%20popup_1194eed0f8b54deaba8d2166a6be7b5f%20%3D%20L.popup%28%7B%22maxWidth%22%3A%20%22100%25%22%7D%29%3B%0A%0A%20%20%20%20%20%20%20%20%0A%20%20%20%20%20%20%20%20%20%20%20%20var%20html_9339135ea1ba4332846da4b0d9c6f77d%20%3D%20%24%28%60%3Cdiv%20id%3D%22html_9339135ea1ba4332846da4b0d9c6f77d%22%20style%3D%22width%3A%20100.0%25%3B%20height%3A%20100.0%25%3B%22%3ETim%20Hortons%3C/div%3E%60%29%5B0%5D%3B%0A%20%20%20%20%20%20%20%20%20%20%20%20popup_1194eed0f8b54deaba8d2166a6be7b5f.setContent%28html_9339135ea1ba4332846da4b0d9c6f77d%29%3B%0A%20%20%20%20%20%20%20%20%0A%0A%20%20%20%20%20%20%20%20marker_de006b6506054705923c26bd4e9a949c.bindPopup%28popup_1194eed0f8b54deaba8d2166a6be7b5f%29%0A%20%20%20%20%20%20%20%20%3B%0A%0A%20%20%20%20%20%20%20%20%0A%20%20%20%20%0A%20%20%20%20%0A%20%20%20%20%20%20%20%20%20%20%20%20var%20marker_1e5dc8d305914612ab625a92b32b241b%20%3D%20L.marker%28%0A%20%20%20%20%20%20%20%20%20%20%20%20%20%20%20%20%5B43.628192%2C%20-79.48953%5D%2C%0A%20%20%20%20%20%20%20%20%20%20%20%20%20%20%20%20%7B%7D%0A%20%20%20%20%20%20%20%20%20%20%20%20%29.addTo%28map_14361420296f4c76a7b1fcc5b126ee89%29%3B%0A%20%20%20%20%20%20%20%20%0A%20%20%20%20%0A%20%20%20%20%20%20%20%20var%20popup_cd017554c942425da8e19cb03f3b7db9%20%3D%20L.popup%28%7B%22maxWidth%22%3A%20%22100%25%22%7D%29%3B%0A%0A%20%20%20%20%20%20%20%20%0A%20%20%20%20%20%20%20%20%20%20%20%20var%20html_2108b41ac1f045f0a3eccd01fe0e8c8c%20%3D%20%24%28%60%3Cdiv%20id%3D%22html_2108b41ac1f045f0a3eccd01fe0e8c8c%22%20style%3D%22width%3A%20100.0%25%3B%20height%3A%20100.0%25%3B%22%3ETim%20Hortons%3C/div%3E%60%29%5B0%5D%3B%0A%20%20%20%20%20%20%20%20%20%20%20%20popup_cd017554c942425da8e19cb03f3b7db9.setContent%28html_2108b41ac1f045f0a3eccd01fe0e8c8c%29%3B%0A%20%20%20%20%20%20%20%20%0A%0A%20%20%20%20%20%20%20%20marker_1e5dc8d305914612ab625a92b32b241b.bindPopup%28popup_cd017554c942425da8e19cb03f3b7db9%29%0A%20%20%20%20%20%20%20%20%3B%0A%0A%20%20%20%20%20%20%20%20%0A%20%20%20%20%0A%20%20%20%20%0A%20%20%20%20%20%20%20%20%20%20%20%20var%20marker_d1e0e37fab6348eb87804d73bdc6d3da%20%3D%20L.marker%28%0A%20%20%20%20%20%20%20%20%20%20%20%20%20%20%20%20%5B43.709348%2C%20-79.399293%5D%2C%0A%20%20%20%20%20%20%20%20%20%20%20%20%20%20%20%20%7B%7D%0A%20%20%20%20%20%20%20%20%20%20%20%20%29.addTo%28map_14361420296f4c76a7b1fcc5b126ee89%29%3B%0A%20%20%20%20%20%20%20%20%0A%20%20%20%20%0A%20%20%20%20%20%20%20%20var%20popup_23e5e03b3a5242a98f1cf5b489f5a22f%20%3D%20L.popup%28%7B%22maxWidth%22%3A%20%22100%25%22%7D%29%3B%0A%0A%20%20%20%20%20%20%20%20%0A%20%20%20%20%20%20%20%20%20%20%20%20var%20html_4068ce1b3425491b80d158c7cec5fd22%20%3D%20%24%28%60%3Cdiv%20id%3D%22html_4068ce1b3425491b80d158c7cec5fd22%22%20style%3D%22width%3A%20100.0%25%3B%20height%3A%20100.0%25%3B%22%3EStock%20T.C%3C/div%3E%60%29%5B0%5D%3B%0A%20%20%20%20%20%20%20%20%20%20%20%20popup_23e5e03b3a5242a98f1cf5b489f5a22f.setContent%28html_4068ce1b3425491b80d158c7cec5fd22%29%3B%0A%20%20%20%20%20%20%20%20%0A%0A%20%20%20%20%20%20%20%20marker_d1e0e37fab6348eb87804d73bdc6d3da.bindPopup%28popup_23e5e03b3a5242a98f1cf5b489f5a22f%29%0A%20%20%20%20%20%20%20%20%3B%0A%0A%20%20%20%20%20%20%20%20%0A%20%20%20%20%0A%20%20%20%20%0A%20%20%20%20%20%20%20%20%20%20%20%20var%20marker_41a1e00fe89e4a1c9438478c2c684636%20%3D%20L.marker%28%0A%20%20%20%20%20%20%20%20%20%20%20%20%20%20%20%20%5B43.665336%2C%20-79.368143%5D%2C%0A%20%20%20%20%20%20%20%20%20%20%20%20%20%20%20%20%7B%7D%0A%20%20%20%20%20%20%20%20%20%20%20%20%29.addTo%28map_14361420296f4c76a7b1fcc5b126ee89%29%3B%0A%20%20%20%20%20%20%20%20%0A%20%20%20%20%0A%20%20%20%20%20%20%20%20var%20popup_d4bde2a4e9ec4e9a87f43a77bdde5b84%20%3D%20L.popup%28%7B%22maxWidth%22%3A%20%22100%25%22%7D%29%3B%0A%0A%20%20%20%20%20%20%20%20%0A%20%20%20%20%20%20%20%20%20%20%20%20var%20html_43c347d9949b4f6cad327a958553b9bb%20%3D%20%24%28%60%3Cdiv%20id%3D%22html_43c347d9949b4f6cad327a958553b9bb%22%20style%3D%22width%3A%20100.0%25%3B%20height%3A%20100.0%25%3B%22%3EJet%20Fuel%20Coffee%20Shop%20Inc%3C/div%3E%60%29%5B0%5D%3B%0A%20%20%20%20%20%20%20%20%20%20%20%20popup_d4bde2a4e9ec4e9a87f43a77bdde5b84.setContent%28html_43c347d9949b4f6cad327a958553b9bb%29%3B%0A%20%20%20%20%20%20%20%20%0A%0A%20%20%20%20%20%20%20%20marker_41a1e00fe89e4a1c9438478c2c684636.bindPopup%28popup_d4bde2a4e9ec4e9a87f43a77bdde5b84%29%0A%20%20%20%20%20%20%20%20%3B%0A%0A%20%20%20%20%20%20%20%20%0A%20%20%20%20%0A%20%20%20%20%0A%20%20%20%20%20%20%20%20%20%20%20%20var%20marker_78ee748cc2784fe688abf5294b2b1bc9%20%3D%20L.marker%28%0A%20%20%20%20%20%20%20%20%20%20%20%20%20%20%20%20%5B43.725227%2C%20-79.448889%5D%2C%0A%20%20%20%20%20%20%20%20%20%20%20%20%20%20%20%20%7B%7D%0A%20%20%20%20%20%20%20%20%20%20%20%20%29.addTo%28map_14361420296f4c76a7b1fcc5b126ee89%29%3B%0A%20%20%20%20%20%20%20%20%0A%20%20%20%20%0A%20%20%20%20%20%20%20%20var%20popup_d0f9cf532983468db1289c7e8d642d5f%20%3D%20L.popup%28%7B%22maxWidth%22%3A%20%22100%25%22%7D%29%3B%0A%0A%20%20%20%20%20%20%20%20%0A%20%20%20%20%20%20%20%20%20%20%20%20var%20html_3068f3983eaa406f8c5fbccd3509c490%20%3D%20%24%28%60%3Cdiv%20id%3D%22html_3068f3983eaa406f8c5fbccd3509c490%22%20style%3D%22width%3A%20100.0%25%3B%20height%3A%20100.0%25%3B%22%3EStarbucks%3C/div%3E%60%29%5B0%5D%3B%0A%20%20%20%20%20%20%20%20%20%20%20%20popup_d0f9cf532983468db1289c7e8d642d5f.setContent%28html_3068f3983eaa406f8c5fbccd3509c490%29%3B%0A%20%20%20%20%20%20%20%20%0A%0A%20%20%20%20%20%20%20%20marker_78ee748cc2784fe688abf5294b2b1bc9.bindPopup%28popup_d0f9cf532983468db1289c7e8d642d5f%29%0A%20%20%20%20%20%20%20%20%3B%0A%0A%20%20%20%20%20%20%20%20%0A%20%20%20%20%0A%20%20%20%20%0A%20%20%20%20%20%20%20%20%20%20%20%20var%20marker_ca90110ec1e342a6b63cbe304df45327%20%3D%20L.marker%28%0A%20%20%20%20%20%20%20%20%20%20%20%20%20%20%20%20%5B43.639975%2C%20-79.381174%5D%2C%0A%20%20%20%20%20%20%20%20%20%20%20%20%20%20%20%20%7B%7D%0A%20%20%20%20%20%20%20%20%20%20%20%20%29.addTo%28map_14361420296f4c76a7b1fcc5b126ee89%29%3B%0A%20%20%20%20%20%20%20%20%0A%20%20%20%20%0A%20%20%20%20%20%20%20%20var%20popup_482858457a9948f0960d22eab9351e40%20%3D%20L.popup%28%7B%22maxWidth%22%3A%20%22100%25%22%7D%29%3B%0A%0A%20%20%20%20%20%20%20%20%0A%20%20%20%20%20%20%20%20%20%20%20%20var%20html_a74af98dc2604d1ea20a1eadc0575680%20%3D%20%24%28%60%3Cdiv%20id%3D%22html_a74af98dc2604d1ea20a1eadc0575680%22%20style%3D%22width%3A%20100.0%25%3B%20height%3A%20100.0%25%3B%22%3EStarbucks%3C/div%3E%60%29%5B0%5D%3B%0A%20%20%20%20%20%20%20%20%20%20%20%20popup_482858457a9948f0960d22eab9351e40.setContent%28html_a74af98dc2604d1ea20a1eadc0575680%29%3B%0A%20%20%20%20%20%20%20%20%0A%0A%20%20%20%20%20%20%20%20marker_ca90110ec1e342a6b63cbe304df45327.bindPopup%28popup_482858457a9948f0960d22eab9351e40%29%0A%20%20%20%20%20%20%20%20%3B%0A%0A%20%20%20%20%20%20%20%20%0A%20%20%20%20%0A%3C/script%3E onload=\"this.contentDocument.open();this.contentDocument.write(    decodeURIComponent(this.getAttribute('data-html')));this.contentDocument.close();\" allowfullscreen webkitallowfullscreen mozallowfullscreen></iframe></div></div>"
      ],
      "text/plain": [
       "<folium.folium.Map at 0x24534567970>"
      ]
     },
     "execution_count": 38,
     "metadata": {},
     "output_type": "execute_result"
    }
   ],
   "source": [
    "\n",
    "# map display and coffe shops\n",
    "\n",
    "map_CentralBay= folium.Map(location = [43.677993, -79.390267], zoom_start = 12)\n",
    "  \n",
    "for point in range(0, len(locationlist)):\n",
    "    folium.Marker(locationlist[point], popup=toronto_venues['Venue'][point]).add_to(map_CentralBay)\n",
    "map_CentralBay"
   ]
  },
  {
   "cell_type": "markdown",
   "metadata": {
    "id": "PNjVKOHIAy_H"
   },
   "source": [
    "# Calculating optimal parameters for a DBSCAN\n",
    "The Nearest Neighbors Algorithm is used to get the optimal epsilon value, considering 2 neighboring points. The \"elbow\" in the chart represents the optimal value"
   ]
  },
  {
   "cell_type": "code",
   "execution_count": 39,
   "metadata": {
    "colab": {
     "base_uri": "https://localhost:8080/",
     "height": 282
    },
    "id": "2xaexkuSwst1",
    "outputId": "c00aa21b-6244-4041-a4bf-cf7f08712f67"
   },
   "outputs": [
    {
     "data": {
      "text/plain": [
       "[<matplotlib.lines.Line2D at 0x24534676dc0>]"
      ]
     },
     "execution_count": 39,
     "metadata": {},
     "output_type": "execute_result"
    },
    {
     "data": {
      "image/png": "[encoded data removed]",
      "text/plain": [
       "<Figure size 432x288 with 1 Axes>"
      ]
     },
     "metadata": {
      "needs_background": "light"
     },
     "output_type": "display_data"
    }
   ],
   "source": [
    "# DBSCAN\n",
    "cluster_dataSet = toronto_venues[['Venue Latitude','Venue Longitude']]\n",
    "cluster_dataSet = StandardScaler().fit_transform(cluster_dataSet)\n",
    "\n",
    "# Calculate optimal eps\n",
    "neigh = NearestNeighbors(n_neighbors=2)\n",
    "nbrs = neigh.fit(cluster_dataSet)\n",
    "distances, indices = nbrs.kneighbors(cluster_dataSet)\n",
    "\n",
    "distances = np.sort(distances, axis=0)\n",
    "distances = distances[:,1]\n",
    "plt.plot(distances)"
   ]
  },
  {
   "cell_type": "markdown",
   "metadata": {
    "id": "ZYROSiRvBArl"
   },
   "source": [
    "The epsilon value was rounded down to 0.6 and the min_samples value was set to 2"
   ]
  },
  {
   "cell_type": "code",
   "execution_count": 40,
   "metadata": {
    "colab": {
     "base_uri": "https://localhost:8080/",
     "height": 372
    },
    "id": "Bmj-eUz6wsv6",
    "outputId": "48d73058-2f6b-4fbc-8fb9-0affda9ec29b"
   },
   "outputs": [
    {
     "name": "stdout",
     "output_type": "stream",
     "text": [
      "There are 2 clusters\n"
     ]
    },
    {
     "data": {
      "text/html": [
       "<div>\n",
       "<style scoped>\n",
       "    .dataframe tbody tr th:only-of-type {\n",
       "        vertical-align: middle;\n",
       "    }\n",
       "\n",
       "    .dataframe tbody tr th {\n",
       "        vertical-align: top;\n",
       "    }\n",
       "\n",
       "    .dataframe thead th {\n",
       "        text-align: right;\n",
       "    }\n",
       "</style>\n",
       "<table border=\"1\" class=\"dataframe\">\n",
       "  <thead>\n",
       "    <tr style=\"text-align: right;\">\n",
       "      <th></th>\n",
       "      <th>Neighborhood</th>\n",
       "      <th>Neighborhood Latitude</th>\n",
       "      <th>Neighborhood Longitude</th>\n",
       "      <th>Venue</th>\n",
       "      <th>Venue Latitude</th>\n",
       "      <th>Venue Longitude</th>\n",
       "      <th>Venue category</th>\n",
       "      <th>Cluster</th>\n",
       "    </tr>\n",
       "  </thead>\n",
       "  <tbody>\n",
       "    <tr>\n",
       "      <th>0</th>\n",
       "      <td>Central Bay Street</td>\n",
       "      <td>43.657952</td>\n",
       "      <td>-79.387383</td>\n",
       "      <td>Hailed Coffee</td>\n",
       "      <td>43.658868</td>\n",
       "      <td>-79.383807</td>\n",
       "      <td>Coffee Shop</td>\n",
       "      <td>0</td>\n",
       "    </tr>\n",
       "    <tr>\n",
       "      <th>1</th>\n",
       "      <td>Central Bay Street</td>\n",
       "      <td>43.657952</td>\n",
       "      <td>-79.387383</td>\n",
       "      <td>The Alley</td>\n",
       "      <td>43.665827</td>\n",
       "      <td>-79.385383</td>\n",
       "      <td>Coffee Shop</td>\n",
       "      <td>0</td>\n",
       "    </tr>\n",
       "    <tr>\n",
       "      <th>2</th>\n",
       "      <td>Central Bay Street</td>\n",
       "      <td>43.657952</td>\n",
       "      <td>-79.387383</td>\n",
       "      <td>HotBlack Coffee</td>\n",
       "      <td>43.650271</td>\n",
       "      <td>-79.388563</td>\n",
       "      <td>Coffee Shop</td>\n",
       "      <td>0</td>\n",
       "    </tr>\n",
       "    <tr>\n",
       "      <th>3</th>\n",
       "      <td>Central Bay Street</td>\n",
       "      <td>43.657952</td>\n",
       "      <td>-79.387383</td>\n",
       "      <td>Fahrenheit Coffee</td>\n",
       "      <td>43.652416</td>\n",
       "      <td>-79.372916</td>\n",
       "      <td>Coffee Shop</td>\n",
       "      <td>0</td>\n",
       "    </tr>\n",
       "    <tr>\n",
       "      <th>4</th>\n",
       "      <td>Central Bay Street</td>\n",
       "      <td>43.657952</td>\n",
       "      <td>-79.387383</td>\n",
       "      <td>Dineen Coffee Co</td>\n",
       "      <td>43.651132</td>\n",
       "      <td>-79.379023</td>\n",
       "      <td>Coffee Shop</td>\n",
       "      <td>0</td>\n",
       "    </tr>\n",
       "  </tbody>\n",
       "</table>\n",
       "</div>"
      ],
      "text/plain": [
       "         Neighborhood  Neighborhood Latitude  Neighborhood Longitude  \\\n",
       "0  Central Bay Street              43.657952              -79.387383   \n",
       "1  Central Bay Street              43.657952              -79.387383   \n",
       "2  Central Bay Street              43.657952              -79.387383   \n",
       "3  Central Bay Street              43.657952              -79.387383   \n",
       "4  Central Bay Street              43.657952              -79.387383   \n",
       "\n",
       "               Venue  Venue Latitude  Venue Longitude Venue category  Cluster  \n",
       "0      Hailed Coffee       43.658868       -79.383807    Coffee Shop        0  \n",
       "1          The Alley       43.665827       -79.385383    Coffee Shop        0  \n",
       "2    HotBlack Coffee       43.650271       -79.388563    Coffee Shop        0  \n",
       "3  Fahrenheit Coffee       43.652416       -79.372916    Coffee Shop        0  \n",
       "4   Dineen Coffee Co       43.651132       -79.379023    Coffee Shop        0  "
      ]
     },
     "execution_count": 40,
     "metadata": {},
     "output_type": "execute_result"
    }
   ],
   "source": [
    "# Compute DBSCAN\n",
    "db = DBSCAN(eps=0.6, min_samples=2).fit(cluster_dataSet)\n",
    "core_samples_mask = np.zeros_like(db.labels_, dtype=bool)\n",
    "core_samples_mask[db.core_sample_indices_] = True\n",
    "labels = db.labels_\n",
    "# adding cluster on data frame\n",
    "toronto_venues[\"Cluster\"] = labels\n",
    "\n",
    "clusterNum = len(set(labels))\n",
    "\n",
    "print( 'There are {} clusters'.format(clusterNum - 3) )\n",
    "toronto_venues.head()"
   ]
  },
  {
   "cell_type": "code",
   "execution_count": 41,
   "metadata": {
    "colab": {
     "base_uri": "https://localhost:8080/",
     "height": 372
    },
    "id": "dfW1wUB5VsyZ",
    "outputId": "56d2ac05-91ba-4c89-8ed2-c1c2cc8b07b6"
   },
   "outputs": [
    {
     "data": {
      "text/html": [
       "<div>\n",
       "<style scoped>\n",
       "    .dataframe tbody tr th:only-of-type {\n",
       "        vertical-align: middle;\n",
       "    }\n",
       "\n",
       "    .dataframe tbody tr th {\n",
       "        vertical-align: top;\n",
       "    }\n",
       "\n",
       "    .dataframe thead th {\n",
       "        text-align: right;\n",
       "    }\n",
       "</style>\n",
       "<table border=\"1\" class=\"dataframe\">\n",
       "  <thead>\n",
       "    <tr style=\"text-align: right;\">\n",
       "      <th></th>\n",
       "      <th>Neighborhood</th>\n",
       "      <th>Neighborhood Latitude</th>\n",
       "      <th>Neighborhood Longitude</th>\n",
       "      <th>Venue</th>\n",
       "      <th>Venue Latitude</th>\n",
       "      <th>Venue Longitude</th>\n",
       "      <th>Venue category</th>\n",
       "      <th>Cluster</th>\n",
       "    </tr>\n",
       "  </thead>\n",
       "  <tbody>\n",
       "    <tr>\n",
       "      <th>45</th>\n",
       "      <td>Central Bay Street</td>\n",
       "      <td>43.657952</td>\n",
       "      <td>-79.387383</td>\n",
       "      <td>Tim Hortons</td>\n",
       "      <td>43.628192</td>\n",
       "      <td>-79.489530</td>\n",
       "      <td>Coffee Shop</td>\n",
       "      <td>3</td>\n",
       "    </tr>\n",
       "    <tr>\n",
       "      <th>46</th>\n",
       "      <td>Central Bay Street</td>\n",
       "      <td>43.657952</td>\n",
       "      <td>-79.387383</td>\n",
       "      <td>Stock T.C</td>\n",
       "      <td>43.709348</td>\n",
       "      <td>-79.399293</td>\n",
       "      <td>Coffee Shop</td>\n",
       "      <td>2</td>\n",
       "    </tr>\n",
       "    <tr>\n",
       "      <th>47</th>\n",
       "      <td>Central Bay Street</td>\n",
       "      <td>43.657952</td>\n",
       "      <td>-79.387383</td>\n",
       "      <td>Jet Fuel Coffee Shop Inc</td>\n",
       "      <td>43.665336</td>\n",
       "      <td>-79.368143</td>\n",
       "      <td>Coffee Shop</td>\n",
       "      <td>0</td>\n",
       "    </tr>\n",
       "    <tr>\n",
       "      <th>48</th>\n",
       "      <td>Central Bay Street</td>\n",
       "      <td>43.657952</td>\n",
       "      <td>-79.387383</td>\n",
       "      <td>Starbucks</td>\n",
       "      <td>43.725227</td>\n",
       "      <td>-79.448889</td>\n",
       "      <td>Coffee Shop</td>\n",
       "      <td>-1</td>\n",
       "    </tr>\n",
       "    <tr>\n",
       "      <th>49</th>\n",
       "      <td>Central Bay Street</td>\n",
       "      <td>43.657952</td>\n",
       "      <td>-79.387383</td>\n",
       "      <td>Starbucks</td>\n",
       "      <td>43.639975</td>\n",
       "      <td>-79.381174</td>\n",
       "      <td>Coffee Shop</td>\n",
       "      <td>0</td>\n",
       "    </tr>\n",
       "  </tbody>\n",
       "</table>\n",
       "</div>"
      ],
      "text/plain": [
       "          Neighborhood  Neighborhood Latitude  Neighborhood Longitude  \\\n",
       "45  Central Bay Street              43.657952              -79.387383   \n",
       "46  Central Bay Street              43.657952              -79.387383   \n",
       "47  Central Bay Street              43.657952              -79.387383   \n",
       "48  Central Bay Street              43.657952              -79.387383   \n",
       "49  Central Bay Street              43.657952              -79.387383   \n",
       "\n",
       "                       Venue  Venue Latitude  Venue Longitude Venue category  \\\n",
       "45               Tim Hortons       43.628192       -79.489530    Coffee Shop   \n",
       "46                 Stock T.C       43.709348       -79.399293    Coffee Shop   \n",
       "47  Jet Fuel Coffee Shop Inc       43.665336       -79.368143    Coffee Shop   \n",
       "48                 Starbucks       43.725227       -79.448889    Coffee Shop   \n",
       "49                 Starbucks       43.639975       -79.381174    Coffee Shop   \n",
       "\n",
       "    Cluster  \n",
       "45        3  \n",
       "46        2  \n",
       "47        0  \n",
       "48       -1  \n",
       "49        0  "
      ]
     },
     "execution_count": 41,
     "metadata": {},
     "output_type": "execute_result"
    }
   ],
   "source": [
    "toronto_venues.tail()"
   ]
  },
  {
   "cell_type": "markdown",
   "metadata": {
    "id": "_q-q5v8rFmxf"
   },
   "source": [
    "# Visualization of the clusters in the map"
   ]
  },
  {
   "cell_type": "code",
   "execution_count": 42,
   "metadata": {
    "colab": {
     "base_uri": "https://localhost:8080/",
     "height": 510
    },
    "id": "UI9Wc5YvPKJ7",
    "outputId": "94992ebe-7571-415e-d455-0cdd1dda1437"
   },
   "outputs": [
    {
     "data": {
      "text/html": [
       "<div style=\"width:100%;\"><div style=\"position:relative;width:100%;height:0;padding-bottom:60%;\"><span style=\"color:#565656\">Make this Notebook Trusted to load map: File -> Trust Notebook</span><iframe src=\"about:blank\" style=\"position:absolute;width:100%;height:100%;left:0;top:0;border:none !important;\" data-html=%3C%21DOCTYPE%20html%3E%0A%3Chead%3E%20%20%20%20%0A%20%20%20%20%3Cmeta%20http-equiv%3D%22content-type%22%20content%3D%22text/html%3B%20charset%3DUTF-8%22%20/%3E%0A%20%20%20%20%0A%20%20%20%20%20%20%20%20%3Cscript%3E%0A%20%20%20%20%20%20%20%20%20%20%20%20L_NO_TOUCH%20%3D%20false%3B%0A%20%20%20%20%20%20%20%20%20%20%20%20L_DISABLE_3D%20%3D%20false%3B%0A%20%20%20%20%20%20%20%20%3C/script%3E%0A%20%20%20%20%0A%20%20%20%20%3Cstyle%3Ehtml%2C%20body%20%7Bwidth%3A%20100%25%3Bheight%3A%20100%25%3Bmargin%3A%200%3Bpadding%3A%200%3B%7D%3C/style%3E%0A%20%20%20%20%3Cstyle%3E%23map%20%7Bposition%3Aabsolute%3Btop%3A0%3Bbottom%3A0%3Bright%3A0%3Bleft%3A0%3B%7D%3C/style%3E%0A%20%20%20%20%3Cscript%20src%3D%22https%3A//cdn.jsdelivr.net/npm/leaflet%401.6.0/dist/leaflet.js%22%3E%3C/script%3E%0A%20%20%20%20%3Cscript%20src%3D%22https%3A//code.jquery.com/jquery-1.12.4.min.js%22%3E%3C/script%3E%0A%20%20%20%20%3Cscript%20src%3D%22https%3A//maxcdn.bootstrapcdn.com/bootstrap/3.2.0/js/bootstrap.min.js%22%3E%3C/script%3E%0A%20%20%20%20%3Cscript%20src%3D%22https%3A//cdnjs.cloudflare.com/ajax/libs/Leaflet.awesome-markers/2.0.2/leaflet.awesome-markers.js%22%3E%3C/script%3E%0A%20%20%20%20%3Clink%20rel%3D%22stylesheet%22%20href%3D%22https%3A//cdn.jsdelivr.net/npm/leaflet%401.6.0/dist/leaflet.css%22/%3E%0A%20%20%20%20%3Clink%20rel%3D%22stylesheet%22%20href%3D%22https%3A//maxcdn.bootstrapcdn.com/bootstrap/3.2.0/css/bootstrap.min.css%22/%3E%0A%20%20%20%20%3Clink%20rel%3D%22stylesheet%22%20href%3D%22https%3A//maxcdn.bootstrapcdn.com/bootstrap/3.2.0/css/bootstrap-theme.min.css%22/%3E%0A%20%20%20%20%3Clink%20rel%3D%22stylesheet%22%20href%3D%22https%3A//maxcdn.bootstrapcdn.com/font-awesome/4.6.3/css/font-awesome.min.css%22/%3E%0A%20%20%20%20%3Clink%20rel%3D%22stylesheet%22%20href%3D%22https%3A//cdnjs.cloudflare.com/ajax/libs/Leaflet.awesome-markers/2.0.2/leaflet.awesome-markers.css%22/%3E%0A%20%20%20%20%3Clink%20rel%3D%22stylesheet%22%20href%3D%22https%3A//cdn.jsdelivr.net/gh/python-visualization/folium/folium/templates/leaflet.awesome.rotate.min.css%22/%3E%0A%20%20%20%20%0A%20%20%20%20%20%20%20%20%20%20%20%20%3Cmeta%20name%3D%22viewport%22%20content%3D%22width%3Ddevice-width%2C%0A%20%20%20%20%20%20%20%20%20%20%20%20%20%20%20%20initial-scale%3D1.0%2C%20maximum-scale%3D1.0%2C%20user-scalable%3Dno%22%20/%3E%0A%20%20%20%20%20%20%20%20%20%20%20%20%3Cstyle%3E%0A%20%20%20%20%20%20%20%20%20%20%20%20%20%20%20%20%23map_af0f37553989406fa15adf20abdf6a40%20%7B%0A%20%20%20%20%20%20%20%20%20%20%20%20%20%20%20%20%20%20%20%20position%3A%20relative%3B%0A%20%20%20%20%20%20%20%20%20%20%20%20%20%20%20%20%20%20%20%20width%3A%20100.0%25%3B%0A%20%20%20%20%20%20%20%20%20%20%20%20%20%20%20%20%20%20%20%20height%3A%20100.0%25%3B%0A%20%20%20%20%20%20%20%20%20%20%20%20%20%20%20%20%20%20%20%20left%3A%200.0%25%3B%0A%20%20%20%20%20%20%20%20%20%20%20%20%20%20%20%20%20%20%20%20top%3A%200.0%25%3B%0A%20%20%20%20%20%20%20%20%20%20%20%20%20%20%20%20%7D%0A%20%20%20%20%20%20%20%20%20%20%20%20%3C/style%3E%0A%20%20%20%20%20%20%20%20%0A%3C/head%3E%0A%3Cbody%3E%20%20%20%20%0A%20%20%20%20%0A%20%20%20%20%20%20%20%20%20%20%20%20%3Cdiv%20class%3D%22folium-map%22%20id%3D%22map_af0f37553989406fa15adf20abdf6a40%22%20%3E%3C/div%3E%0A%20%20%20%20%20%20%20%20%0A%3C/body%3E%0A%3Cscript%3E%20%20%20%20%0A%20%20%20%20%0A%20%20%20%20%20%20%20%20%20%20%20%20var%20map_af0f37553989406fa15adf20abdf6a40%20%3D%20L.map%28%0A%20%20%20%20%20%20%20%20%20%20%20%20%20%20%20%20%22map_af0f37553989406fa15adf20abdf6a40%22%2C%0A%20%20%20%20%20%20%20%20%20%20%20%20%20%20%20%20%7B%0A%20%20%20%20%20%20%20%20%20%20%20%20%20%20%20%20%20%20%20%20center%3A%20%5B43.677993%2C%20-79.390267%5D%2C%0A%20%20%20%20%20%20%20%20%20%20%20%20%20%20%20%20%20%20%20%20crs%3A%20L.CRS.EPSG3857%2C%0A%20%20%20%20%20%20%20%20%20%20%20%20%20%20%20%20%20%20%20%20zoom%3A%2012%2C%0A%20%20%20%20%20%20%20%20%20%20%20%20%20%20%20%20%20%20%20%20zoomControl%3A%20true%2C%0A%20%20%20%20%20%20%20%20%20%20%20%20%20%20%20%20%20%20%20%20preferCanvas%3A%20false%2C%0A%20%20%20%20%20%20%20%20%20%20%20%20%20%20%20%20%7D%0A%20%20%20%20%20%20%20%20%20%20%20%20%29%3B%0A%0A%20%20%20%20%20%20%20%20%20%20%20%20%0A%0A%20%20%20%20%20%20%20%20%0A%20%20%20%20%0A%20%20%20%20%20%20%20%20%20%20%20%20var%20tile_layer_3c2bf155ed2a43049619a3f38ee8e034%20%3D%20L.tileLayer%28%0A%20%20%20%20%20%20%20%20%20%20%20%20%20%20%20%20%22https%3A//%7Bs%7D.tile.openstreetmap.org/%7Bz%7D/%7Bx%7D/%7By%7D.png%22%2C%0A%20%20%20%20%20%20%20%20%20%20%20%20%20%20%20%20%7B%22attribution%22%3A%20%22Data%20by%20%5Cu0026copy%3B%20%5Cu003ca%20href%3D%5C%22http%3A//openstreetmap.org%5C%22%5Cu003eOpenStreetMap%5Cu003c/a%5Cu003e%2C%20under%20%5Cu003ca%20href%3D%5C%22http%3A//www.openstreetmap.org/copyright%5C%22%5Cu003eODbL%5Cu003c/a%5Cu003e.%22%2C%20%22detectRetina%22%3A%20false%2C%20%22maxNativeZoom%22%3A%2018%2C%20%22maxZoom%22%3A%2018%2C%20%22minZoom%22%3A%200%2C%20%22noWrap%22%3A%20false%2C%20%22opacity%22%3A%201%2C%20%22subdomains%22%3A%20%22abc%22%2C%20%22tms%22%3A%20false%7D%0A%20%20%20%20%20%20%20%20%20%20%20%20%29.addTo%28map_af0f37553989406fa15adf20abdf6a40%29%3B%0A%20%20%20%20%20%20%20%20%0A%20%20%20%20%0A%20%20%20%20%20%20%20%20%20%20%20%20var%20circle_marker_cf8cbcf87dc543eb959c48527d6f255e%20%3D%20L.circleMarker%28%0A%20%20%20%20%20%20%20%20%20%20%20%20%20%20%20%20%5B43.658868%2C%20-79.383807%5D%2C%0A%20%20%20%20%20%20%20%20%20%20%20%20%20%20%20%20%7B%22bubblingMouseEvents%22%3A%20true%2C%20%22color%22%3A%20%22%23000080%22%2C%20%22dashArray%22%3A%20null%2C%20%22dashOffset%22%3A%20null%2C%20%22fill%22%3A%20true%2C%20%22fillColor%22%3A%20%22%23000080%22%2C%20%22fillOpacity%22%3A%200.7%2C%20%22fillRule%22%3A%20%22evenodd%22%2C%20%22lineCap%22%3A%20%22round%22%2C%20%22lineJoin%22%3A%20%22round%22%2C%20%22opacity%22%3A%201.0%2C%20%22radius%22%3A%205%2C%20%22stroke%22%3A%20true%2C%20%22weight%22%3A%203%7D%0A%20%20%20%20%20%20%20%20%20%20%20%20%29.addTo%28map_af0f37553989406fa15adf20abdf6a40%29%3B%0A%20%20%20%20%20%20%20%20%0A%20%20%20%20%0A%20%20%20%20%20%20%20%20var%20popup_6d786951d817403986fd8bd88ea0a2bc%20%3D%20L.popup%28%7B%22maxWidth%22%3A%20%22100%25%22%7D%29%3B%0A%0A%20%20%20%20%20%20%20%20%0A%20%20%20%20%20%20%20%20%20%20%20%20var%20html_c5b334d3c6bb473a8d3058dad4c492b6%20%3D%20%24%28%60%3Cdiv%20id%3D%22html_c5b334d3c6bb473a8d3058dad4c492b6%22%20style%3D%22width%3A%20100.0%25%3B%20height%3A%20100.0%25%3B%22%3EHailed%20Coffee%3Cbr%3ECluster%201%3C/div%3E%60%29%5B0%5D%3B%0A%20%20%20%20%20%20%20%20%20%20%20%20popup_6d786951d817403986fd8bd88ea0a2bc.setContent%28html_c5b334d3c6bb473a8d3058dad4c492b6%29%3B%0A%20%20%20%20%20%20%20%20%0A%0A%20%20%20%20%20%20%20%20circle_marker_cf8cbcf87dc543eb959c48527d6f255e.bindPopup%28popup_6d786951d817403986fd8bd88ea0a2bc%29%0A%20%20%20%20%20%20%20%20%3B%0A%0A%20%20%20%20%20%20%20%20%0A%20%20%20%20%0A%20%20%20%20%0A%20%20%20%20%20%20%20%20%20%20%20%20var%20circle_marker_25fc48e9412046968a661a18b4021731%20%3D%20L.circleMarker%28%0A%20%20%20%20%20%20%20%20%20%20%20%20%20%20%20%20%5B43.665827%2C%20-79.385383%5D%2C%0A%20%20%20%20%20%20%20%20%20%20%20%20%20%20%20%20%7B%22bubblingMouseEvents%22%3A%20true%2C%20%22color%22%3A%20%22%23000080%22%2C%20%22dashArray%22%3A%20null%2C%20%22dashOffset%22%3A%20null%2C%20%22fill%22%3A%20true%2C%20%22fillColor%22%3A%20%22%23000080%22%2C%20%22fillOpacity%22%3A%200.7%2C%20%22fillRule%22%3A%20%22evenodd%22%2C%20%22lineCap%22%3A%20%22round%22%2C%20%22lineJoin%22%3A%20%22round%22%2C%20%22opacity%22%3A%201.0%2C%20%22radius%22%3A%205%2C%20%22stroke%22%3A%20true%2C%20%22weight%22%3A%203%7D%0A%20%20%20%20%20%20%20%20%20%20%20%20%29.addTo%28map_af0f37553989406fa15adf20abdf6a40%29%3B%0A%20%20%20%20%20%20%20%20%0A%20%20%20%20%0A%20%20%20%20%20%20%20%20var%20popup_d2f0fed5cde24a53a37c3cc446599bc2%20%3D%20L.popup%28%7B%22maxWidth%22%3A%20%22100%25%22%7D%29%3B%0A%0A%20%20%20%20%20%20%20%20%0A%20%20%20%20%20%20%20%20%20%20%20%20var%20html_e296c23720814fca96a6ac6671c170b1%20%3D%20%24%28%60%3Cdiv%20id%3D%22html_e296c23720814fca96a6ac6671c170b1%22%20style%3D%22width%3A%20100.0%25%3B%20height%3A%20100.0%25%3B%22%3EThe%20Alley%3Cbr%3ECluster%201%3C/div%3E%60%29%5B0%5D%3B%0A%20%20%20%20%20%20%20%20%20%20%20%20popup_d2f0fed5cde24a53a37c3cc446599bc2.setContent%28html_e296c23720814fca96a6ac6671c170b1%29%3B%0A%20%20%20%20%20%20%20%20%0A%0A%20%20%20%20%20%20%20%20circle_marker_25fc48e9412046968a661a18b4021731.bindPopup%28popup_d2f0fed5cde24a53a37c3cc446599bc2%29%0A%20%20%20%20%20%20%20%20%3B%0A%0A%20%20%20%20%20%20%20%20%0A%20%20%20%20%0A%20%20%20%20%0A%20%20%20%20%20%20%20%20%20%20%20%20var%20circle_marker_b09c5539cef14367aff1816755eeebad%20%3D%20L.circleMarker%28%0A%20%20%20%20%20%20%20%20%20%20%20%20%20%20%20%20%5B43.650271%2C%20-79.388563%5D%2C%0A%20%20%20%20%20%20%20%20%20%20%20%20%20%20%20%20%7B%22bubblingMouseEvents%22%3A%20true%2C%20%22color%22%3A%20%22%23000080%22%2C%20%22dashArray%22%3A%20null%2C%20%22dashOffset%22%3A%20null%2C%20%22fill%22%3A%20true%2C%20%22fillColor%22%3A%20%22%23000080%22%2C%20%22fillOpacity%22%3A%200.7%2C%20%22fillRule%22%3A%20%22evenodd%22%2C%20%22lineCap%22%3A%20%22round%22%2C%20%22lineJoin%22%3A%20%22round%22%2C%20%22opacity%22%3A%201.0%2C%20%22radius%22%3A%205%2C%20%22stroke%22%3A%20true%2C%20%22weight%22%3A%203%7D%0A%20%20%20%20%20%20%20%20%20%20%20%20%29.addTo%28map_af0f37553989406fa15adf20abdf6a40%29%3B%0A%20%20%20%20%20%20%20%20%0A%20%20%20%20%0A%20%20%20%20%20%20%20%20var%20popup_57e1b2de117d454f8d00911223027a46%20%3D%20L.popup%28%7B%22maxWidth%22%3A%20%22100%25%22%7D%29%3B%0A%0A%20%20%20%20%20%20%20%20%0A%20%20%20%20%20%20%20%20%20%20%20%20var%20html_62e210ae7ff9495d9bf72f6e2e8b7041%20%3D%20%24%28%60%3Cdiv%20id%3D%22html_62e210ae7ff9495d9bf72f6e2e8b7041%22%20style%3D%22width%3A%20100.0%25%3B%20height%3A%20100.0%25%3B%22%3EHotBlack%20Coffee%3Cbr%3ECluster%201%3C/div%3E%60%29%5B0%5D%3B%0A%20%20%20%20%20%20%20%20%20%20%20%20popup_57e1b2de117d454f8d00911223027a46.setContent%28html_62e210ae7ff9495d9bf72f6e2e8b7041%29%3B%0A%20%20%20%20%20%20%20%20%0A%0A%20%20%20%20%20%20%20%20circle_marker_b09c5539cef14367aff1816755eeebad.bindPopup%28popup_57e1b2de117d454f8d00911223027a46%29%0A%20%20%20%20%20%20%20%20%3B%0A%0A%20%20%20%20%20%20%20%20%0A%20%20%20%20%0A%20%20%20%20%0A%20%20%20%20%20%20%20%20%20%20%20%20var%20circle_marker_58a3177ccc9c4f708aa48e1be211f35e%20%3D%20L.circleMarker%28%0A%20%20%20%20%20%20%20%20%20%20%20%20%20%20%20%20%5B43.652416%2C%20-79.372916%5D%2C%0A%20%20%20%20%20%20%20%20%20%20%20%20%20%20%20%20%7B%22bubblingMouseEvents%22%3A%20true%2C%20%22color%22%3A%20%22%23000080%22%2C%20%22dashArray%22%3A%20null%2C%20%22dashOffset%22%3A%20null%2C%20%22fill%22%3A%20true%2C%20%22fillColor%22%3A%20%22%23000080%22%2C%20%22fillOpacity%22%3A%200.7%2C%20%22fillRule%22%3A%20%22evenodd%22%2C%20%22lineCap%22%3A%20%22round%22%2C%20%22lineJoin%22%3A%20%22round%22%2C%20%22opacity%22%3A%201.0%2C%20%22radius%22%3A%205%2C%20%22stroke%22%3A%20true%2C%20%22weight%22%3A%203%7D%0A%20%20%20%20%20%20%20%20%20%20%20%20%29.addTo%28map_af0f37553989406fa15adf20abdf6a40%29%3B%0A%20%20%20%20%20%20%20%20%0A%20%20%20%20%0A%20%20%20%20%20%20%20%20var%20popup_e2bdee1eddef45da8d0fa45c67cc3af5%20%3D%20L.popup%28%7B%22maxWidth%22%3A%20%22100%25%22%7D%29%3B%0A%0A%20%20%20%20%20%20%20%20%0A%20%20%20%20%20%20%20%20%20%20%20%20var%20html_189b86b630814db3b09b9a037d87f6fc%20%3D%20%24%28%60%3Cdiv%20id%3D%22html_189b86b630814db3b09b9a037d87f6fc%22%20style%3D%22width%3A%20100.0%25%3B%20height%3A%20100.0%25%3B%22%3EFahrenheit%20Coffee%3Cbr%3ECluster%201%3C/div%3E%60%29%5B0%5D%3B%0A%20%20%20%20%20%20%20%20%20%20%20%20popup_e2bdee1eddef45da8d0fa45c67cc3af5.setContent%28html_189b86b630814db3b09b9a037d87f6fc%29%3B%0A%20%20%20%20%20%20%20%20%0A%0A%20%20%20%20%20%20%20%20circle_marker_58a3177ccc9c4f708aa48e1be211f35e.bindPopup%28popup_e2bdee1eddef45da8d0fa45c67cc3af5%29%0A%20%20%20%20%20%20%20%20%3B%0A%0A%20%20%20%20%20%20%20%20%0A%20%20%20%20%0A%20%20%20%20%0A%20%20%20%20%20%20%20%20%20%20%20%20var%20circle_marker_d5b13110fa444d47b39f5d866480936a%20%3D%20L.circleMarker%28%0A%20%20%20%20%20%20%20%20%20%20%20%20%20%20%20%20%5B43.651132%2C%20-79.379023%5D%2C%0A%20%20%20%20%20%20%20%20%20%20%20%20%20%20%20%20%7B%22bubblingMouseEvents%22%3A%20true%2C%20%22color%22%3A%20%22%23000080%22%2C%20%22dashArray%22%3A%20null%2C%20%22dashOffset%22%3A%20null%2C%20%22fill%22%3A%20true%2C%20%22fillColor%22%3A%20%22%23000080%22%2C%20%22fillOpacity%22%3A%200.7%2C%20%22fillRule%22%3A%20%22evenodd%22%2C%20%22lineCap%22%3A%20%22round%22%2C%20%22lineJoin%22%3A%20%22round%22%2C%20%22opacity%22%3A%201.0%2C%20%22radius%22%3A%205%2C%20%22stroke%22%3A%20true%2C%20%22weight%22%3A%203%7D%0A%20%20%20%20%20%20%20%20%20%20%20%20%29.addTo%28map_af0f37553989406fa15adf20abdf6a40%29%3B%0A%20%20%20%20%20%20%20%20%0A%20%20%20%20%0A%20%20%20%20%20%20%20%20var%20popup_0acab675f8b64c1babe0e95cf85d6436%20%3D%20L.popup%28%7B%22maxWidth%22%3A%20%22100%25%22%7D%29%3B%0A%0A%20%20%20%20%20%20%20%20%0A%20%20%20%20%20%20%20%20%20%20%20%20var%20html_dfed6535690b4c95930c6d3eb08d8699%20%3D%20%24%28%60%3Cdiv%20id%3D%22html_dfed6535690b4c95930c6d3eb08d8699%22%20style%3D%22width%3A%20100.0%25%3B%20height%3A%20100.0%25%3B%22%3EDineen%20Coffee%20Co%3Cbr%3ECluster%201%3C/div%3E%60%29%5B0%5D%3B%0A%20%20%20%20%20%20%20%20%20%20%20%20popup_0acab675f8b64c1babe0e95cf85d6436.setContent%28html_dfed6535690b4c95930c6d3eb08d8699%29%3B%0A%20%20%20%20%20%20%20%20%0A%0A%20%20%20%20%20%20%20%20circle_marker_d5b13110fa444d47b39f5d866480936a.bindPopup%28popup_0acab675f8b64c1babe0e95cf85d6436%29%0A%20%20%20%20%20%20%20%20%3B%0A%0A%20%20%20%20%20%20%20%20%0A%20%20%20%20%0A%20%20%20%20%0A%20%20%20%20%20%20%20%20%20%20%20%20var%20circle_marker_fb8a831c1e8641ed8079a8ec665fb91d%20%3D%20L.circleMarker%28%0A%20%20%20%20%20%20%20%20%20%20%20%20%20%20%20%20%5B43.648724%2C%20-79.385137%5D%2C%0A%20%20%20%20%20%20%20%20%20%20%20%20%20%20%20%20%7B%22bubblingMouseEvents%22%3A%20true%2C%20%22color%22%3A%20%22%23000080%22%2C%20%22dashArray%22%3A%20null%2C%20%22dashOffset%22%3A%20null%2C%20%22fill%22%3A%20true%2C%20%22fillColor%22%3A%20%22%23000080%22%2C%20%22fillOpacity%22%3A%200.7%2C%20%22fillRule%22%3A%20%22evenodd%22%2C%20%22lineCap%22%3A%20%22round%22%2C%20%22lineJoin%22%3A%20%22round%22%2C%20%22opacity%22%3A%201.0%2C%20%22radius%22%3A%205%2C%20%22stroke%22%3A%20true%2C%20%22weight%22%3A%203%7D%0A%20%20%20%20%20%20%20%20%20%20%20%20%29.addTo%28map_af0f37553989406fa15adf20abdf6a40%29%3B%0A%20%20%20%20%20%20%20%20%0A%20%20%20%20%0A%20%20%20%20%20%20%20%20var%20popup_c9efb1b6dacf478db4b6a457abea1068%20%3D%20L.popup%28%7B%22maxWidth%22%3A%20%22100%25%22%7D%29%3B%0A%0A%20%20%20%20%20%20%20%20%0A%20%20%20%20%20%20%20%20%20%20%20%20var%20html_d4e40a06b4334dadb60dda92ca8b7f07%20%3D%20%24%28%60%3Cdiv%20id%3D%22html_d4e40a06b4334dadb60dda92ca8b7f07%22%20style%3D%22width%3A%20100.0%25%3B%20height%3A%20100.0%25%3B%22%3ECafe%20Landwer%3Cbr%3ECluster%201%3C/div%3E%60%29%5B0%5D%3B%0A%20%20%20%20%20%20%20%20%20%20%20%20popup_c9efb1b6dacf478db4b6a457abea1068.setContent%28html_d4e40a06b4334dadb60dda92ca8b7f07%29%3B%0A%20%20%20%20%20%20%20%20%0A%0A%20%20%20%20%20%20%20%20circle_marker_fb8a831c1e8641ed8079a8ec665fb91d.bindPopup%28popup_c9efb1b6dacf478db4b6a457abea1068%29%0A%20%20%20%20%20%20%20%20%3B%0A%0A%20%20%20%20%20%20%20%20%0A%20%20%20%20%0A%20%20%20%20%0A%20%20%20%20%20%20%20%20%20%20%20%20var%20circle_marker_e402aa147f684621a9359acf6db3f182%20%3D%20L.circleMarker%28%0A%20%20%20%20%20%20%20%20%20%20%20%20%20%20%20%20%5B43.656009%2C%20-79.409254%5D%2C%0A%20%20%20%20%20%20%20%20%20%20%20%20%20%20%20%20%7B%22bubblingMouseEvents%22%3A%20true%2C%20%22color%22%3A%20%22%23000080%22%2C%20%22dashArray%22%3A%20null%2C%20%22dashOffset%22%3A%20null%2C%20%22fill%22%3A%20true%2C%20%22fillColor%22%3A%20%22%23000080%22%2C%20%22fillOpacity%22%3A%200.7%2C%20%22fillRule%22%3A%20%22evenodd%22%2C%20%22lineCap%22%3A%20%22round%22%2C%20%22lineJoin%22%3A%20%22round%22%2C%20%22opacity%22%3A%201.0%2C%20%22radius%22%3A%205%2C%20%22stroke%22%3A%20true%2C%20%22weight%22%3A%203%7D%0A%20%20%20%20%20%20%20%20%20%20%20%20%29.addTo%28map_af0f37553989406fa15adf20abdf6a40%29%3B%0A%20%20%20%20%20%20%20%20%0A%20%20%20%20%0A%20%20%20%20%20%20%20%20var%20popup_60aa46d94bc848bfbbc910b370094ec6%20%3D%20L.popup%28%7B%22maxWidth%22%3A%20%22100%25%22%7D%29%3B%0A%0A%20%20%20%20%20%20%20%20%0A%20%20%20%20%20%20%20%20%20%20%20%20var%20html_4a9a37df313b418ea63c4f1a7f9c7071%20%3D%20%24%28%60%3Cdiv%20id%3D%22html_4a9a37df313b418ea63c4f1a7f9c7071%22%20style%3D%22width%3A%20100.0%25%3B%20height%3A%20100.0%25%3B%22%3ESnakes%20%26%20Lattes%20College%3Cbr%3ECluster%201%3C/div%3E%60%29%5B0%5D%3B%0A%20%20%20%20%20%20%20%20%20%20%20%20popup_60aa46d94bc848bfbbc910b370094ec6.setContent%28html_4a9a37df313b418ea63c4f1a7f9c7071%29%3B%0A%20%20%20%20%20%20%20%20%0A%0A%20%20%20%20%20%20%20%20circle_marker_e402aa147f684621a9359acf6db3f182.bindPopup%28popup_60aa46d94bc848bfbbc910b370094ec6%29%0A%20%20%20%20%20%20%20%20%3B%0A%0A%20%20%20%20%20%20%20%20%0A%20%20%20%20%0A%20%20%20%20%0A%20%20%20%20%20%20%20%20%20%20%20%20var%20circle_marker_218dca0aebca44eba4df2d953f5bbbc3%20%3D%20L.circleMarker%28%0A%20%20%20%20%20%20%20%20%20%20%20%20%20%20%20%20%5B43.650673%2C%20-79.369086%5D%2C%0A%20%20%20%20%20%20%20%20%20%20%20%20%20%20%20%20%7B%22bubblingMouseEvents%22%3A%20true%2C%20%22color%22%3A%20%22%23000080%22%2C%20%22dashArray%22%3A%20null%2C%20%22dashOffset%22%3A%20null%2C%20%22fill%22%3A%20true%2C%20%22fillColor%22%3A%20%22%23000080%22%2C%20%22fillOpacity%22%3A%200.7%2C%20%22fillRule%22%3A%20%22evenodd%22%2C%20%22lineCap%22%3A%20%22round%22%2C%20%22lineJoin%22%3A%20%22round%22%2C%20%22opacity%22%3A%201.0%2C%20%22radius%22%3A%205%2C%20%22stroke%22%3A%20true%2C%20%22weight%22%3A%203%7D%0A%20%20%20%20%20%20%20%20%20%20%20%20%29.addTo%28map_af0f37553989406fa15adf20abdf6a40%29%3B%0A%20%20%20%20%20%20%20%20%0A%20%20%20%20%0A%20%20%20%20%20%20%20%20var%20popup_ab48ca1c75c64e9580dd8818616282ea%20%3D%20L.popup%28%7B%22maxWidth%22%3A%20%22100%25%22%7D%29%3B%0A%0A%20%20%20%20%20%20%20%20%0A%20%20%20%20%20%20%20%20%20%20%20%20var%20html_21686e593aee47148f4d2fde9b4a4d66%20%3D%20%24%28%60%3Cdiv%20id%3D%22html_21686e593aee47148f4d2fde9b4a4d66%22%20style%3D%22width%3A%20100.0%25%3B%20height%3A%20100.0%25%3B%22%3ENeo%20Coffee%20Bar%3Cbr%3ECluster%201%3C/div%3E%60%29%5B0%5D%3B%0A%20%20%20%20%20%20%20%20%20%20%20%20popup_ab48ca1c75c64e9580dd8818616282ea.setContent%28html_21686e593aee47148f4d2fde9b4a4d66%29%3B%0A%20%20%20%20%20%20%20%20%0A%0A%20%20%20%20%20%20%20%20circle_marker_218dca0aebca44eba4df2d953f5bbbc3.bindPopup%28popup_ab48ca1c75c64e9580dd8818616282ea%29%0A%20%20%20%20%20%20%20%20%3B%0A%0A%20%20%20%20%20%20%20%20%0A%20%20%20%20%0A%20%20%20%20%0A%20%20%20%20%20%20%20%20%20%20%20%20var%20circle_marker_0400be9653134d02b1a38052b20fe3a0%20%3D%20L.circleMarker%28%0A%20%20%20%20%20%20%20%20%20%20%20%20%20%20%20%20%5B43.669645%2C%20-79.379958%5D%2C%0A%20%20%20%20%20%20%20%20%20%20%20%20%20%20%20%20%7B%22bubblingMouseEvents%22%3A%20true%2C%20%22color%22%3A%20%22%23000080%22%2C%20%22dashArray%22%3A%20null%2C%20%22dashOffset%22%3A%20null%2C%20%22fill%22%3A%20true%2C%20%22fillColor%22%3A%20%22%23000080%22%2C%20%22fillOpacity%22%3A%200.7%2C%20%22fillRule%22%3A%20%22evenodd%22%2C%20%22lineCap%22%3A%20%22round%22%2C%20%22lineJoin%22%3A%20%22round%22%2C%20%22opacity%22%3A%201.0%2C%20%22radius%22%3A%205%2C%20%22stroke%22%3A%20true%2C%20%22weight%22%3A%203%7D%0A%20%20%20%20%20%20%20%20%20%20%20%20%29.addTo%28map_af0f37553989406fa15adf20abdf6a40%29%3B%0A%20%20%20%20%20%20%20%20%0A%20%20%20%20%0A%20%20%20%20%20%20%20%20var%20popup_72d92ff00f4145b3bf306cddd3ba461b%20%3D%20L.popup%28%7B%22maxWidth%22%3A%20%22100%25%22%7D%29%3B%0A%0A%20%20%20%20%20%20%20%20%0A%20%20%20%20%20%20%20%20%20%20%20%20var%20html_fdde0eccbe224610a518c9d2d9f5ac82%20%3D%20%24%28%60%3Cdiv%20id%3D%22html_fdde0eccbe224610a518c9d2d9f5ac82%22%20style%3D%22width%3A%20100.0%25%3B%20height%3A%20100.0%25%3B%22%3ERooster%20Coffee%20House%3Cbr%3ECluster%201%3C/div%3E%60%29%5B0%5D%3B%0A%20%20%20%20%20%20%20%20%20%20%20%20popup_72d92ff00f4145b3bf306cddd3ba461b.setContent%28html_fdde0eccbe224610a518c9d2d9f5ac82%29%3B%0A%20%20%20%20%20%20%20%20%0A%0A%20%20%20%20%20%20%20%20circle_marker_0400be9653134d02b1a38052b20fe3a0.bindPopup%28popup_72d92ff00f4145b3bf306cddd3ba461b%29%0A%20%20%20%20%20%20%20%20%3B%0A%0A%20%20%20%20%20%20%20%20%0A%20%20%20%20%0A%20%20%20%20%0A%20%20%20%20%20%20%20%20%20%20%20%20var%20circle_marker_2fb995b745d54cc9bc5cc5f264f08518%20%3D%20L.circleMarker%28%0A%20%20%20%20%20%20%20%20%20%20%20%20%20%20%20%20%5B43.653597%2C%20-79.362024%5D%2C%0A%20%20%20%20%20%20%20%20%20%20%20%20%20%20%20%20%7B%22bubblingMouseEvents%22%3A%20true%2C%20%22color%22%3A%20%22%23000080%22%2C%20%22dashArray%22%3A%20null%2C%20%22dashOffset%22%3A%20null%2C%20%22fill%22%3A%20true%2C%20%22fillColor%22%3A%20%22%23000080%22%2C%20%22fillOpacity%22%3A%200.7%2C%20%22fillRule%22%3A%20%22evenodd%22%2C%20%22lineCap%22%3A%20%22round%22%2C%20%22lineJoin%22%3A%20%22round%22%2C%20%22opacity%22%3A%201.0%2C%20%22radius%22%3A%205%2C%20%22stroke%22%3A%20true%2C%20%22weight%22%3A%203%7D%0A%20%20%20%20%20%20%20%20%20%20%20%20%29.addTo%28map_af0f37553989406fa15adf20abdf6a40%29%3B%0A%20%20%20%20%20%20%20%20%0A%20%20%20%20%0A%20%20%20%20%20%20%20%20var%20popup_1d416204ae1f44d4916db02db1c28b90%20%3D%20L.popup%28%7B%22maxWidth%22%3A%20%22100%25%22%7D%29%3B%0A%0A%20%20%20%20%20%20%20%20%0A%20%20%20%20%20%20%20%20%20%20%20%20var%20html_c234b69664e74ba396dd64a2bacfc234%20%3D%20%24%28%60%3Cdiv%20id%3D%22html_c234b69664e74ba396dd64a2bacfc234%22%20style%3D%22width%3A%20100.0%25%3B%20height%3A%20100.0%25%3B%22%3ETandem%20Coffee%3Cbr%3ECluster%201%3C/div%3E%60%29%5B0%5D%3B%0A%20%20%20%20%20%20%20%20%20%20%20%20popup_1d416204ae1f44d4916db02db1c28b90.setContent%28html_c234b69664e74ba396dd64a2bacfc234%29%3B%0A%20%20%20%20%20%20%20%20%0A%0A%20%20%20%20%20%20%20%20circle_marker_2fb995b745d54cc9bc5cc5f264f08518.bindPopup%28popup_1d416204ae1f44d4916db02db1c28b90%29%0A%20%20%20%20%20%20%20%20%3B%0A%0A%20%20%20%20%20%20%20%20%0A%20%20%20%20%0A%20%20%20%20%0A%20%20%20%20%20%20%20%20%20%20%20%20var%20circle_marker_478167e55fc74fccbf2ddbfc9b00ab9a%20%3D%20L.circleMarker%28%0A%20%20%20%20%20%20%20%20%20%20%20%20%20%20%20%20%5B43.649831%2C%20-79.361332%5D%2C%0A%20%20%20%20%20%20%20%20%20%20%20%20%20%20%20%20%7B%22bubblingMouseEvents%22%3A%20true%2C%20%22color%22%3A%20%22%23000080%22%2C%20%22dashArray%22%3A%20null%2C%20%22dashOffset%22%3A%20null%2C%20%22fill%22%3A%20true%2C%20%22fillColor%22%3A%20%22%23000080%22%2C%20%22fillOpacity%22%3A%200.7%2C%20%22fillRule%22%3A%20%22evenodd%22%2C%20%22lineCap%22%3A%20%22round%22%2C%20%22lineJoin%22%3A%20%22round%22%2C%20%22opacity%22%3A%201.0%2C%20%22radius%22%3A%205%2C%20%22stroke%22%3A%20true%2C%20%22weight%22%3A%203%7D%0A%20%20%20%20%20%20%20%20%20%20%20%20%29.addTo%28map_af0f37553989406fa15adf20abdf6a40%29%3B%0A%20%20%20%20%20%20%20%20%0A%20%20%20%20%0A%20%20%20%20%20%20%20%20var%20popup_516c60c1994146b2ba007ce4bb3d616c%20%3D%20L.popup%28%7B%22maxWidth%22%3A%20%22100%25%22%7D%29%3B%0A%0A%20%20%20%20%20%20%20%20%0A%20%20%20%20%20%20%20%20%20%20%20%20var%20html_0132f38a2c5848eab7235b3aaaddb9dd%20%3D%20%24%28%60%3Cdiv%20id%3D%22html_0132f38a2c5848eab7235b3aaaddb9dd%22%20style%3D%22width%3A%20100.0%25%3B%20height%3A%20100.0%25%3B%22%3EArvo%20Coffee%3Cbr%3ECluster%201%3C/div%3E%60%29%5B0%5D%3B%0A%20%20%20%20%20%20%20%20%20%20%20%20popup_516c60c1994146b2ba007ce4bb3d616c.setContent%28html_0132f38a2c5848eab7235b3aaaddb9dd%29%3B%0A%20%20%20%20%20%20%20%20%0A%0A%20%20%20%20%20%20%20%20circle_marker_478167e55fc74fccbf2ddbfc9b00ab9a.bindPopup%28popup_516c60c1994146b2ba007ce4bb3d616c%29%0A%20%20%20%20%20%20%20%20%3B%0A%0A%20%20%20%20%20%20%20%20%0A%20%20%20%20%0A%20%20%20%20%0A%20%20%20%20%20%20%20%20%20%20%20%20var%20circle_marker_08d48bfc6e014e82a043d727770d8cee%20%3D%20L.circleMarker%28%0A%20%20%20%20%20%20%20%20%20%20%20%20%20%20%20%20%5B43.66893%2C%20-79.426097%5D%2C%0A%20%20%20%20%20%20%20%20%20%20%20%20%20%20%20%20%7B%22bubblingMouseEvents%22%3A%20true%2C%20%22color%22%3A%20%22red%22%2C%20%22dashArray%22%3A%20null%2C%20%22dashOffset%22%3A%20null%2C%20%22fill%22%3A%20true%2C%20%22fillColor%22%3A%20%22red%22%2C%20%22fillOpacity%22%3A%200.7%2C%20%22fillRule%22%3A%20%22evenodd%22%2C%20%22lineCap%22%3A%20%22round%22%2C%20%22lineJoin%22%3A%20%22round%22%2C%20%22opacity%22%3A%201.0%2C%20%22radius%22%3A%205%2C%20%22stroke%22%3A%20true%2C%20%22weight%22%3A%203%7D%0A%20%20%20%20%20%20%20%20%20%20%20%20%29.addTo%28map_af0f37553989406fa15adf20abdf6a40%29%3B%0A%20%20%20%20%20%20%20%20%0A%20%20%20%20%0A%20%20%20%20%20%20%20%20var%20popup_a4d9d8fd474649298be929d4bcbfe006%20%3D%20L.popup%28%7B%22maxWidth%22%3A%20%22100%25%22%7D%29%3B%0A%0A%20%20%20%20%20%20%20%20%0A%20%20%20%20%20%20%20%20%20%20%20%20var%20html_dced0d964be847dc88133ae6ae166c9f%20%3D%20%24%28%60%3Cdiv%20id%3D%22html_dced0d964be847dc88133ae6ae166c9f%22%20style%3D%22width%3A%20100.0%25%3B%20height%3A%20100.0%25%3B%22%3EContra%20Cafe%3C/div%3E%60%29%5B0%5D%3B%0A%20%20%20%20%20%20%20%20%20%20%20%20popup_a4d9d8fd474649298be929d4bcbfe006.setContent%28html_dced0d964be847dc88133ae6ae166c9f%29%3B%0A%20%20%20%20%20%20%20%20%0A%0A%20%20%20%20%20%20%20%20circle_marker_08d48bfc6e014e82a043d727770d8cee.bindPopup%28popup_a4d9d8fd474649298be929d4bcbfe006%29%0A%20%20%20%20%20%20%20%20%3B%0A%0A%20%20%20%20%20%20%20%20%0A%20%20%20%20%0A%20%20%20%20%0A%20%20%20%20%20%20%20%20%20%20%20%20var%20circle_marker_fa12c55e203f43b1ae06d32920d1e2ee%20%3D%20L.circleMarker%28%0A%20%20%20%20%20%20%20%20%20%20%20%20%20%20%20%20%5B43.651961%2C%20-79.368356%5D%2C%0A%20%20%20%20%20%20%20%20%20%20%20%20%20%20%20%20%7B%22bubblingMouseEvents%22%3A%20true%2C%20%22color%22%3A%20%22%23000080%22%2C%20%22dashArray%22%3A%20null%2C%20%22dashOffset%22%3A%20null%2C%20%22fill%22%3A%20true%2C%20%22fillColor%22%3A%20%22%23000080%22%2C%20%22fillOpacity%22%3A%200.7%2C%20%22fillRule%22%3A%20%22evenodd%22%2C%20%22lineCap%22%3A%20%22round%22%2C%20%22lineJoin%22%3A%20%22round%22%2C%20%22opacity%22%3A%201.0%2C%20%22radius%22%3A%205%2C%20%22stroke%22%3A%20true%2C%20%22weight%22%3A%203%7D%0A%20%20%20%20%20%20%20%20%20%20%20%20%29.addTo%28map_af0f37553989406fa15adf20abdf6a40%29%3B%0A%20%20%20%20%20%20%20%20%0A%20%20%20%20%0A%20%20%20%20%20%20%20%20var%20popup_291ac8d67b944a73844a30e7fd4f3b47%20%3D%20L.popup%28%7B%22maxWidth%22%3A%20%22100%25%22%7D%29%3B%0A%0A%20%20%20%20%20%20%20%20%0A%20%20%20%20%20%20%20%20%20%20%20%20var%20html_9afe9268e31741458825e3c98c5aae13%20%3D%20%24%28%60%3Cdiv%20id%3D%22html_9afe9268e31741458825e3c98c5aae13%22%20style%3D%22width%3A%20100.0%25%3B%20height%3A%20100.0%25%3B%22%3EThe%20Black%20Canary%20Espresso%20Bar%3Cbr%3ECluster%201%3C/div%3E%60%29%5B0%5D%3B%0A%20%20%20%20%20%20%20%20%20%20%20%20popup_291ac8d67b944a73844a30e7fd4f3b47.setContent%28html_9afe9268e31741458825e3c98c5aae13%29%3B%0A%20%20%20%20%20%20%20%20%0A%0A%20%20%20%20%20%20%20%20circle_marker_fa12c55e203f43b1ae06d32920d1e2ee.bindPopup%28popup_291ac8d67b944a73844a30e7fd4f3b47%29%0A%20%20%20%20%20%20%20%20%3B%0A%0A%20%20%20%20%20%20%20%20%0A%20%20%20%20%0A%20%20%20%20%0A%20%20%20%20%20%20%20%20%20%20%20%20var%20circle_marker_139b773473b54b1a8c2e3ee9afee76f2%20%3D%20L.circleMarker%28%0A%20%20%20%20%20%20%20%20%20%20%20%20%20%20%20%20%5B43.660733%2C%20-79.359603%5D%2C%0A%20%20%20%20%20%20%20%20%20%20%20%20%20%20%20%20%7B%22bubblingMouseEvents%22%3A%20true%2C%20%22color%22%3A%20%22%23000080%22%2C%20%22dashArray%22%3A%20null%2C%20%22dashOffset%22%3A%20null%2C%20%22fill%22%3A%20true%2C%20%22fillColor%22%3A%20%22%23000080%22%2C%20%22fillOpacity%22%3A%200.7%2C%20%22fillRule%22%3A%20%22evenodd%22%2C%20%22lineCap%22%3A%20%22round%22%2C%20%22lineJoin%22%3A%20%22round%22%2C%20%22opacity%22%3A%201.0%2C%20%22radius%22%3A%205%2C%20%22stroke%22%3A%20true%2C%20%22weight%22%3A%203%7D%0A%20%20%20%20%20%20%20%20%20%20%20%20%29.addTo%28map_af0f37553989406fa15adf20abdf6a40%29%3B%0A%20%20%20%20%20%20%20%20%0A%20%20%20%20%0A%20%20%20%20%20%20%20%20var%20popup_9cfba590766241eeba0904b780c3bda1%20%3D%20L.popup%28%7B%22maxWidth%22%3A%20%22100%25%22%7D%29%3B%0A%0A%20%20%20%20%20%20%20%20%0A%20%20%20%20%20%20%20%20%20%20%20%20var%20html_162a2d36222f4c8caa48102c927adfb4%20%3D%20%24%28%60%3Cdiv%20id%3D%22html_162a2d36222f4c8caa48102c927adfb4%22%20style%3D%22width%3A%20100.0%25%3B%20height%3A%20100.0%25%3B%22%3ELe%20Beau%3Cbr%3ECluster%201%3C/div%3E%60%29%5B0%5D%3B%0A%20%20%20%20%20%20%20%20%20%20%20%20popup_9cfba590766241eeba0904b780c3bda1.setContent%28html_162a2d36222f4c8caa48102c927adfb4%29%3B%0A%20%20%20%20%20%20%20%20%0A%0A%20%20%20%20%20%20%20%20circle_marker_139b773473b54b1a8c2e3ee9afee76f2.bindPopup%28popup_9cfba590766241eeba0904b780c3bda1%29%0A%20%20%20%20%20%20%20%20%3B%0A%0A%20%20%20%20%20%20%20%20%0A%20%20%20%20%0A%20%20%20%20%0A%20%20%20%20%20%20%20%20%20%20%20%20var%20circle_marker_11b8197e58e94b2d877b219f471fc29c%20%3D%20L.circleMarker%28%0A%20%20%20%20%20%20%20%20%20%20%20%20%20%20%20%20%5B43.659735%2C%20-79.347007%5D%2C%0A%20%20%20%20%20%20%20%20%20%20%20%20%20%20%20%20%7B%22bubblingMouseEvents%22%3A%20true%2C%20%22color%22%3A%20%22%23000080%22%2C%20%22dashArray%22%3A%20null%2C%20%22dashOffset%22%3A%20null%2C%20%22fill%22%3A%20true%2C%20%22fillColor%22%3A%20%22%23000080%22%2C%20%22fillOpacity%22%3A%200.7%2C%20%22fillRule%22%3A%20%22evenodd%22%2C%20%22lineCap%22%3A%20%22round%22%2C%20%22lineJoin%22%3A%20%22round%22%2C%20%22opacity%22%3A%201.0%2C%20%22radius%22%3A%205%2C%20%22stroke%22%3A%20true%2C%20%22weight%22%3A%203%7D%0A%20%20%20%20%20%20%20%20%20%20%20%20%29.addTo%28map_af0f37553989406fa15adf20abdf6a40%29%3B%0A%20%20%20%20%20%20%20%20%0A%20%20%20%20%0A%20%20%20%20%20%20%20%20var%20popup_6321e38f64874e69b228a9f8a81af595%20%3D%20L.popup%28%7B%22maxWidth%22%3A%20%22100%25%22%7D%29%3B%0A%0A%20%20%20%20%20%20%20%20%0A%20%20%20%20%20%20%20%20%20%20%20%20var%20html_e0808d053c6d4e21a81568f90d6776c7%20%3D%20%24%28%60%3Cdiv%20id%3D%22html_e0808d053c6d4e21a81568f90d6776c7%22%20style%3D%22width%3A%20100.0%25%3B%20height%3A%20100.0%25%3B%22%3EBoxcar%20Social%3Cbr%3ECluster%201%3C/div%3E%60%29%5B0%5D%3B%0A%20%20%20%20%20%20%20%20%20%20%20%20popup_6321e38f64874e69b228a9f8a81af595.setContent%28html_e0808d053c6d4e21a81568f90d6776c7%29%3B%0A%20%20%20%20%20%20%20%20%0A%0A%20%20%20%20%20%20%20%20circle_marker_11b8197e58e94b2d877b219f471fc29c.bindPopup%28popup_6321e38f64874e69b228a9f8a81af595%29%0A%20%20%20%20%20%20%20%20%3B%0A%0A%20%20%20%20%20%20%20%20%0A%20%20%20%20%0A%20%20%20%20%0A%20%20%20%20%20%20%20%20%20%20%20%20var%20circle_marker_8978f60827124f0a83eb766f7ee20cd8%20%3D%20L.circleMarker%28%0A%20%20%20%20%20%20%20%20%20%20%20%20%20%20%20%20%5B43.649769%2C%20-79.359079%5D%2C%0A%20%20%20%20%20%20%20%20%20%20%20%20%20%20%20%20%7B%22bubblingMouseEvents%22%3A%20true%2C%20%22color%22%3A%20%22%23000080%22%2C%20%22dashArray%22%3A%20null%2C%20%22dashOffset%22%3A%20null%2C%20%22fill%22%3A%20true%2C%20%22fillColor%22%3A%20%22%23000080%22%2C%20%22fillOpacity%22%3A%200.7%2C%20%22fillRule%22%3A%20%22evenodd%22%2C%20%22lineCap%22%3A%20%22round%22%2C%20%22lineJoin%22%3A%20%22round%22%2C%20%22opacity%22%3A%201.0%2C%20%22radius%22%3A%205%2C%20%22stroke%22%3A%20true%2C%20%22weight%22%3A%203%7D%0A%20%20%20%20%20%20%20%20%20%20%20%20%29.addTo%28map_af0f37553989406fa15adf20abdf6a40%29%3B%0A%20%20%20%20%20%20%20%20%0A%20%20%20%20%0A%20%20%20%20%20%20%20%20var%20popup_d79ef868163a415a9234e9862ae57aa5%20%3D%20L.popup%28%7B%22maxWidth%22%3A%20%22100%25%22%7D%29%3B%0A%0A%20%20%20%20%20%20%20%20%0A%20%20%20%20%20%20%20%20%20%20%20%20var%20html_ae292d0a8fe24d78866a118694bdbeb3%20%3D%20%24%28%60%3Cdiv%20id%3D%22html_ae292d0a8fe24d78866a118694bdbeb3%22%20style%3D%22width%3A%20100.0%25%3B%20height%3A%20100.0%25%3B%22%3EBalzac%27s%20Coffee%20Roastery%3Cbr%3ECluster%201%3C/div%3E%60%29%5B0%5D%3B%0A%20%20%20%20%20%20%20%20%20%20%20%20popup_d79ef868163a415a9234e9862ae57aa5.setContent%28html_ae292d0a8fe24d78866a118694bdbeb3%29%3B%0A%20%20%20%20%20%20%20%20%0A%0A%20%20%20%20%20%20%20%20circle_marker_8978f60827124f0a83eb766f7ee20cd8.bindPopup%28popup_d79ef868163a415a9234e9862ae57aa5%29%0A%20%20%20%20%20%20%20%20%3B%0A%0A%20%20%20%20%20%20%20%20%0A%20%20%20%20%0A%20%20%20%20%0A%20%20%20%20%20%20%20%20%20%20%20%20var%20circle_marker_48991aaa22574c8fa0960bb7b7fb9ee2%20%3D%20L.circleMarker%28%0A%20%20%20%20%20%20%20%20%20%20%20%20%20%20%20%20%5B43.645332%2C%20-79.412503%5D%2C%0A%20%20%20%20%20%20%20%20%20%20%20%20%20%20%20%20%7B%22bubblingMouseEvents%22%3A%20true%2C%20%22color%22%3A%20%22%23000080%22%2C%20%22dashArray%22%3A%20null%2C%20%22dashOffset%22%3A%20null%2C%20%22fill%22%3A%20true%2C%20%22fillColor%22%3A%20%22%23000080%22%2C%20%22fillOpacity%22%3A%200.7%2C%20%22fillRule%22%3A%20%22evenodd%22%2C%20%22lineCap%22%3A%20%22round%22%2C%20%22lineJoin%22%3A%20%22round%22%2C%20%22opacity%22%3A%201.0%2C%20%22radius%22%3A%205%2C%20%22stroke%22%3A%20true%2C%20%22weight%22%3A%203%7D%0A%20%20%20%20%20%20%20%20%20%20%20%20%29.addTo%28map_af0f37553989406fa15adf20abdf6a40%29%3B%0A%20%20%20%20%20%20%20%20%0A%20%20%20%20%0A%20%20%20%20%20%20%20%20var%20popup_4b237788e3ab4ec5b27f0151275605ea%20%3D%20L.popup%28%7B%22maxWidth%22%3A%20%22100%25%22%7D%29%3B%0A%0A%20%20%20%20%20%20%20%20%0A%20%20%20%20%20%20%20%20%20%20%20%20var%20html_fabdac9cab864971a8237eeb80f3f494%20%3D%20%24%28%60%3Cdiv%20id%3D%22html_fabdac9cab864971a8237eeb80f3f494%22%20style%3D%22width%3A%20100.0%25%3B%20height%3A%20100.0%25%3B%22%3EWhite%20Squirrel%20Coffee%20Shop%3Cbr%3ECluster%201%3C/div%3E%60%29%5B0%5D%3B%0A%20%20%20%20%20%20%20%20%20%20%20%20popup_4b237788e3ab4ec5b27f0151275605ea.setContent%28html_fabdac9cab864971a8237eeb80f3f494%29%3B%0A%20%20%20%20%20%20%20%20%0A%0A%20%20%20%20%20%20%20%20circle_marker_48991aaa22574c8fa0960bb7b7fb9ee2.bindPopup%28popup_4b237788e3ab4ec5b27f0151275605ea%29%0A%20%20%20%20%20%20%20%20%3B%0A%0A%20%20%20%20%20%20%20%20%0A%20%20%20%20%0A%20%20%20%20%0A%20%20%20%20%20%20%20%20%20%20%20%20var%20circle_marker_4dcd6e57c2c04aadb02d86114a95a69d%20%3D%20L.circleMarker%28%0A%20%20%20%20%20%20%20%20%20%20%20%20%20%20%20%20%5B43.646446%2C%20-79.397957%5D%2C%0A%20%20%20%20%20%20%20%20%20%20%20%20%20%20%20%20%7B%22bubblingMouseEvents%22%3A%20true%2C%20%22color%22%3A%20%22%23000080%22%2C%20%22dashArray%22%3A%20null%2C%20%22dashOffset%22%3A%20null%2C%20%22fill%22%3A%20true%2C%20%22fillColor%22%3A%20%22%23000080%22%2C%20%22fillOpacity%22%3A%200.7%2C%20%22fillRule%22%3A%20%22evenodd%22%2C%20%22lineCap%22%3A%20%22round%22%2C%20%22lineJoin%22%3A%20%22round%22%2C%20%22opacity%22%3A%201.0%2C%20%22radius%22%3A%205%2C%20%22stroke%22%3A%20true%2C%20%22weight%22%3A%203%7D%0A%20%20%20%20%20%20%20%20%20%20%20%20%29.addTo%28map_af0f37553989406fa15adf20abdf6a40%29%3B%0A%20%20%20%20%20%20%20%20%0A%20%20%20%20%0A%20%20%20%20%20%20%20%20var%20popup_f4bb3cd000a243e3a94f8196dec63038%20%3D%20L.popup%28%7B%22maxWidth%22%3A%20%22100%25%22%7D%29%3B%0A%0A%20%20%20%20%20%20%20%20%0A%20%20%20%20%20%20%20%20%20%20%20%20var%20html_093a42b495434e08b2025ac85afb5879%20%3D%20%24%28%60%3Cdiv%20id%3D%22html_093a42b495434e08b2025ac85afb5879%22%20style%3D%22width%3A%20100.0%25%3B%20height%3A%20100.0%25%3B%22%3EImpact%20Kitchen%3Cbr%3ECluster%201%3C/div%3E%60%29%5B0%5D%3B%0A%20%20%20%20%20%20%20%20%20%20%20%20popup_f4bb3cd000a243e3a94f8196dec63038.setContent%28html_093a42b495434e08b2025ac85afb5879%29%3B%0A%20%20%20%20%20%20%20%20%0A%0A%20%20%20%20%20%20%20%20circle_marker_4dcd6e57c2c04aadb02d86114a95a69d.bindPopup%28popup_f4bb3cd000a243e3a94f8196dec63038%29%0A%20%20%20%20%20%20%20%20%3B%0A%0A%20%20%20%20%20%20%20%20%0A%20%20%20%20%0A%20%20%20%20%0A%20%20%20%20%20%20%20%20%20%20%20%20var%20circle_marker_dfd6cb417b314377b96e1c2931e4b5ee%20%3D%20L.circleMarker%28%0A%20%20%20%20%20%20%20%20%20%20%20%20%20%20%20%20%5B43.66549%2C%20-79.450145%5D%2C%0A%20%20%20%20%20%20%20%20%20%20%20%20%20%20%20%20%7B%22bubblingMouseEvents%22%3A%20true%2C%20%22color%22%3A%20%22red%22%2C%20%22dashArray%22%3A%20null%2C%20%22dashOffset%22%3A%20null%2C%20%22fill%22%3A%20true%2C%20%22fillColor%22%3A%20%22red%22%2C%20%22fillOpacity%22%3A%200.7%2C%20%22fillRule%22%3A%20%22evenodd%22%2C%20%22lineCap%22%3A%20%22round%22%2C%20%22lineJoin%22%3A%20%22round%22%2C%20%22opacity%22%3A%201.0%2C%20%22radius%22%3A%205%2C%20%22stroke%22%3A%20true%2C%20%22weight%22%3A%203%7D%0A%20%20%20%20%20%20%20%20%20%20%20%20%29.addTo%28map_af0f37553989406fa15adf20abdf6a40%29%3B%0A%20%20%20%20%20%20%20%20%0A%20%20%20%20%0A%20%20%20%20%20%20%20%20var%20popup_ac3e1b556f2c43c2b3c429d8d9faa66c%20%3D%20L.popup%28%7B%22maxWidth%22%3A%20%22100%25%22%7D%29%3B%0A%0A%20%20%20%20%20%20%20%20%0A%20%20%20%20%20%20%20%20%20%20%20%20var%20html_b071273a657245e5b0f7bba77bdc77bd%20%3D%20%24%28%60%3Cdiv%20id%3D%22html_b071273a657245e5b0f7bba77bdc77bd%22%20style%3D%22width%3A%20100.0%25%3B%20height%3A%20100.0%25%3B%22%3EHale%20Coffee%3C/div%3E%60%29%5B0%5D%3B%0A%20%20%20%20%20%20%20%20%20%20%20%20popup_ac3e1b556f2c43c2b3c429d8d9faa66c.setContent%28html_b071273a657245e5b0f7bba77bdc77bd%29%3B%0A%20%20%20%20%20%20%20%20%0A%0A%20%20%20%20%20%20%20%20circle_marker_dfd6cb417b314377b96e1c2931e4b5ee.bindPopup%28popup_ac3e1b556f2c43c2b3c429d8d9faa66c%29%0A%20%20%20%20%20%20%20%20%3B%0A%0A%20%20%20%20%20%20%20%20%0A%20%20%20%20%0A%20%20%20%20%0A%20%20%20%20%20%20%20%20%20%20%20%20var%20circle_marker_622d353831c2492b93d2dd3a04b411e3%20%3D%20L.circleMarker%28%0A%20%20%20%20%20%20%20%20%20%20%20%20%20%20%20%20%5B43.642268%2C%20-79.383596%5D%2C%0A%20%20%20%20%20%20%20%20%20%20%20%20%20%20%20%20%7B%22bubblingMouseEvents%22%3A%20true%2C%20%22color%22%3A%20%22%23000080%22%2C%20%22dashArray%22%3A%20null%2C%20%22dashOffset%22%3A%20null%2C%20%22fill%22%3A%20true%2C%20%22fillColor%22%3A%20%22%23000080%22%2C%20%22fillOpacity%22%3A%200.7%2C%20%22fillRule%22%3A%20%22evenodd%22%2C%20%22lineCap%22%3A%20%22round%22%2C%20%22lineJoin%22%3A%20%22round%22%2C%20%22opacity%22%3A%201.0%2C%20%22radius%22%3A%205%2C%20%22stroke%22%3A%20true%2C%20%22weight%22%3A%203%7D%0A%20%20%20%20%20%20%20%20%20%20%20%20%29.addTo%28map_af0f37553989406fa15adf20abdf6a40%29%3B%0A%20%20%20%20%20%20%20%20%0A%20%20%20%20%0A%20%20%20%20%20%20%20%20var%20popup_afd9a8e5a43b4f53911b4f64087c913c%20%3D%20L.popup%28%7B%22maxWidth%22%3A%20%22100%25%22%7D%29%3B%0A%0A%20%20%20%20%20%20%20%20%0A%20%20%20%20%20%20%20%20%20%20%20%20var%20html_b6eba901802546eda9917e805ad619e1%20%3D%20%24%28%60%3Cdiv%20id%3D%22html_b6eba901802546eda9917e805ad619e1%22%20style%3D%22width%3A%20100.0%25%3B%20height%3A%20100.0%25%3B%22%3EAroma%20Espresso%20Bar%3Cbr%3ECluster%201%3C/div%3E%60%29%5B0%5D%3B%0A%20%20%20%20%20%20%20%20%20%20%20%20popup_afd9a8e5a43b4f53911b4f64087c913c.setContent%28html_b6eba901802546eda9917e805ad619e1%29%3B%0A%20%20%20%20%20%20%20%20%0A%0A%20%20%20%20%20%20%20%20circle_marker_622d353831c2492b93d2dd3a04b411e3.bindPopup%28popup_afd9a8e5a43b4f53911b4f64087c913c%29%0A%20%20%20%20%20%20%20%20%3B%0A%0A%20%20%20%20%20%20%20%20%0A%20%20%20%20%0A%20%20%20%20%0A%20%20%20%20%20%20%20%20%20%20%20%20var%20circle_marker_4ca1e622260e4a31b5684bb297f74a3b%20%3D%20L.circleMarker%28%0A%20%20%20%20%20%20%20%20%20%20%20%20%20%20%20%20%5B43.661315%2C%20-79.338327%5D%2C%0A%20%20%20%20%20%20%20%20%20%20%20%20%20%20%20%20%7B%22bubblingMouseEvents%22%3A%20true%2C%20%22color%22%3A%20%22%23000080%22%2C%20%22dashArray%22%3A%20null%2C%20%22dashOffset%22%3A%20null%2C%20%22fill%22%3A%20true%2C%20%22fillColor%22%3A%20%22%23000080%22%2C%20%22fillOpacity%22%3A%200.7%2C%20%22fillRule%22%3A%20%22evenodd%22%2C%20%22lineCap%22%3A%20%22round%22%2C%20%22lineJoin%22%3A%20%22round%22%2C%20%22opacity%22%3A%201.0%2C%20%22radius%22%3A%205%2C%20%22stroke%22%3A%20true%2C%20%22weight%22%3A%203%7D%0A%20%20%20%20%20%20%20%20%20%20%20%20%29.addTo%28map_af0f37553989406fa15adf20abdf6a40%29%3B%0A%20%20%20%20%20%20%20%20%0A%20%20%20%20%0A%20%20%20%20%20%20%20%20var%20popup_6640038dccc54dffac568b5798781206%20%3D%20L.popup%28%7B%22maxWidth%22%3A%20%22100%25%22%7D%29%3B%0A%0A%20%20%20%20%20%20%20%20%0A%20%20%20%20%20%20%20%20%20%20%20%20var%20html_690602a262fd4b3089dc306d43c7d2e1%20%3D%20%24%28%60%3Cdiv%20id%3D%22html_690602a262fd4b3089dc306d43c7d2e1%22%20style%3D%22width%3A%20100.0%25%3B%20height%3A%20100.0%25%3B%22%3ETe%20Aro%3Cbr%3ECluster%201%3C/div%3E%60%29%5B0%5D%3B%0A%20%20%20%20%20%20%20%20%20%20%20%20popup_6640038dccc54dffac568b5798781206.setContent%28html_690602a262fd4b3089dc306d43c7d2e1%29%3B%0A%20%20%20%20%20%20%20%20%0A%0A%20%20%20%20%20%20%20%20circle_marker_4ca1e622260e4a31b5684bb297f74a3b.bindPopup%28popup_6640038dccc54dffac568b5798781206%29%0A%20%20%20%20%20%20%20%20%3B%0A%0A%20%20%20%20%20%20%20%20%0A%20%20%20%20%0A%20%20%20%20%0A%20%20%20%20%20%20%20%20%20%20%20%20var%20circle_marker_3ab4929b0b854255b183671a3d9a1ce6%20%3D%20L.circleMarker%28%0A%20%20%20%20%20%20%20%20%20%20%20%20%20%20%20%20%5B43.637877%2C%20-79.392291%5D%2C%0A%20%20%20%20%20%20%20%20%20%20%20%20%20%20%20%20%7B%22bubblingMouseEvents%22%3A%20true%2C%20%22color%22%3A%20%22%23000080%22%2C%20%22dashArray%22%3A%20null%2C%20%22dashOffset%22%3A%20null%2C%20%22fill%22%3A%20true%2C%20%22fillColor%22%3A%20%22%23000080%22%2C%20%22fillOpacity%22%3A%200.7%2C%20%22fillRule%22%3A%20%22evenodd%22%2C%20%22lineCap%22%3A%20%22round%22%2C%20%22lineJoin%22%3A%20%22round%22%2C%20%22opacity%22%3A%201.0%2C%20%22radius%22%3A%205%2C%20%22stroke%22%3A%20true%2C%20%22weight%22%3A%203%7D%0A%20%20%20%20%20%20%20%20%20%20%20%20%29.addTo%28map_af0f37553989406fa15adf20abdf6a40%29%3B%0A%20%20%20%20%20%20%20%20%0A%20%20%20%20%0A%20%20%20%20%20%20%20%20var%20popup_1af030fdc90546a7866b9b07c85eaf57%20%3D%20L.popup%28%7B%22maxWidth%22%3A%20%22100%25%22%7D%29%3B%0A%0A%20%20%20%20%20%20%20%20%0A%20%20%20%20%20%20%20%20%20%20%20%20var%20html_364906e0832641618a1b294b83e7257a%20%3D%20%24%28%60%3Cdiv%20id%3D%22html_364906e0832641618a1b294b83e7257a%22%20style%3D%22width%3A%20100.0%25%3B%20height%3A%20100.0%25%3B%22%3EStarbucks%3Cbr%3ECluster%201%3C/div%3E%60%29%5B0%5D%3B%0A%20%20%20%20%20%20%20%20%20%20%20%20popup_1af030fdc90546a7866b9b07c85eaf57.setContent%28html_364906e0832641618a1b294b83e7257a%29%3B%0A%20%20%20%20%20%20%20%20%0A%0A%20%20%20%20%20%20%20%20circle_marker_3ab4929b0b854255b183671a3d9a1ce6.bindPopup%28popup_1af030fdc90546a7866b9b07c85eaf57%29%0A%20%20%20%20%20%20%20%20%3B%0A%0A%20%20%20%20%20%20%20%20%0A%20%20%20%20%0A%20%20%20%20%0A%20%20%20%20%20%20%20%20%20%20%20%20var%20circle_marker_9bc55e7ab51d4b5db5d9b672576aaf06%20%3D%20L.circleMarker%28%0A%20%20%20%20%20%20%20%20%20%20%20%20%20%20%20%20%5B43.664819%2C%20-79.454714%5D%2C%0A%20%20%20%20%20%20%20%20%20%20%20%20%20%20%20%20%7B%22bubblingMouseEvents%22%3A%20true%2C%20%22color%22%3A%20%22red%22%2C%20%22dashArray%22%3A%20null%2C%20%22dashOffset%22%3A%20null%2C%20%22fill%22%3A%20true%2C%20%22fillColor%22%3A%20%22red%22%2C%20%22fillOpacity%22%3A%200.7%2C%20%22fillRule%22%3A%20%22evenodd%22%2C%20%22lineCap%22%3A%20%22round%22%2C%20%22lineJoin%22%3A%20%22round%22%2C%20%22opacity%22%3A%201.0%2C%20%22radius%22%3A%205%2C%20%22stroke%22%3A%20true%2C%20%22weight%22%3A%203%7D%0A%20%20%20%20%20%20%20%20%20%20%20%20%29.addTo%28map_af0f37553989406fa15adf20abdf6a40%29%3B%0A%20%20%20%20%20%20%20%20%0A%20%20%20%20%0A%20%20%20%20%20%20%20%20var%20popup_49054dc66ad84062bbf623b0d6e63053%20%3D%20L.popup%28%7B%22maxWidth%22%3A%20%22100%25%22%7D%29%3B%0A%0A%20%20%20%20%20%20%20%20%0A%20%20%20%20%20%20%20%20%20%20%20%20var%20html_50034185982749d0b08b551d9cabdcfb%20%3D%20%24%28%60%3Cdiv%20id%3D%22html_50034185982749d0b08b551d9cabdcfb%22%20style%3D%22width%3A%20100.0%25%3B%20height%3A%20100.0%25%3B%22%3EMattachioni%3C/div%3E%60%29%5B0%5D%3B%0A%20%20%20%20%20%20%20%20%20%20%20%20popup_49054dc66ad84062bbf623b0d6e63053.setContent%28html_50034185982749d0b08b551d9cabdcfb%29%3B%0A%20%20%20%20%20%20%20%20%0A%0A%20%20%20%20%20%20%20%20circle_marker_9bc55e7ab51d4b5db5d9b672576aaf06.bindPopup%28popup_49054dc66ad84062bbf623b0d6e63053%29%0A%20%20%20%20%20%20%20%20%3B%0A%0A%20%20%20%20%20%20%20%20%0A%20%20%20%20%0A%20%20%20%20%0A%20%20%20%20%20%20%20%20%20%20%20%20var%20circle_marker_9582e89bb7044f1fb0c1a70634d62916%20%3D%20L.circleMarker%28%0A%20%20%20%20%20%20%20%20%20%20%20%20%20%20%20%20%5B43.668547%2C%20-79.397414%5D%2C%0A%20%20%20%20%20%20%20%20%20%20%20%20%20%20%20%20%7B%22bubblingMouseEvents%22%3A%20true%2C%20%22color%22%3A%20%22%23000080%22%2C%20%22dashArray%22%3A%20null%2C%20%22dashOffset%22%3A%20null%2C%20%22fill%22%3A%20true%2C%20%22fillColor%22%3A%20%22%23000080%22%2C%20%22fillOpacity%22%3A%200.7%2C%20%22fillRule%22%3A%20%22evenodd%22%2C%20%22lineCap%22%3A%20%22round%22%2C%20%22lineJoin%22%3A%20%22round%22%2C%20%22opacity%22%3A%201.0%2C%20%22radius%22%3A%205%2C%20%22stroke%22%3A%20true%2C%20%22weight%22%3A%203%7D%0A%20%20%20%20%20%20%20%20%20%20%20%20%29.addTo%28map_af0f37553989406fa15adf20abdf6a40%29%3B%0A%20%20%20%20%20%20%20%20%0A%20%20%20%20%0A%20%20%20%20%20%20%20%20var%20popup_f1ad2e5c05574513aa8d2220e65ae526%20%3D%20L.popup%28%7B%22maxWidth%22%3A%20%22100%25%22%7D%29%3B%0A%0A%20%20%20%20%20%20%20%20%0A%20%20%20%20%20%20%20%20%20%20%20%20var%20html_ae833458ab0e4d329bcd0f8f0d7b5c33%20%3D%20%24%28%60%3Cdiv%20id%3D%22html_ae833458ab0e4d329bcd0f8f0d7b5c33%22%20style%3D%22width%3A%20100.0%25%3B%20height%3A%20100.0%25%3B%22%3EStarbucks%3Cbr%3ECluster%201%3C/div%3E%60%29%5B0%5D%3B%0A%20%20%20%20%20%20%20%20%20%20%20%20popup_f1ad2e5c05574513aa8d2220e65ae526.setContent%28html_ae833458ab0e4d329bcd0f8f0d7b5c33%29%3B%0A%20%20%20%20%20%20%20%20%0A%0A%20%20%20%20%20%20%20%20circle_marker_9582e89bb7044f1fb0c1a70634d62916.bindPopup%28popup_f1ad2e5c05574513aa8d2220e65ae526%29%0A%20%20%20%20%20%20%20%20%3B%0A%0A%20%20%20%20%20%20%20%20%0A%20%20%20%20%0A%20%20%20%20%0A%20%20%20%20%20%20%20%20%20%20%20%20var%20circle_marker_59218e3fa86840108787aaaf31b0a9e9%20%3D%20L.circleMarker%28%0A%20%20%20%20%20%20%20%20%20%20%20%20%20%20%20%20%5B43.671761%2C%20-79.38717%5D%2C%0A%20%20%20%20%20%20%20%20%20%20%20%20%20%20%20%20%7B%22bubblingMouseEvents%22%3A%20true%2C%20%22color%22%3A%20%22%23000080%22%2C%20%22dashArray%22%3A%20null%2C%20%22dashOffset%22%3A%20null%2C%20%22fill%22%3A%20true%2C%20%22fillColor%22%3A%20%22%23000080%22%2C%20%22fillOpacity%22%3A%200.7%2C%20%22fillRule%22%3A%20%22evenodd%22%2C%20%22lineCap%22%3A%20%22round%22%2C%20%22lineJoin%22%3A%20%22round%22%2C%20%22opacity%22%3A%201.0%2C%20%22radius%22%3A%205%2C%20%22stroke%22%3A%20true%2C%20%22weight%22%3A%203%7D%0A%20%20%20%20%20%20%20%20%20%20%20%20%29.addTo%28map_af0f37553989406fa15adf20abdf6a40%29%3B%0A%20%20%20%20%20%20%20%20%0A%20%20%20%20%0A%20%20%20%20%20%20%20%20var%20popup_a2e768f45b264428874cfebd2f349ecc%20%3D%20L.popup%28%7B%22maxWidth%22%3A%20%22100%25%22%7D%29%3B%0A%0A%20%20%20%20%20%20%20%20%0A%20%20%20%20%20%20%20%20%20%20%20%20var%20html_6e3f798659fb444ba2e91d39bb4ded92%20%3D%20%24%28%60%3Cdiv%20id%3D%22html_6e3f798659fb444ba2e91d39bb4ded92%22%20style%3D%22width%3A%20100.0%25%3B%20height%3A%20100.0%25%3B%22%3EBalzac%27s%20Coffee%3Cbr%3ECluster%201%3C/div%3E%60%29%5B0%5D%3B%0A%20%20%20%20%20%20%20%20%20%20%20%20popup_a2e768f45b264428874cfebd2f349ecc.setContent%28html_6e3f798659fb444ba2e91d39bb4ded92%29%3B%0A%20%20%20%20%20%20%20%20%0A%0A%20%20%20%20%20%20%20%20circle_marker_59218e3fa86840108787aaaf31b0a9e9.bindPopup%28popup_a2e768f45b264428874cfebd2f349ecc%29%0A%20%20%20%20%20%20%20%20%3B%0A%0A%20%20%20%20%20%20%20%20%0A%20%20%20%20%0A%20%20%20%20%0A%20%20%20%20%20%20%20%20%20%20%20%20var%20circle_marker_b3e66d0cbf2e4179abde41743639129c%20%3D%20L.circleMarker%28%0A%20%20%20%20%20%20%20%20%20%20%20%20%20%20%20%20%5B43.710995%2C%20-79.399041%5D%2C%0A%20%20%20%20%20%20%20%20%20%20%20%20%20%20%20%20%7B%22bubblingMouseEvents%22%3A%20true%2C%20%22color%22%3A%20%22red%22%2C%20%22dashArray%22%3A%20null%2C%20%22dashOffset%22%3A%20null%2C%20%22fill%22%3A%20true%2C%20%22fillColor%22%3A%20%22red%22%2C%20%22fillOpacity%22%3A%200.7%2C%20%22fillRule%22%3A%20%22evenodd%22%2C%20%22lineCap%22%3A%20%22round%22%2C%20%22lineJoin%22%3A%20%22round%22%2C%20%22opacity%22%3A%201.0%2C%20%22radius%22%3A%205%2C%20%22stroke%22%3A%20true%2C%20%22weight%22%3A%203%7D%0A%20%20%20%20%20%20%20%20%20%20%20%20%29.addTo%28map_af0f37553989406fa15adf20abdf6a40%29%3B%0A%20%20%20%20%20%20%20%20%0A%20%20%20%20%0A%20%20%20%20%20%20%20%20var%20popup_e725747cf20e4a68a9a3e9d0921b5690%20%3D%20L.popup%28%7B%22maxWidth%22%3A%20%22100%25%22%7D%29%3B%0A%0A%20%20%20%20%20%20%20%20%0A%20%20%20%20%20%20%20%20%20%20%20%20var%20html_be7fcbbf3fd743f4b6347f302ac73e5e%20%3D%20%24%28%60%3Cdiv%20id%3D%22html_be7fcbbf3fd743f4b6347f302ac73e5e%22%20style%3D%22width%3A%20100.0%25%3B%20height%3A%20100.0%25%3B%22%3EStarbucks%3C/div%3E%60%29%5B0%5D%3B%0A%20%20%20%20%20%20%20%20%20%20%20%20popup_e725747cf20e4a68a9a3e9d0921b5690.setContent%28html_be7fcbbf3fd743f4b6347f302ac73e5e%29%3B%0A%20%20%20%20%20%20%20%20%0A%0A%20%20%20%20%20%20%20%20circle_marker_b3e66d0cbf2e4179abde41743639129c.bindPopup%28popup_e725747cf20e4a68a9a3e9d0921b5690%29%0A%20%20%20%20%20%20%20%20%3B%0A%0A%20%20%20%20%20%20%20%20%0A%20%20%20%20%0A%20%20%20%20%0A%20%20%20%20%20%20%20%20%20%20%20%20var%20circle_marker_ceb9256bbb1d42ffa474439c700daa4d%20%3D%20L.circleMarker%28%0A%20%20%20%20%20%20%20%20%20%20%20%20%20%20%20%20%5B43.662602%2C%20-79.471193%5D%2C%0A%20%20%20%20%20%20%20%20%20%20%20%20%20%20%20%20%7B%22bubblingMouseEvents%22%3A%20true%2C%20%22color%22%3A%20%22red%22%2C%20%22dashArray%22%3A%20null%2C%20%22dashOffset%22%3A%20null%2C%20%22fill%22%3A%20true%2C%20%22fillColor%22%3A%20%22red%22%2C%20%22fillOpacity%22%3A%200.7%2C%20%22fillRule%22%3A%20%22evenodd%22%2C%20%22lineCap%22%3A%20%22round%22%2C%20%22lineJoin%22%3A%20%22round%22%2C%20%22opacity%22%3A%201.0%2C%20%22radius%22%3A%205%2C%20%22stroke%22%3A%20true%2C%20%22weight%22%3A%203%7D%0A%20%20%20%20%20%20%20%20%20%20%20%20%29.addTo%28map_af0f37553989406fa15adf20abdf6a40%29%3B%0A%20%20%20%20%20%20%20%20%0A%20%20%20%20%0A%20%20%20%20%20%20%20%20var%20popup_d801ff032dcf47128f7a9de758fc891a%20%3D%20L.popup%28%7B%22maxWidth%22%3A%20%22100%25%22%7D%29%3B%0A%0A%20%20%20%20%20%20%20%20%0A%20%20%20%20%20%20%20%20%20%20%20%20var%20html_ef274d3aeb464456a50b43ed41cfdaca%20%3D%20%24%28%60%3Cdiv%20id%3D%22html_ef274d3aeb464456a50b43ed41cfdaca%22%20style%3D%22width%3A%20100.0%25%3B%20height%3A%20100.0%25%3B%22%3EThe%20Good%20Neighbour%3C/div%3E%60%29%5B0%5D%3B%0A%20%20%20%20%20%20%20%20%20%20%20%20popup_d801ff032dcf47128f7a9de758fc891a.setContent%28html_ef274d3aeb464456a50b43ed41cfdaca%29%3B%0A%20%20%20%20%20%20%20%20%0A%0A%20%20%20%20%20%20%20%20circle_marker_ceb9256bbb1d42ffa474439c700daa4d.bindPopup%28popup_d801ff032dcf47128f7a9de758fc891a%29%0A%20%20%20%20%20%20%20%20%3B%0A%0A%20%20%20%20%20%20%20%20%0A%20%20%20%20%0A%20%20%20%20%0A%20%20%20%20%20%20%20%20%20%20%20%20var%20circle_marker_72b00e816f574081978144a29ce06d96%20%3D%20L.circleMarker%28%0A%20%20%20%20%20%20%20%20%20%20%20%20%20%20%20%20%5B43.638725%2C%20-79.386023%5D%2C%0A%20%20%20%20%20%20%20%20%20%20%20%20%20%20%20%20%7B%22bubblingMouseEvents%22%3A%20true%2C%20%22color%22%3A%20%22%23000080%22%2C%20%22dashArray%22%3A%20null%2C%20%22dashOffset%22%3A%20null%2C%20%22fill%22%3A%20true%2C%20%22fillColor%22%3A%20%22%23000080%22%2C%20%22fillOpacity%22%3A%200.7%2C%20%22fillRule%22%3A%20%22evenodd%22%2C%20%22lineCap%22%3A%20%22round%22%2C%20%22lineJoin%22%3A%20%22round%22%2C%20%22opacity%22%3A%201.0%2C%20%22radius%22%3A%205%2C%20%22stroke%22%3A%20true%2C%20%22weight%22%3A%203%7D%0A%20%20%20%20%20%20%20%20%20%20%20%20%29.addTo%28map_af0f37553989406fa15adf20abdf6a40%29%3B%0A%20%20%20%20%20%20%20%20%0A%20%20%20%20%0A%20%20%20%20%20%20%20%20var%20popup_e81c3efd9ecd405a8870d7d1e205114c%20%3D%20L.popup%28%7B%22maxWidth%22%3A%20%22100%25%22%7D%29%3B%0A%0A%20%20%20%20%20%20%20%20%0A%20%20%20%20%20%20%20%20%20%20%20%20var%20html_116306a0168246b8babb731d2319eeec%20%3D%20%24%28%60%3Cdiv%20id%3D%22html_116306a0168246b8babb731d2319eeec%22%20style%3D%22width%3A%20100.0%25%3B%20height%3A%20100.0%25%3B%22%3ETim%20Hortons%3Cbr%3ECluster%201%3C/div%3E%60%29%5B0%5D%3B%0A%20%20%20%20%20%20%20%20%20%20%20%20popup_e81c3efd9ecd405a8870d7d1e205114c.setContent%28html_116306a0168246b8babb731d2319eeec%29%3B%0A%20%20%20%20%20%20%20%20%0A%0A%20%20%20%20%20%20%20%20circle_marker_72b00e816f574081978144a29ce06d96.bindPopup%28popup_e81c3efd9ecd405a8870d7d1e205114c%29%0A%20%20%20%20%20%20%20%20%3B%0A%0A%20%20%20%20%20%20%20%20%0A%20%20%20%20%0A%20%20%20%20%0A%20%20%20%20%20%20%20%20%20%20%20%20var%20circle_marker_179d4f602d76444aa8bef6fe34759087%20%3D%20L.circleMarker%28%0A%20%20%20%20%20%20%20%20%20%20%20%20%20%20%20%20%5B43.677993%2C%20-79.390267%5D%2C%0A%20%20%20%20%20%20%20%20%20%20%20%20%20%20%20%20%7B%22bubblingMouseEvents%22%3A%20true%2C%20%22color%22%3A%20%22%23000080%22%2C%20%22dashArray%22%3A%20null%2C%20%22dashOffset%22%3A%20null%2C%20%22fill%22%3A%20true%2C%20%22fillColor%22%3A%20%22%23000080%22%2C%20%22fillOpacity%22%3A%200.7%2C%20%22fillRule%22%3A%20%22evenodd%22%2C%20%22lineCap%22%3A%20%22round%22%2C%20%22lineJoin%22%3A%20%22round%22%2C%20%22opacity%22%3A%201.0%2C%20%22radius%22%3A%205%2C%20%22stroke%22%3A%20true%2C%20%22weight%22%3A%203%7D%0A%20%20%20%20%20%20%20%20%20%20%20%20%29.addTo%28map_af0f37553989406fa15adf20abdf6a40%29%3B%0A%20%20%20%20%20%20%20%20%0A%20%20%20%20%0A%20%20%20%20%20%20%20%20var%20popup_b67d00934fb04c17b2dd01bc7759f2db%20%3D%20L.popup%28%7B%22maxWidth%22%3A%20%22100%25%22%7D%29%3B%0A%0A%20%20%20%20%20%20%20%20%0A%20%20%20%20%20%20%20%20%20%20%20%20var%20html_102a866401384785b8f23a01970da25b%20%3D%20%24%28%60%3Cdiv%20id%3D%22html_102a866401384785b8f23a01970da25b%22%20style%3D%22width%3A%20100.0%25%3B%20height%3A%20100.0%25%3B%22%3EStarbucks%3Cbr%3ECluster%201%3C/div%3E%60%29%5B0%5D%3B%0A%20%20%20%20%20%20%20%20%20%20%20%20popup_b67d00934fb04c17b2dd01bc7759f2db.setContent%28html_102a866401384785b8f23a01970da25b%29%3B%0A%20%20%20%20%20%20%20%20%0A%0A%20%20%20%20%20%20%20%20circle_marker_179d4f602d76444aa8bef6fe34759087.bindPopup%28popup_b67d00934fb04c17b2dd01bc7759f2db%29%0A%20%20%20%20%20%20%20%20%3B%0A%0A%20%20%20%20%20%20%20%20%0A%20%20%20%20%0A%20%20%20%20%0A%20%20%20%20%20%20%20%20%20%20%20%20var%20circle_marker_9e48300122714e43ae97ec321f465799%20%3D%20L.circleMarker%28%0A%20%20%20%20%20%20%20%20%20%20%20%20%20%20%20%20%5B43.657532%2C%20-79.379012%5D%2C%0A%20%20%20%20%20%20%20%20%20%20%20%20%20%20%20%20%7B%22bubblingMouseEvents%22%3A%20true%2C%20%22color%22%3A%20%22%23000080%22%2C%20%22dashArray%22%3A%20null%2C%20%22dashOffset%22%3A%20null%2C%20%22fill%22%3A%20true%2C%20%22fillColor%22%3A%20%22%23000080%22%2C%20%22fillOpacity%22%3A%200.7%2C%20%22fillRule%22%3A%20%22evenodd%22%2C%20%22lineCap%22%3A%20%22round%22%2C%20%22lineJoin%22%3A%20%22round%22%2C%20%22opacity%22%3A%201.0%2C%20%22radius%22%3A%205%2C%20%22stroke%22%3A%20true%2C%20%22weight%22%3A%203%7D%0A%20%20%20%20%20%20%20%20%20%20%20%20%29.addTo%28map_af0f37553989406fa15adf20abdf6a40%29%3B%0A%20%20%20%20%20%20%20%20%0A%20%20%20%20%0A%20%20%20%20%20%20%20%20var%20popup_d020613f80974717aae0178677ef80d1%20%3D%20L.popup%28%7B%22maxWidth%22%3A%20%22100%25%22%7D%29%3B%0A%0A%20%20%20%20%20%20%20%20%0A%20%20%20%20%20%20%20%20%20%20%20%20var%20html_da450b69ec734571a2f3ca79a78938ba%20%3D%20%24%28%60%3Cdiv%20id%3D%22html_da450b69ec734571a2f3ca79a78938ba%22%20style%3D%22width%3A%20100.0%25%3B%20height%3A%20100.0%25%3B%22%3EBalzacs%20Coffee%3Cbr%3ECluster%201%3C/div%3E%60%29%5B0%5D%3B%0A%20%20%20%20%20%20%20%20%20%20%20%20popup_d020613f80974717aae0178677ef80d1.setContent%28html_da450b69ec734571a2f3ca79a78938ba%29%3B%0A%20%20%20%20%20%20%20%20%0A%0A%20%20%20%20%20%20%20%20circle_marker_9e48300122714e43ae97ec321f465799.bindPopup%28popup_d020613f80974717aae0178677ef80d1%29%0A%20%20%20%20%20%20%20%20%3B%0A%0A%20%20%20%20%20%20%20%20%0A%20%20%20%20%0A%20%20%20%20%0A%20%20%20%20%20%20%20%20%20%20%20%20var%20circle_marker_64991eeadf564e2f960a7b1aad85c50a%20%3D%20L.circleMarker%28%0A%20%20%20%20%20%20%20%20%20%20%20%20%20%20%20%20%5B43.645526%2C%20-79.380468%5D%2C%0A%20%20%20%20%20%20%20%20%20%20%20%20%20%20%20%20%7B%22bubblingMouseEvents%22%3A%20true%2C%20%22color%22%3A%20%22%23000080%22%2C%20%22dashArray%22%3A%20null%2C%20%22dashOffset%22%3A%20null%2C%20%22fill%22%3A%20true%2C%20%22fillColor%22%3A%20%22%23000080%22%2C%20%22fillOpacity%22%3A%200.7%2C%20%22fillRule%22%3A%20%22evenodd%22%2C%20%22lineCap%22%3A%20%22round%22%2C%20%22lineJoin%22%3A%20%22round%22%2C%20%22opacity%22%3A%201.0%2C%20%22radius%22%3A%205%2C%20%22stroke%22%3A%20true%2C%20%22weight%22%3A%203%7D%0A%20%20%20%20%20%20%20%20%20%20%20%20%29.addTo%28map_af0f37553989406fa15adf20abdf6a40%29%3B%0A%20%20%20%20%20%20%20%20%0A%20%20%20%20%0A%20%20%20%20%20%20%20%20var%20popup_4695e032678d475b983b44c5242af5b6%20%3D%20L.popup%28%7B%22maxWidth%22%3A%20%22100%25%22%7D%29%3B%0A%0A%20%20%20%20%20%20%20%20%0A%20%20%20%20%20%20%20%20%20%20%20%20var%20html_9f49a27949f54b9798be0c2cfe922f02%20%3D%20%24%28%60%3Cdiv%20id%3D%22html_9f49a27949f54b9798be0c2cfe922f02%22%20style%3D%22width%3A%20100.0%25%3B%20height%3A%20100.0%25%3B%22%3EStarbucks%3Cbr%3ECluster%201%3C/div%3E%60%29%5B0%5D%3B%0A%20%20%20%20%20%20%20%20%20%20%20%20popup_4695e032678d475b983b44c5242af5b6.setContent%28html_9f49a27949f54b9798be0c2cfe922f02%29%3B%0A%20%20%20%20%20%20%20%20%0A%0A%20%20%20%20%20%20%20%20circle_marker_64991eeadf564e2f960a7b1aad85c50a.bindPopup%28popup_4695e032678d475b983b44c5242af5b6%29%0A%20%20%20%20%20%20%20%20%3B%0A%0A%20%20%20%20%20%20%20%20%0A%20%20%20%20%0A%20%20%20%20%0A%20%20%20%20%20%20%20%20%20%20%20%20var%20circle_marker_450a7de8c007421ebb4da63aa90e9bd0%20%3D%20L.circleMarker%28%0A%20%20%20%20%20%20%20%20%20%20%20%20%20%20%20%20%5B43.626982%2C%20-79.478494%5D%2C%0A%20%20%20%20%20%20%20%20%20%20%20%20%20%20%20%20%7B%22bubblingMouseEvents%22%3A%20true%2C%20%22color%22%3A%20%22red%22%2C%20%22dashArray%22%3A%20null%2C%20%22dashOffset%22%3A%20null%2C%20%22fill%22%3A%20true%2C%20%22fillColor%22%3A%20%22red%22%2C%20%22fillOpacity%22%3A%200.7%2C%20%22fillRule%22%3A%20%22evenodd%22%2C%20%22lineCap%22%3A%20%22round%22%2C%20%22lineJoin%22%3A%20%22round%22%2C%20%22opacity%22%3A%201.0%2C%20%22radius%22%3A%205%2C%20%22stroke%22%3A%20true%2C%20%22weight%22%3A%203%7D%0A%20%20%20%20%20%20%20%20%20%20%20%20%29.addTo%28map_af0f37553989406fa15adf20abdf6a40%29%3B%0A%20%20%20%20%20%20%20%20%0A%20%20%20%20%0A%20%20%20%20%20%20%20%20var%20popup_4e99a23620ee4a3faeaf90feb94fd48c%20%3D%20L.popup%28%7B%22maxWidth%22%3A%20%22100%25%22%7D%29%3B%0A%0A%20%20%20%20%20%20%20%20%0A%20%20%20%20%20%20%20%20%20%20%20%20var%20html_069df873b4024a82b51514de9d9b6972%20%3D%20%24%28%60%3Cdiv%20id%3D%22html_069df873b4024a82b51514de9d9b6972%22%20style%3D%22width%3A%20100.0%25%3B%20height%3A%20100.0%25%3B%22%3ELola%27s%20Gelato%3C/div%3E%60%29%5B0%5D%3B%0A%20%20%20%20%20%20%20%20%20%20%20%20popup_4e99a23620ee4a3faeaf90feb94fd48c.setContent%28html_069df873b4024a82b51514de9d9b6972%29%3B%0A%20%20%20%20%20%20%20%20%0A%0A%20%20%20%20%20%20%20%20circle_marker_450a7de8c007421ebb4da63aa90e9bd0.bindPopup%28popup_4e99a23620ee4a3faeaf90feb94fd48c%29%0A%20%20%20%20%20%20%20%20%3B%0A%0A%20%20%20%20%20%20%20%20%0A%20%20%20%20%0A%20%20%20%20%0A%20%20%20%20%20%20%20%20%20%20%20%20var%20circle_marker_9285cfe1ea0143e4ad98a7310bb0adb0%20%3D%20L.circleMarker%28%0A%20%20%20%20%20%20%20%20%20%20%20%20%20%20%20%20%5B43.673006%2C%20-79.440268%5D%2C%0A%20%20%20%20%20%20%20%20%20%20%20%20%20%20%20%20%7B%22bubblingMouseEvents%22%3A%20true%2C%20%22color%22%3A%20%22red%22%2C%20%22dashArray%22%3A%20null%2C%20%22dashOffset%22%3A%20null%2C%20%22fill%22%3A%20true%2C%20%22fillColor%22%3A%20%22red%22%2C%20%22fillOpacity%22%3A%200.7%2C%20%22fillRule%22%3A%20%22evenodd%22%2C%20%22lineCap%22%3A%20%22round%22%2C%20%22lineJoin%22%3A%20%22round%22%2C%20%22opacity%22%3A%201.0%2C%20%22radius%22%3A%205%2C%20%22stroke%22%3A%20true%2C%20%22weight%22%3A%203%7D%0A%20%20%20%20%20%20%20%20%20%20%20%20%29.addTo%28map_af0f37553989406fa15adf20abdf6a40%29%3B%0A%20%20%20%20%20%20%20%20%0A%20%20%20%20%0A%20%20%20%20%20%20%20%20var%20popup_bc264056b8b6435dbdbfe60cd3f15d5a%20%3D%20L.popup%28%7B%22maxWidth%22%3A%20%22100%25%22%7D%29%3B%0A%0A%20%20%20%20%20%20%20%20%0A%20%20%20%20%20%20%20%20%20%20%20%20var%20html_caea4c1e67564e53be722e6e86e6d2c1%20%3D%20%24%28%60%3Cdiv%20id%3D%22html_caea4c1e67564e53be722e6e86e6d2c1%22%20style%3D%22width%3A%20100.0%25%3B%20height%3A%20100.0%25%3B%22%3EThe%20Sovereign%3C/div%3E%60%29%5B0%5D%3B%0A%20%20%20%20%20%20%20%20%20%20%20%20popup_bc264056b8b6435dbdbfe60cd3f15d5a.setContent%28html_caea4c1e67564e53be722e6e86e6d2c1%29%3B%0A%20%20%20%20%20%20%20%20%0A%0A%20%20%20%20%20%20%20%20circle_marker_9285cfe1ea0143e4ad98a7310bb0adb0.bindPopup%28popup_bc264056b8b6435dbdbfe60cd3f15d5a%29%0A%20%20%20%20%20%20%20%20%3B%0A%0A%20%20%20%20%20%20%20%20%0A%20%20%20%20%0A%20%20%20%20%0A%20%20%20%20%20%20%20%20%20%20%20%20var%20circle_marker_2adbda47c8b64b6f87c6cd9cc36d005b%20%3D%20L.circleMarker%28%0A%20%20%20%20%20%20%20%20%20%20%20%20%20%20%20%20%5B43.649233%2C%20-79.378113%5D%2C%0A%20%20%20%20%20%20%20%20%20%20%20%20%20%20%20%20%7B%22bubblingMouseEvents%22%3A%20true%2C%20%22color%22%3A%20%22%23000080%22%2C%20%22dashArray%22%3A%20null%2C%20%22dashOffset%22%3A%20null%2C%20%22fill%22%3A%20true%2C%20%22fillColor%22%3A%20%22%23000080%22%2C%20%22fillOpacity%22%3A%200.7%2C%20%22fillRule%22%3A%20%22evenodd%22%2C%20%22lineCap%22%3A%20%22round%22%2C%20%22lineJoin%22%3A%20%22round%22%2C%20%22opacity%22%3A%201.0%2C%20%22radius%22%3A%205%2C%20%22stroke%22%3A%20true%2C%20%22weight%22%3A%203%7D%0A%20%20%20%20%20%20%20%20%20%20%20%20%29.addTo%28map_af0f37553989406fa15adf20abdf6a40%29%3B%0A%20%20%20%20%20%20%20%20%0A%20%20%20%20%0A%20%20%20%20%20%20%20%20var%20popup_83cc679253ee4e6884d7920e3d0601e1%20%3D%20L.popup%28%7B%22maxWidth%22%3A%20%22100%25%22%7D%29%3B%0A%0A%20%20%20%20%20%20%20%20%0A%20%20%20%20%20%20%20%20%20%20%20%20var%20html_db9747469f54413f8c0b65580e448645%20%3D%20%24%28%60%3Cdiv%20id%3D%22html_db9747469f54413f8c0b65580e448645%22%20style%3D%22width%3A%20100.0%25%3B%20height%3A%20100.0%25%3B%22%3EStarbucks%3Cbr%3ECluster%201%3C/div%3E%60%29%5B0%5D%3B%0A%20%20%20%20%20%20%20%20%20%20%20%20popup_83cc679253ee4e6884d7920e3d0601e1.setContent%28html_db9747469f54413f8c0b65580e448645%29%3B%0A%20%20%20%20%20%20%20%20%0A%0A%20%20%20%20%20%20%20%20circle_marker_2adbda47c8b64b6f87c6cd9cc36d005b.bindPopup%28popup_83cc679253ee4e6884d7920e3d0601e1%29%0A%20%20%20%20%20%20%20%20%3B%0A%0A%20%20%20%20%20%20%20%20%0A%20%20%20%20%0A%20%20%20%20%0A%20%20%20%20%20%20%20%20%20%20%20%20var%20circle_marker_ce2837cde5b24289b75e21c9d5d31dd7%20%3D%20L.circleMarker%28%0A%20%20%20%20%20%20%20%20%20%20%20%20%20%20%20%20%5B43.650638%2C%20-79.450565%5D%2C%0A%20%20%20%20%20%20%20%20%20%20%20%20%20%20%20%20%7B%22bubblingMouseEvents%22%3A%20true%2C%20%22color%22%3A%20%22red%22%2C%20%22dashArray%22%3A%20null%2C%20%22dashOffset%22%3A%20null%2C%20%22fill%22%3A%20true%2C%20%22fillColor%22%3A%20%22red%22%2C%20%22fillOpacity%22%3A%200.7%2C%20%22fillRule%22%3A%20%22evenodd%22%2C%20%22lineCap%22%3A%20%22round%22%2C%20%22lineJoin%22%3A%20%22round%22%2C%20%22opacity%22%3A%201.0%2C%20%22radius%22%3A%205%2C%20%22stroke%22%3A%20true%2C%20%22weight%22%3A%203%7D%0A%20%20%20%20%20%20%20%20%20%20%20%20%29.addTo%28map_af0f37553989406fa15adf20abdf6a40%29%3B%0A%20%20%20%20%20%20%20%20%0A%20%20%20%20%0A%20%20%20%20%20%20%20%20var%20popup_35f0a27545954411a17d7b6b859a8fbc%20%3D%20L.popup%28%7B%22maxWidth%22%3A%20%22100%25%22%7D%29%3B%0A%0A%20%20%20%20%20%20%20%20%0A%20%20%20%20%20%20%20%20%20%20%20%20var%20html_153bf606b54a4dc7815cd5d3cc84752f%20%3D%20%24%28%60%3Cdiv%20id%3D%22html_153bf606b54a4dc7815cd5d3cc84752f%22%20style%3D%22width%3A%20100.0%25%3B%20height%3A%20100.0%25%3B%22%3EReunion%20Island%20Coffee%20Bar%3C/div%3E%60%29%5B0%5D%3B%0A%20%20%20%20%20%20%20%20%20%20%20%20popup_35f0a27545954411a17d7b6b859a8fbc.setContent%28html_153bf606b54a4dc7815cd5d3cc84752f%29%3B%0A%20%20%20%20%20%20%20%20%0A%0A%20%20%20%20%20%20%20%20circle_marker_ce2837cde5b24289b75e21c9d5d31dd7.bindPopup%28popup_35f0a27545954411a17d7b6b859a8fbc%29%0A%20%20%20%20%20%20%20%20%3B%0A%0A%20%20%20%20%20%20%20%20%0A%20%20%20%20%0A%20%20%20%20%0A%20%20%20%20%20%20%20%20%20%20%20%20var%20circle_marker_725f6d29a0fe4ef2adfa8082f4b77155%20%3D%20L.circleMarker%28%0A%20%20%20%20%20%20%20%20%20%20%20%20%20%20%20%20%5B43.669116%2C%20-79.336802%5D%2C%0A%20%20%20%20%20%20%20%20%20%20%20%20%20%20%20%20%7B%22bubblingMouseEvents%22%3A%20true%2C%20%22color%22%3A%20%22%23000080%22%2C%20%22dashArray%22%3A%20null%2C%20%22dashOffset%22%3A%20null%2C%20%22fill%22%3A%20true%2C%20%22fillColor%22%3A%20%22%23000080%22%2C%20%22fillOpacity%22%3A%200.7%2C%20%22fillRule%22%3A%20%22evenodd%22%2C%20%22lineCap%22%3A%20%22round%22%2C%20%22lineJoin%22%3A%20%22round%22%2C%20%22opacity%22%3A%201.0%2C%20%22radius%22%3A%205%2C%20%22stroke%22%3A%20true%2C%20%22weight%22%3A%203%7D%0A%20%20%20%20%20%20%20%20%20%20%20%20%29.addTo%28map_af0f37553989406fa15adf20abdf6a40%29%3B%0A%20%20%20%20%20%20%20%20%0A%20%20%20%20%0A%20%20%20%20%20%20%20%20var%20popup_d66a1b60613d4e6db6342dfb89440eda%20%3D%20L.popup%28%7B%22maxWidth%22%3A%20%22100%25%22%7D%29%3B%0A%0A%20%20%20%20%20%20%20%20%0A%20%20%20%20%20%20%20%20%20%20%20%20var%20html_4e02780505b04706918f3df06c46556b%20%3D%20%24%28%60%3Cdiv%20id%3D%22html_4e02780505b04706918f3df06c46556b%22%20style%3D%22width%3A%20100.0%25%3B%20height%3A%20100.0%25%3B%22%3EDineen%20Outpost%3Cbr%3ECluster%201%3C/div%3E%60%29%5B0%5D%3B%0A%20%20%20%20%20%20%20%20%20%20%20%20popup_d66a1b60613d4e6db6342dfb89440eda.setContent%28html_4e02780505b04706918f3df06c46556b%29%3B%0A%20%20%20%20%20%20%20%20%0A%0A%20%20%20%20%20%20%20%20circle_marker_725f6d29a0fe4ef2adfa8082f4b77155.bindPopup%28popup_d66a1b60613d4e6db6342dfb89440eda%29%0A%20%20%20%20%20%20%20%20%3B%0A%0A%20%20%20%20%20%20%20%20%0A%20%20%20%20%0A%20%20%20%20%0A%20%20%20%20%20%20%20%20%20%20%20%20var%20circle_marker_273067f4e70f4c6c9e3266ba82009d5c%20%3D%20L.circleMarker%28%0A%20%20%20%20%20%20%20%20%20%20%20%20%20%20%20%20%5B43.680772%2C%20-79.429257%5D%2C%0A%20%20%20%20%20%20%20%20%20%20%20%20%20%20%20%20%7B%22bubblingMouseEvents%22%3A%20true%2C%20%22color%22%3A%20%22red%22%2C%20%22dashArray%22%3A%20null%2C%20%22dashOffset%22%3A%20null%2C%20%22fill%22%3A%20true%2C%20%22fillColor%22%3A%20%22red%22%2C%20%22fillOpacity%22%3A%200.7%2C%20%22fillRule%22%3A%20%22evenodd%22%2C%20%22lineCap%22%3A%20%22round%22%2C%20%22lineJoin%22%3A%20%22round%22%2C%20%22opacity%22%3A%201.0%2C%20%22radius%22%3A%205%2C%20%22stroke%22%3A%20true%2C%20%22weight%22%3A%203%7D%0A%20%20%20%20%20%20%20%20%20%20%20%20%29.addTo%28map_af0f37553989406fa15adf20abdf6a40%29%3B%0A%20%20%20%20%20%20%20%20%0A%20%20%20%20%0A%20%20%20%20%20%20%20%20var%20popup_d306c5f4af0341869f95bc584bb05274%20%3D%20L.popup%28%7B%22maxWidth%22%3A%20%22100%25%22%7D%29%3B%0A%0A%20%20%20%20%20%20%20%20%0A%20%20%20%20%20%20%20%20%20%20%20%20var%20html_c080213c6c384c6dafb73c759ac880ef%20%3D%20%24%28%60%3Cdiv%20id%3D%22html_c080213c6c384c6dafb73c759ac880ef%22%20style%3D%22width%3A%20100.0%25%3B%20height%3A%20100.0%25%3B%22%3EKrave%20Coffee%3C/div%3E%60%29%5B0%5D%3B%0A%20%20%20%20%20%20%20%20%20%20%20%20popup_d306c5f4af0341869f95bc584bb05274.setContent%28html_c080213c6c384c6dafb73c759ac880ef%29%3B%0A%20%20%20%20%20%20%20%20%0A%0A%20%20%20%20%20%20%20%20circle_marker_273067f4e70f4c6c9e3266ba82009d5c.bindPopup%28popup_d306c5f4af0341869f95bc584bb05274%29%0A%20%20%20%20%20%20%20%20%3B%0A%0A%20%20%20%20%20%20%20%20%0A%20%20%20%20%0A%20%20%20%20%0A%20%20%20%20%20%20%20%20%20%20%20%20var%20circle_marker_4efd3e1e004e43c583bc64ab97bed468%20%3D%20L.circleMarker%28%0A%20%20%20%20%20%20%20%20%20%20%20%20%20%20%20%20%5B43.63882%2C%20-79.419455%5D%2C%0A%20%20%20%20%20%20%20%20%20%20%20%20%20%20%20%20%7B%22bubblingMouseEvents%22%3A%20true%2C%20%22color%22%3A%20%22%23000080%22%2C%20%22dashArray%22%3A%20null%2C%20%22dashOffset%22%3A%20null%2C%20%22fill%22%3A%20true%2C%20%22fillColor%22%3A%20%22%23000080%22%2C%20%22fillOpacity%22%3A%200.7%2C%20%22fillRule%22%3A%20%22evenodd%22%2C%20%22lineCap%22%3A%20%22round%22%2C%20%22lineJoin%22%3A%20%22round%22%2C%20%22opacity%22%3A%201.0%2C%20%22radius%22%3A%205%2C%20%22stroke%22%3A%20true%2C%20%22weight%22%3A%203%7D%0A%20%20%20%20%20%20%20%20%20%20%20%20%29.addTo%28map_af0f37553989406fa15adf20abdf6a40%29%3B%0A%20%20%20%20%20%20%20%20%0A%20%20%20%20%0A%20%20%20%20%20%20%20%20var%20popup_9c94ed25093a4247aec72caf485f1bc0%20%3D%20L.popup%28%7B%22maxWidth%22%3A%20%22100%25%22%7D%29%3B%0A%0A%20%20%20%20%20%20%20%20%0A%20%20%20%20%20%20%20%20%20%20%20%20var%20html_3e442fb6256847beb0ddbaa3ac31bcf8%20%3D%20%24%28%60%3Cdiv%20id%3D%22html_3e442fb6256847beb0ddbaa3ac31bcf8%22%20style%3D%22width%3A%20100.0%25%3B%20height%3A%20100.0%25%3B%22%3EBalzac%27s%20Coffee%20Roasters%3Cbr%3ECluster%201%3C/div%3E%60%29%5B0%5D%3B%0A%20%20%20%20%20%20%20%20%20%20%20%20popup_9c94ed25093a4247aec72caf485f1bc0.setContent%28html_3e442fb6256847beb0ddbaa3ac31bcf8%29%3B%0A%20%20%20%20%20%20%20%20%0A%0A%20%20%20%20%20%20%20%20circle_marker_4efd3e1e004e43c583bc64ab97bed468.bindPopup%28popup_9c94ed25093a4247aec72caf485f1bc0%29%0A%20%20%20%20%20%20%20%20%3B%0A%0A%20%20%20%20%20%20%20%20%0A%20%20%20%20%0A%20%20%20%20%0A%20%20%20%20%20%20%20%20%20%20%20%20var%20circle_marker_77239403e9eb4ab589d6dd4b18bcabef%20%3D%20L.circleMarker%28%0A%20%20%20%20%20%20%20%20%20%20%20%20%20%20%20%20%5B43.627925%2C%20-79.489347%5D%2C%0A%20%20%20%20%20%20%20%20%20%20%20%20%20%20%20%20%7B%22bubblingMouseEvents%22%3A%20true%2C%20%22color%22%3A%20%22red%22%2C%20%22dashArray%22%3A%20null%2C%20%22dashOffset%22%3A%20null%2C%20%22fill%22%3A%20true%2C%20%22fillColor%22%3A%20%22red%22%2C%20%22fillOpacity%22%3A%200.7%2C%20%22fillRule%22%3A%20%22evenodd%22%2C%20%22lineCap%22%3A%20%22round%22%2C%20%22lineJoin%22%3A%20%22round%22%2C%20%22opacity%22%3A%201.0%2C%20%22radius%22%3A%205%2C%20%22stroke%22%3A%20true%2C%20%22weight%22%3A%203%7D%0A%20%20%20%20%20%20%20%20%20%20%20%20%29.addTo%28map_af0f37553989406fa15adf20abdf6a40%29%3B%0A%20%20%20%20%20%20%20%20%0A%20%20%20%20%0A%20%20%20%20%20%20%20%20var%20popup_5c80c4a25efc4f2db84c91aa9ad45e14%20%3D%20L.popup%28%7B%22maxWidth%22%3A%20%22100%25%22%7D%29%3B%0A%0A%20%20%20%20%20%20%20%20%0A%20%20%20%20%20%20%20%20%20%20%20%20var%20html_51f8f7cb24394ec09e0078e9f643ef8b%20%3D%20%24%28%60%3Cdiv%20id%3D%22html_51f8f7cb24394ec09e0078e9f643ef8b%22%20style%3D%22width%3A%20100.0%25%3B%20height%3A%20100.0%25%3B%22%3EStarbucks%3C/div%3E%60%29%5B0%5D%3B%0A%20%20%20%20%20%20%20%20%20%20%20%20popup_5c80c4a25efc4f2db84c91aa9ad45e14.setContent%28html_51f8f7cb24394ec09e0078e9f643ef8b%29%3B%0A%20%20%20%20%20%20%20%20%0A%0A%20%20%20%20%20%20%20%20circle_marker_77239403e9eb4ab589d6dd4b18bcabef.bindPopup%28popup_5c80c4a25efc4f2db84c91aa9ad45e14%29%0A%20%20%20%20%20%20%20%20%3B%0A%0A%20%20%20%20%20%20%20%20%0A%20%20%20%20%0A%20%20%20%20%0A%20%20%20%20%20%20%20%20%20%20%20%20var%20circle_marker_68cf0052e2bc4d1c9989c561bc6ed42c%20%3D%20L.circleMarker%28%0A%20%20%20%20%20%20%20%20%20%20%20%20%20%20%20%20%5B43.646623%2C%20-79.419441%5D%2C%0A%20%20%20%20%20%20%20%20%20%20%20%20%20%20%20%20%7B%22bubblingMouseEvents%22%3A%20true%2C%20%22color%22%3A%20%22%23000080%22%2C%20%22dashArray%22%3A%20null%2C%20%22dashOffset%22%3A%20null%2C%20%22fill%22%3A%20true%2C%20%22fillColor%22%3A%20%22%23000080%22%2C%20%22fillOpacity%22%3A%200.7%2C%20%22fillRule%22%3A%20%22evenodd%22%2C%20%22lineCap%22%3A%20%22round%22%2C%20%22lineJoin%22%3A%20%22round%22%2C%20%22opacity%22%3A%201.0%2C%20%22radius%22%3A%205%2C%20%22stroke%22%3A%20true%2C%20%22weight%22%3A%203%7D%0A%20%20%20%20%20%20%20%20%20%20%20%20%29.addTo%28map_af0f37553989406fa15adf20abdf6a40%29%3B%0A%20%20%20%20%20%20%20%20%0A%20%20%20%20%0A%20%20%20%20%20%20%20%20var%20popup_d65203813eed4cb7939a18826e16971e%20%3D%20L.popup%28%7B%22maxWidth%22%3A%20%22100%25%22%7D%29%3B%0A%0A%20%20%20%20%20%20%20%20%0A%20%20%20%20%20%20%20%20%20%20%20%20var%20html_1779adbae40a477aba0bd53eaf7e58cf%20%3D%20%24%28%60%3Cdiv%20id%3D%22html_1779adbae40a477aba0bd53eaf7e58cf%22%20style%3D%22width%3A%20100.0%25%3B%20height%3A%20100.0%25%3B%22%3EPilot%20Coffee%20Roasters%3Cbr%3ECluster%201%3C/div%3E%60%29%5B0%5D%3B%0A%20%20%20%20%20%20%20%20%20%20%20%20popup_d65203813eed4cb7939a18826e16971e.setContent%28html_1779adbae40a477aba0bd53eaf7e58cf%29%3B%0A%20%20%20%20%20%20%20%20%0A%0A%20%20%20%20%20%20%20%20circle_marker_68cf0052e2bc4d1c9989c561bc6ed42c.bindPopup%28popup_d65203813eed4cb7939a18826e16971e%29%0A%20%20%20%20%20%20%20%20%3B%0A%0A%20%20%20%20%20%20%20%20%0A%20%20%20%20%0A%20%20%20%20%0A%20%20%20%20%20%20%20%20%20%20%20%20var%20circle_marker_7389b0039159464b8d769bbfb56f55eb%20%3D%20L.circleMarker%28%0A%20%20%20%20%20%20%20%20%20%20%20%20%20%20%20%20%5B43.651103%2C%20-79.477943%5D%2C%0A%20%20%20%20%20%20%20%20%20%20%20%20%20%20%20%20%7B%22bubblingMouseEvents%22%3A%20true%2C%20%22color%22%3A%20%22red%22%2C%20%22dashArray%22%3A%20null%2C%20%22dashOffset%22%3A%20null%2C%20%22fill%22%3A%20true%2C%20%22fillColor%22%3A%20%22red%22%2C%20%22fillOpacity%22%3A%200.7%2C%20%22fillRule%22%3A%20%22evenodd%22%2C%20%22lineCap%22%3A%20%22round%22%2C%20%22lineJoin%22%3A%20%22round%22%2C%20%22opacity%22%3A%201.0%2C%20%22radius%22%3A%205%2C%20%22stroke%22%3A%20true%2C%20%22weight%22%3A%203%7D%0A%20%20%20%20%20%20%20%20%20%20%20%20%29.addTo%28map_af0f37553989406fa15adf20abdf6a40%29%3B%0A%20%20%20%20%20%20%20%20%0A%20%20%20%20%0A%20%20%20%20%20%20%20%20var%20popup_3c95004b48ed4c93b74f5c6827b092ff%20%3D%20L.popup%28%7B%22maxWidth%22%3A%20%22100%25%22%7D%29%3B%0A%0A%20%20%20%20%20%20%20%20%0A%20%20%20%20%20%20%20%20%20%20%20%20var%20html_60579fad329c40c9b165a0c34bd89633%20%3D%20%24%28%60%3Cdiv%20id%3D%22html_60579fad329c40c9b165a0c34bd89633%22%20style%3D%22width%3A%20100.0%25%3B%20height%3A%20100.0%25%3B%22%3EZaza%20Espresso%20Bar%3C/div%3E%60%29%5B0%5D%3B%0A%20%20%20%20%20%20%20%20%20%20%20%20popup_3c95004b48ed4c93b74f5c6827b092ff.setContent%28html_60579fad329c40c9b165a0c34bd89633%29%3B%0A%20%20%20%20%20%20%20%20%0A%0A%20%20%20%20%20%20%20%20circle_marker_7389b0039159464b8d769bbfb56f55eb.bindPopup%28popup_3c95004b48ed4c93b74f5c6827b092ff%29%0A%20%20%20%20%20%20%20%20%3B%0A%0A%20%20%20%20%20%20%20%20%0A%20%20%20%20%0A%20%20%20%20%0A%20%20%20%20%20%20%20%20%20%20%20%20var%20circle_marker_327f3710b56749d8990fbca3c74d9dec%20%3D%20L.circleMarker%28%0A%20%20%20%20%20%20%20%20%20%20%20%20%20%20%20%20%5B43.668142%2C%20-79.397583%5D%2C%0A%20%20%20%20%20%20%20%20%20%20%20%20%20%20%20%20%7B%22bubblingMouseEvents%22%3A%20true%2C%20%22color%22%3A%20%22%23000080%22%2C%20%22dashArray%22%3A%20null%2C%20%22dashOffset%22%3A%20null%2C%20%22fill%22%3A%20true%2C%20%22fillColor%22%3A%20%22%23000080%22%2C%20%22fillOpacity%22%3A%200.7%2C%20%22fillRule%22%3A%20%22evenodd%22%2C%20%22lineCap%22%3A%20%22round%22%2C%20%22lineJoin%22%3A%20%22round%22%2C%20%22opacity%22%3A%201.0%2C%20%22radius%22%3A%205%2C%20%22stroke%22%3A%20true%2C%20%22weight%22%3A%203%7D%0A%20%20%20%20%20%20%20%20%20%20%20%20%29.addTo%28map_af0f37553989406fa15adf20abdf6a40%29%3B%0A%20%20%20%20%20%20%20%20%0A%20%20%20%20%0A%20%20%20%20%20%20%20%20var%20popup_1ca032c64abc4ef1a3f57147c8290c82%20%3D%20L.popup%28%7B%22maxWidth%22%3A%20%22100%25%22%7D%29%3B%0A%0A%20%20%20%20%20%20%20%20%0A%20%20%20%20%20%20%20%20%20%20%20%20var%20html_e5f564f2a1ca4612bbfa2ead7d567245%20%3D%20%24%28%60%3Cdiv%20id%3D%22html_e5f564f2a1ca4612bbfa2ead7d567245%22%20style%3D%22width%3A%20100.0%25%3B%20height%3A%20100.0%25%3B%22%3ETim%20Hortons%3Cbr%3ECluster%201%3C/div%3E%60%29%5B0%5D%3B%0A%20%20%20%20%20%20%20%20%20%20%20%20popup_1ca032c64abc4ef1a3f57147c8290c82.setContent%28html_e5f564f2a1ca4612bbfa2ead7d567245%29%3B%0A%20%20%20%20%20%20%20%20%0A%0A%20%20%20%20%20%20%20%20circle_marker_327f3710b56749d8990fbca3c74d9dec.bindPopup%28popup_1ca032c64abc4ef1a3f57147c8290c82%29%0A%20%20%20%20%20%20%20%20%3B%0A%0A%20%20%20%20%20%20%20%20%0A%20%20%20%20%0A%20%20%20%20%0A%20%20%20%20%20%20%20%20%20%20%20%20var%20circle_marker_8003e17edc7949b1808420e03e13bbb0%20%3D%20L.circleMarker%28%0A%20%20%20%20%20%20%20%20%20%20%20%20%20%20%20%20%5B43.652065%2C%20-79.379311%5D%2C%0A%20%20%20%20%20%20%20%20%20%20%20%20%20%20%20%20%7B%22bubblingMouseEvents%22%3A%20true%2C%20%22color%22%3A%20%22%23000080%22%2C%20%22dashArray%22%3A%20null%2C%20%22dashOffset%22%3A%20null%2C%20%22fill%22%3A%20true%2C%20%22fillColor%22%3A%20%22%23000080%22%2C%20%22fillOpacity%22%3A%200.7%2C%20%22fillRule%22%3A%20%22evenodd%22%2C%20%22lineCap%22%3A%20%22round%22%2C%20%22lineJoin%22%3A%20%22round%22%2C%20%22opacity%22%3A%201.0%2C%20%22radius%22%3A%205%2C%20%22stroke%22%3A%20true%2C%20%22weight%22%3A%203%7D%0A%20%20%20%20%20%20%20%20%20%20%20%20%29.addTo%28map_af0f37553989406fa15adf20abdf6a40%29%3B%0A%20%20%20%20%20%20%20%20%0A%20%20%20%20%0A%20%20%20%20%20%20%20%20var%20popup_8c6895b5e41243ce8da74c6e6e0d0170%20%3D%20L.popup%28%7B%22maxWidth%22%3A%20%22100%25%22%7D%29%3B%0A%0A%20%20%20%20%20%20%20%20%0A%20%20%20%20%20%20%20%20%20%20%20%20var%20html_e808243234ee4a0ebe9864d0f1cbbab5%20%3D%20%24%28%60%3Cdiv%20id%3D%22html_e808243234ee4a0ebe9864d0f1cbbab5%22%20style%3D%22width%3A%20100.0%25%3B%20height%3A%20100.0%25%3B%22%3ENespresso%3Cbr%3ECluster%201%3C/div%3E%60%29%5B0%5D%3B%0A%20%20%20%20%20%20%20%20%20%20%20%20popup_8c6895b5e41243ce8da74c6e6e0d0170.setContent%28html_e808243234ee4a0ebe9864d0f1cbbab5%29%3B%0A%20%20%20%20%20%20%20%20%0A%0A%20%20%20%20%20%20%20%20circle_marker_8003e17edc7949b1808420e03e13bbb0.bindPopup%28popup_8c6895b5e41243ce8da74c6e6e0d0170%29%0A%20%20%20%20%20%20%20%20%3B%0A%0A%20%20%20%20%20%20%20%20%0A%20%20%20%20%0A%20%20%20%20%0A%20%20%20%20%20%20%20%20%20%20%20%20var%20circle_marker_3810536734f74dcdab648d1ed554ddca%20%3D%20L.circleMarker%28%0A%20%20%20%20%20%20%20%20%20%20%20%20%20%20%20%20%5B43.689084%2C%20-79.413044%5D%2C%0A%20%20%20%20%20%20%20%20%20%20%20%20%20%20%20%20%7B%22bubblingMouseEvents%22%3A%20true%2C%20%22color%22%3A%20%22red%22%2C%20%22dashArray%22%3A%20null%2C%20%22dashOffset%22%3A%20null%2C%20%22fill%22%3A%20true%2C%20%22fillColor%22%3A%20%22red%22%2C%20%22fillOpacity%22%3A%200.7%2C%20%22fillRule%22%3A%20%22evenodd%22%2C%20%22lineCap%22%3A%20%22round%22%2C%20%22lineJoin%22%3A%20%22round%22%2C%20%22opacity%22%3A%201.0%2C%20%22radius%22%3A%205%2C%20%22stroke%22%3A%20true%2C%20%22weight%22%3A%203%7D%0A%20%20%20%20%20%20%20%20%20%20%20%20%29.addTo%28map_af0f37553989406fa15adf20abdf6a40%29%3B%0A%20%20%20%20%20%20%20%20%0A%20%20%20%20%0A%20%20%20%20%20%20%20%20var%20popup_6954facc055e4d8ebb712590dac2b971%20%3D%20L.popup%28%7B%22maxWidth%22%3A%20%22100%25%22%7D%29%3B%0A%0A%20%20%20%20%20%20%20%20%0A%20%20%20%20%20%20%20%20%20%20%20%20var%20html_1f3aa073371043c1adc636c6d06b1277%20%3D%20%24%28%60%3Cdiv%20id%3D%22html_1f3aa073371043c1adc636c6d06b1277%22%20style%3D%22width%3A%20100.0%25%3B%20height%3A%20100.0%25%3B%22%3EStarbucks%3C/div%3E%60%29%5B0%5D%3B%0A%20%20%20%20%20%20%20%20%20%20%20%20popup_6954facc055e4d8ebb712590dac2b971.setContent%28html_1f3aa073371043c1adc636c6d06b1277%29%3B%0A%20%20%20%20%20%20%20%20%0A%0A%20%20%20%20%20%20%20%20circle_marker_3810536734f74dcdab648d1ed554ddca.bindPopup%28popup_6954facc055e4d8ebb712590dac2b971%29%0A%20%20%20%20%20%20%20%20%3B%0A%0A%20%20%20%20%20%20%20%20%0A%20%20%20%20%0A%20%20%20%20%0A%20%20%20%20%20%20%20%20%20%20%20%20var%20circle_marker_84cb888928164afcb1bb1fcc6813887e%20%3D%20L.circleMarker%28%0A%20%20%20%20%20%20%20%20%20%20%20%20%20%20%20%20%5B43.647961%2C%20-79.373984%5D%2C%0A%20%20%20%20%20%20%20%20%20%20%20%20%20%20%20%20%7B%22bubblingMouseEvents%22%3A%20true%2C%20%22color%22%3A%20%22%23000080%22%2C%20%22dashArray%22%3A%20null%2C%20%22dashOffset%22%3A%20null%2C%20%22fill%22%3A%20true%2C%20%22fillColor%22%3A%20%22%23000080%22%2C%20%22fillOpacity%22%3A%200.7%2C%20%22fillRule%22%3A%20%22evenodd%22%2C%20%22lineCap%22%3A%20%22round%22%2C%20%22lineJoin%22%3A%20%22round%22%2C%20%22opacity%22%3A%201.0%2C%20%22radius%22%3A%205%2C%20%22stroke%22%3A%20true%2C%20%22weight%22%3A%203%7D%0A%20%20%20%20%20%20%20%20%20%20%20%20%29.addTo%28map_af0f37553989406fa15adf20abdf6a40%29%3B%0A%20%20%20%20%20%20%20%20%0A%20%20%20%20%0A%20%20%20%20%20%20%20%20var%20popup_8f1ef82faa5a4544b89e24a8a07fe97f%20%3D%20L.popup%28%7B%22maxWidth%22%3A%20%22100%25%22%7D%29%3B%0A%0A%20%20%20%20%20%20%20%20%0A%20%20%20%20%20%20%20%20%20%20%20%20var%20html_2c9531221024411cb95a3f4d0e41efb3%20%3D%20%24%28%60%3Cdiv%20id%3D%22html_2c9531221024411cb95a3f4d0e41efb3%22%20style%3D%22width%3A%20100.0%25%3B%20height%3A%20100.0%25%3B%22%3ETim%20Hortons%3Cbr%3ECluster%201%3C/div%3E%60%29%5B0%5D%3B%0A%20%20%20%20%20%20%20%20%20%20%20%20popup_8f1ef82faa5a4544b89e24a8a07fe97f.setContent%28html_2c9531221024411cb95a3f4d0e41efb3%29%3B%0A%20%20%20%20%20%20%20%20%0A%0A%20%20%20%20%20%20%20%20circle_marker_84cb888928164afcb1bb1fcc6813887e.bindPopup%28popup_8f1ef82faa5a4544b89e24a8a07fe97f%29%0A%20%20%20%20%20%20%20%20%3B%0A%0A%20%20%20%20%20%20%20%20%0A%20%20%20%20%0A%20%20%20%20%0A%20%20%20%20%20%20%20%20%20%20%20%20var%20circle_marker_658e981cde7744c7878246476bf179e4%20%3D%20L.circleMarker%28%0A%20%20%20%20%20%20%20%20%20%20%20%20%20%20%20%20%5B43.628192%2C%20-79.48953%5D%2C%0A%20%20%20%20%20%20%20%20%20%20%20%20%20%20%20%20%7B%22bubblingMouseEvents%22%3A%20true%2C%20%22color%22%3A%20%22red%22%2C%20%22dashArray%22%3A%20null%2C%20%22dashOffset%22%3A%20null%2C%20%22fill%22%3A%20true%2C%20%22fillColor%22%3A%20%22red%22%2C%20%22fillOpacity%22%3A%200.7%2C%20%22fillRule%22%3A%20%22evenodd%22%2C%20%22lineCap%22%3A%20%22round%22%2C%20%22lineJoin%22%3A%20%22round%22%2C%20%22opacity%22%3A%201.0%2C%20%22radius%22%3A%205%2C%20%22stroke%22%3A%20true%2C%20%22weight%22%3A%203%7D%0A%20%20%20%20%20%20%20%20%20%20%20%20%29.addTo%28map_af0f37553989406fa15adf20abdf6a40%29%3B%0A%20%20%20%20%20%20%20%20%0A%20%20%20%20%0A%20%20%20%20%20%20%20%20var%20popup_749dc7d1e64b4b019be5831ed3effb53%20%3D%20L.popup%28%7B%22maxWidth%22%3A%20%22100%25%22%7D%29%3B%0A%0A%20%20%20%20%20%20%20%20%0A%20%20%20%20%20%20%20%20%20%20%20%20var%20html_47904fdbe4a44a88a2804c53c4a792f0%20%3D%20%24%28%60%3Cdiv%20id%3D%22html_47904fdbe4a44a88a2804c53c4a792f0%22%20style%3D%22width%3A%20100.0%25%3B%20height%3A%20100.0%25%3B%22%3ETim%20Hortons%3C/div%3E%60%29%5B0%5D%3B%0A%20%20%20%20%20%20%20%20%20%20%20%20popup_749dc7d1e64b4b019be5831ed3effb53.setContent%28html_47904fdbe4a44a88a2804c53c4a792f0%29%3B%0A%20%20%20%20%20%20%20%20%0A%0A%20%20%20%20%20%20%20%20circle_marker_658e981cde7744c7878246476bf179e4.bindPopup%28popup_749dc7d1e64b4b019be5831ed3effb53%29%0A%20%20%20%20%20%20%20%20%3B%0A%0A%20%20%20%20%20%20%20%20%0A%20%20%20%20%0A%20%20%20%20%0A%20%20%20%20%20%20%20%20%20%20%20%20var%20circle_marker_2307c26d6bec47838b6bad7afef72c71%20%3D%20L.circleMarker%28%0A%20%20%20%20%20%20%20%20%20%20%20%20%20%20%20%20%5B43.709348%2C%20-79.399293%5D%2C%0A%20%20%20%20%20%20%20%20%20%20%20%20%20%20%20%20%7B%22bubblingMouseEvents%22%3A%20true%2C%20%22color%22%3A%20%22red%22%2C%20%22dashArray%22%3A%20null%2C%20%22dashOffset%22%3A%20null%2C%20%22fill%22%3A%20true%2C%20%22fillColor%22%3A%20%22red%22%2C%20%22fillOpacity%22%3A%200.7%2C%20%22fillRule%22%3A%20%22evenodd%22%2C%20%22lineCap%22%3A%20%22round%22%2C%20%22lineJoin%22%3A%20%22round%22%2C%20%22opacity%22%3A%201.0%2C%20%22radius%22%3A%205%2C%20%22stroke%22%3A%20true%2C%20%22weight%22%3A%203%7D%0A%20%20%20%20%20%20%20%20%20%20%20%20%29.addTo%28map_af0f37553989406fa15adf20abdf6a40%29%3B%0A%20%20%20%20%20%20%20%20%0A%20%20%20%20%0A%20%20%20%20%20%20%20%20var%20popup_babbda37f442440a886024fbd8c018f0%20%3D%20L.popup%28%7B%22maxWidth%22%3A%20%22100%25%22%7D%29%3B%0A%0A%20%20%20%20%20%20%20%20%0A%20%20%20%20%20%20%20%20%20%20%20%20var%20html_3b86b96f79044311a91860c6207ab1f7%20%3D%20%24%28%60%3Cdiv%20id%3D%22html_3b86b96f79044311a91860c6207ab1f7%22%20style%3D%22width%3A%20100.0%25%3B%20height%3A%20100.0%25%3B%22%3EStock%20T.C%3C/div%3E%60%29%5B0%5D%3B%0A%20%20%20%20%20%20%20%20%20%20%20%20popup_babbda37f442440a886024fbd8c018f0.setContent%28html_3b86b96f79044311a91860c6207ab1f7%29%3B%0A%20%20%20%20%20%20%20%20%0A%0A%20%20%20%20%20%20%20%20circle_marker_2307c26d6bec47838b6bad7afef72c71.bindPopup%28popup_babbda37f442440a886024fbd8c018f0%29%0A%20%20%20%20%20%20%20%20%3B%0A%0A%20%20%20%20%20%20%20%20%0A%20%20%20%20%0A%20%20%20%20%0A%20%20%20%20%20%20%20%20%20%20%20%20var%20circle_marker_c9374a1608ab4c7c91973a560bfa076e%20%3D%20L.circleMarker%28%0A%20%20%20%20%20%20%20%20%20%20%20%20%20%20%20%20%5B43.665336%2C%20-79.368143%5D%2C%0A%20%20%20%20%20%20%20%20%20%20%20%20%20%20%20%20%7B%22bubblingMouseEvents%22%3A%20true%2C%20%22color%22%3A%20%22%23000080%22%2C%20%22dashArray%22%3A%20null%2C%20%22dashOffset%22%3A%20null%2C%20%22fill%22%3A%20true%2C%20%22fillColor%22%3A%20%22%23000080%22%2C%20%22fillOpacity%22%3A%200.7%2C%20%22fillRule%22%3A%20%22evenodd%22%2C%20%22lineCap%22%3A%20%22round%22%2C%20%22lineJoin%22%3A%20%22round%22%2C%20%22opacity%22%3A%201.0%2C%20%22radius%22%3A%205%2C%20%22stroke%22%3A%20true%2C%20%22weight%22%3A%203%7D%0A%20%20%20%20%20%20%20%20%20%20%20%20%29.addTo%28map_af0f37553989406fa15adf20abdf6a40%29%3B%0A%20%20%20%20%20%20%20%20%0A%20%20%20%20%0A%20%20%20%20%20%20%20%20var%20popup_c06fd3f57aa748f0a44c0fdefa51bdf2%20%3D%20L.popup%28%7B%22maxWidth%22%3A%20%22100%25%22%7D%29%3B%0A%0A%20%20%20%20%20%20%20%20%0A%20%20%20%20%20%20%20%20%20%20%20%20var%20html_8b3f598d664e438da285a53023e1a570%20%3D%20%24%28%60%3Cdiv%20id%3D%22html_8b3f598d664e438da285a53023e1a570%22%20style%3D%22width%3A%20100.0%25%3B%20height%3A%20100.0%25%3B%22%3EJet%20Fuel%20Coffee%20Shop%20Inc%3Cbr%3ECluster%201%3C/div%3E%60%29%5B0%5D%3B%0A%20%20%20%20%20%20%20%20%20%20%20%20popup_c06fd3f57aa748f0a44c0fdefa51bdf2.setContent%28html_8b3f598d664e438da285a53023e1a570%29%3B%0A%20%20%20%20%20%20%20%20%0A%0A%20%20%20%20%20%20%20%20circle_marker_c9374a1608ab4c7c91973a560bfa076e.bindPopup%28popup_c06fd3f57aa748f0a44c0fdefa51bdf2%29%0A%20%20%20%20%20%20%20%20%3B%0A%0A%20%20%20%20%20%20%20%20%0A%20%20%20%20%0A%20%20%20%20%0A%20%20%20%20%20%20%20%20%20%20%20%20var%20circle_marker_0130a2c0382d4a85b5a031e2ed623837%20%3D%20L.circleMarker%28%0A%20%20%20%20%20%20%20%20%20%20%20%20%20%20%20%20%5B43.725227%2C%20-79.448889%5D%2C%0A%20%20%20%20%20%20%20%20%20%20%20%20%20%20%20%20%7B%22bubblingMouseEvents%22%3A%20true%2C%20%22color%22%3A%20%22red%22%2C%20%22dashArray%22%3A%20null%2C%20%22dashOffset%22%3A%20null%2C%20%22fill%22%3A%20true%2C%20%22fillColor%22%3A%20%22red%22%2C%20%22fillOpacity%22%3A%200.7%2C%20%22fillRule%22%3A%20%22evenodd%22%2C%20%22lineCap%22%3A%20%22round%22%2C%20%22lineJoin%22%3A%20%22round%22%2C%20%22opacity%22%3A%201.0%2C%20%22radius%22%3A%205%2C%20%22stroke%22%3A%20true%2C%20%22weight%22%3A%203%7D%0A%20%20%20%20%20%20%20%20%20%20%20%20%29.addTo%28map_af0f37553989406fa15adf20abdf6a40%29%3B%0A%20%20%20%20%20%20%20%20%0A%20%20%20%20%0A%20%20%20%20%20%20%20%20var%20popup_d1827cfba75c4fc9b19dd140931101a8%20%3D%20L.popup%28%7B%22maxWidth%22%3A%20%22100%25%22%7D%29%3B%0A%0A%20%20%20%20%20%20%20%20%0A%20%20%20%20%20%20%20%20%20%20%20%20var%20html_1750610fe8974797806330b8c2196745%20%3D%20%24%28%60%3Cdiv%20id%3D%22html_1750610fe8974797806330b8c2196745%22%20style%3D%22width%3A%20100.0%25%3B%20height%3A%20100.0%25%3B%22%3EStarbucks%3C/div%3E%60%29%5B0%5D%3B%0A%20%20%20%20%20%20%20%20%20%20%20%20popup_d1827cfba75c4fc9b19dd140931101a8.setContent%28html_1750610fe8974797806330b8c2196745%29%3B%0A%20%20%20%20%20%20%20%20%0A%0A%20%20%20%20%20%20%20%20circle_marker_0130a2c0382d4a85b5a031e2ed623837.bindPopup%28popup_d1827cfba75c4fc9b19dd140931101a8%29%0A%20%20%20%20%20%20%20%20%3B%0A%0A%20%20%20%20%20%20%20%20%0A%20%20%20%20%0A%20%20%20%20%0A%20%20%20%20%20%20%20%20%20%20%20%20var%20circle_marker_c46b9529dac04ddb8279997037c9a370%20%3D%20L.circleMarker%28%0A%20%20%20%20%20%20%20%20%20%20%20%20%20%20%20%20%5B43.639975%2C%20-79.381174%5D%2C%0A%20%20%20%20%20%20%20%20%20%20%20%20%20%20%20%20%7B%22bubblingMouseEvents%22%3A%20true%2C%20%22color%22%3A%20%22%23000080%22%2C%20%22dashArray%22%3A%20null%2C%20%22dashOffset%22%3A%20null%2C%20%22fill%22%3A%20true%2C%20%22fillColor%22%3A%20%22%23000080%22%2C%20%22fillOpacity%22%3A%200.7%2C%20%22fillRule%22%3A%20%22evenodd%22%2C%20%22lineCap%22%3A%20%22round%22%2C%20%22lineJoin%22%3A%20%22round%22%2C%20%22opacity%22%3A%201.0%2C%20%22radius%22%3A%205%2C%20%22stroke%22%3A%20true%2C%20%22weight%22%3A%203%7D%0A%20%20%20%20%20%20%20%20%20%20%20%20%29.addTo%28map_af0f37553989406fa15adf20abdf6a40%29%3B%0A%20%20%20%20%20%20%20%20%0A%20%20%20%20%0A%20%20%20%20%20%20%20%20var%20popup_4a8f5cb82ff34d4888498e6a6301517d%20%3D%20L.popup%28%7B%22maxWidth%22%3A%20%22100%25%22%7D%29%3B%0A%0A%20%20%20%20%20%20%20%20%0A%20%20%20%20%20%20%20%20%20%20%20%20var%20html_edf5ade4a8894a0f9532c04d1e091e5f%20%3D%20%24%28%60%3Cdiv%20id%3D%22html_edf5ade4a8894a0f9532c04d1e091e5f%22%20style%3D%22width%3A%20100.0%25%3B%20height%3A%20100.0%25%3B%22%3EStarbucks%3Cbr%3ECluster%201%3C/div%3E%60%29%5B0%5D%3B%0A%20%20%20%20%20%20%20%20%20%20%20%20popup_4a8f5cb82ff34d4888498e6a6301517d.setContent%28html_edf5ade4a8894a0f9532c04d1e091e5f%29%3B%0A%20%20%20%20%20%20%20%20%0A%0A%20%20%20%20%20%20%20%20circle_marker_c46b9529dac04ddb8279997037c9a370.bindPopup%28popup_4a8f5cb82ff34d4888498e6a6301517d%29%0A%20%20%20%20%20%20%20%20%3B%0A%0A%20%20%20%20%20%20%20%20%0A%20%20%20%20%0A%3C/script%3E onload=\"this.contentDocument.open();this.contentDocument.write(    decodeURIComponent(this.getAttribute('data-html')));this.contentDocument.close();\" allowfullscreen webkitallowfullscreen mozallowfullscreen></iframe></div></div>"
      ],
      "text/plain": [
       "<folium.folium.Map at 0x24534ddc2b0>"
      ]
     },
     "execution_count": 42,
     "metadata": {},
     "output_type": "execute_result"
    }
   ],
   "source": [
    "# Visualize parks\n",
    "map_CentralBay= folium.Map(location = [43.677993, -79.390267], zoom_start = 12)\n",
    "\n",
    "# Colormap\n",
    "colors_array = cm.gist_ncar(np.linspace(0, 1, clusterNum))\n",
    "color_map = [colors.rgb2hex(i) for i in colors_array]\n",
    "\n",
    "for lat, lng, label, cluster in zip(toronto_venues['Venue Latitude'], toronto_venues['Venue Longitude'], toronto_venues['Venue'], toronto_venues['Cluster']):\n",
    "    popup = label\n",
    "    c = 'red'\n",
    "    if cluster == 0:\n",
    "        c = color_map[cluster]\n",
    "        popup = label + '<br>' + 'Cluster ' + str(cluster + 1)\n",
    "                       \n",
    "    label = folium.Popup(popup)\n",
    "    folium.CircleMarker([lat, lng], radius=5, popup=label, color=c, fill=True, fill_color=c, fill_opacity=0.7,parse_html=False).add_to(map_CentralBay) \n",
    "    \n",
    "map_CentralBay"
   ]
  },
  {
   "cell_type": "markdown",
   "metadata": {
    "id": "EMPijgreL4ki"
   },
   "source": [
    "# Conclusion\n",
    "\n",
    "This project was a good practice to learn about the work and tasks to be performed in data science and visualization. \n",
    "\n",
    "To reach the goal like that of a company, such as knowing where to open a new location.\n",
    " Several Python libraries were used to both extract data from multiple online sources, apply cleaning on the dataset (sometimes checking one by one lines of results) and merge them with a main dataset. \n",
    "\n",
    "We also visualize the datasets, apply clustering to make the dataset suitable for implementing a machine learning algorithm (k-means) to group neighborhoods with similar coffee profiles. \n",
    "\n",
    "Foursquare API to get the data of the locals, it is really a good tool for this kind of project, but the problem using the free version only limited us to have a data frame of 50 values.\n",
    "\n",
    "Regarding Folium to show the latitudes and longitudes of the neighborhoods requires time to obtain the expected results. \n",
    "\n",
    " This project can be improved with more information with more data from surrounding cafes, probably would be having a premium subscription on foursquare. And also add more factors such as demographics."
   ]
  },
  {
   "cell_type": "code",
   "execution_count": null,
   "metadata": {
    "id": "wxQLrvuTL6kD"
   },
   "outputs": [],
   "source": []
  }
 ],
 "metadata": {
  "colab": {
   "collapsed_sections": [],
   "name": "venues.ipynb",
   "provenance": []
  },
  "kernelspec": {
   "display_name": "Python 3 (ipykernel)",
   "language": "python",
   "name": "python3"
  },
  "language_info": {
   "codemirror_mode": {
    "name": "ipython",
    "version": 3
   },
   "file_extension": ".py",
   "mimetype": "text/x-python",
   "name": "python",
   "nbconvert_exporter": "python",
   "pygments_lexer": "ipython3",
   "version": "3.9.7"
  }
 },
 "nbformat": 4,
 "nbformat_minor": 1
}
